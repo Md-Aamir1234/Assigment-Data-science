{
  "nbformat": 4,
  "nbformat_minor": 0,
  "metadata": {
    "colab": {
      "provenance": []
    },
    "kernelspec": {
      "name": "python3",
      "display_name": "Python 3"
    },
    "language_info": {
      "name": "python"
    }
  },
  "cells": [
    {
      "cell_type": "markdown",
      "source": [
        "Q1. What is multithreading in python? Why is it used? Name the module used to handle threads in python."
      ],
      "metadata": {
        "id": "jSa3Dwx-Al1d"
      }
    },
    {
      "cell_type": "code",
      "source": [
        "#Ans1.\n",
        "#Multithreading in Python is a programming concept where multiple threads of execution run concurrently within a single process.\n",
        "#It is used to improve the performance of a program by allowing it to execute multiple tasks simultaneously.\n",
        "#The \"threading\" module is used to handle threads in Python.\n"
      ],
      "metadata": {
        "id": "Ug38AyuPAjHJ"
      },
      "execution_count": 8,
      "outputs": []
    },
    {
      "cell_type": "code",
      "source": [],
      "metadata": {
        "id": "dXYhXOWmAjKG"
      },
      "execution_count": 8,
      "outputs": []
    },
    {
      "cell_type": "markdown",
      "source": [
        "Q2. Why threading module used? Write the use of the following functions:\n",
        "\n",
        " 1.activeCount()\n",
        "\n",
        " 2.currentThread()\n",
        "\n",
        " 3.enumerate()"
      ],
      "metadata": {
        "id": "evbBFleEBLFE"
      }
    },
    {
      "cell_type": "code",
      "source": [
        "#Ans2.\n",
        "#The threading module in Python is used to create, manage, and interact with threads in a Python program.\n",
        "#1. activeCount(): The activeCount() function returns the number of currently active threads in the program.\n",
        "#It can be used to monitor the current status of the threads and ensure that they are executing as expected.\n",
        "\n",
        "#2. currentThread(): The currentThread() function returns a reference to the current thread\n",
        "#It can be used to get information about the thread, such as its name and ID.\n",
        "\n",
        "#3. enumerate(): The enumerate() function returns a list of all currently active thread objects.\n",
        "#It can be used to get information about all threads in the program, such as their names and IDs, and to iterate over them to perform actions such as joining them or terminating them.\n"
      ],
      "metadata": {
        "id": "pbQeQcSHAjQJ"
      },
      "execution_count": 9,
      "outputs": []
    },
    {
      "cell_type": "code",
      "source": [],
      "metadata": {
        "id": "95P_2fBTAjS9"
      },
      "execution_count": 9,
      "outputs": []
    },
    {
      "cell_type": "markdown",
      "source": [
        "Q3. Explain the following functions :\n",
        "\n",
        "1. run()\n",
        "2. start()\n",
        "3. join()\n",
        "4. isAlive()"
      ],
      "metadata": {
        "id": "yAgh2OeeB7NO"
      }
    },
    {
      "cell_type": "code",
      "source": [
        "#Ans3.\n",
        "#1. run(): The run() function is the entry point for the thread's activity. When a new thread is created, its run() method is called and the thread begins executing.\n",
        "#2. start(): The start() function starts a new thread of execution by calling the thread's run() method in a separate thread. It initializes the thread's internal data structures and starts the thread's execution.\n",
        "#3. join(): The join() function waits for a thread to complete its execution before continuing. It is used to synchronize the main thread with the completion of a child thread.\n",
        "#4. isAlive(): The isAlive() function is used to check whether a thread is currently executing. It returns True if the thread is currently running, and False otherwise.\n"
      ],
      "metadata": {
        "id": "8F4gI1ohAkCO"
      },
      "execution_count": 10,
      "outputs": []
    },
    {
      "cell_type": "markdown",
      "source": [
        "Q4. Write a python program to create two threads. Threads one must print the list of squares and thread two must print the list of cubes."
      ],
      "metadata": {
        "id": "HgoYuVzkCU4S"
      }
    },
    {
      "cell_type": "code",
      "source": [
        "\n",
        "import threading\n",
        "def sqr() :\n",
        "  squares = [i*i for i in range(1, 11)]\n",
        "  print(\"List of Squares:\", squares)\n",
        "\n",
        "def cube() :\n",
        "  cubes =[i*i*i for i in range(1,11)]\n",
        "  print(\"List of Cubes:\",cubes)\n",
        "\n",
        "t1 = threading.Thread(target= sqr)\n",
        "t2 = threading.Thread(target= cube)\n",
        "\n",
        "t1.start()\n",
        "t2.start()\n",
        "\n",
        "\n"
      ],
      "metadata": {
        "id": "i0L_S9BrAkLG",
        "colab": {
          "base_uri": "https://localhost:8080/"
        },
        "outputId": "58cf1c8f-9bdc-4d7a-8c2d-fa36d099ed15"
      },
      "execution_count": 11,
      "outputs": [
        {
          "output_type": "stream",
          "name": "stdout",
          "text": [
            "List of Squares: [1, 4, 9, 16, 25, 36, 49, 64, 81, 100]\n",
            "List of Cubes: [1, 8, 27, 64, 125, 216, 343, 512, 729, 1000]\n"
          ]
        }
      ]
    },
    {
      "cell_type": "code",
      "source": [],
      "metadata": {
        "id": "yJfK9kckAkN_"
      },
      "execution_count": 11,
      "outputs": []
    },
    {
      "cell_type": "markdown",
      "source": [
        "Q5. State advantages and disadvantages of multithreading."
      ],
      "metadata": {
        "id": "Fx18rhmWDD27"
      }
    },
    {
      "cell_type": "code",
      "source": [
        "#Ans5.\n",
        "#Advantage :\n",
        "#1. Improved performance\n",
        "#2. Resource sharing\n",
        "#3. Responsiveness\n",
        "#4. Scalability\n",
        "\n",
        "#Disadvantage :\n",
        "#1. Complexity\n",
        "#2. Debugging\n",
        "#3. Overhead\n",
        "#4. Resource contention\n"
      ],
      "metadata": {
        "id": "ePoH5BBmAkQX"
      },
      "execution_count": 12,
      "outputs": []
    },
    {
      "cell_type": "code",
      "source": [],
      "metadata": {
        "id": "RICLGq1qAkYb"
      },
      "execution_count": 12,
      "outputs": []
    },
    {
      "cell_type": "markdown",
      "source": [
        "Q6. Explain deadlocks and race conditions."
      ],
      "metadata": {
        "id": "-_TOzNjcDWWR"
      }
    },
    {
      "cell_type": "code",
      "source": [
        "#Ans.\n",
        "#A deadlock occurs when two or more processes are unable to proceed because each is waiting for the other to do something.\n",
        "#A race condition occurs when the behavior of a system or program depends on the timing or sequence of events, and the outcome of the system is dependent on the order in which events occur.\n"
      ],
      "metadata": {
        "id": "FKHMNCO1AkbE"
      },
      "execution_count": 13,
      "outputs": []
    }
  ]
}