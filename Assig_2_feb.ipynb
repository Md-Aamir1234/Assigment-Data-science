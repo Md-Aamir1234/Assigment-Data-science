{
 "cells": [
  {
   "cell_type": "code",
   "execution_count": 1,
   "id": "20324e2a-cdf6-40a4-84b6-73c5d531211e",
   "metadata": {},
   "outputs": [],
   "source": [
    "l =[1,2,3,4,5]"
   ]
  },
  {
   "cell_type": "code",
   "execution_count": 2,
   "id": "6f788c90-19ea-454e-aa14-7578de934328",
   "metadata": {},
   "outputs": [
    {
     "name": "stdout",
     "output_type": "stream",
     "text": [
      "1 <class 'int'>\n",
      "2 <class 'int'>\n",
      "3 <class 'int'>\n",
      "4 <class 'int'>\n",
      "5 <class 'int'>\n"
     ]
    }
   ],
   "source": [
    "for i in l :\n",
    "    print(i, type(i))"
   ]
  },
  {
   "cell_type": "code",
   "execution_count": 3,
   "id": "1d07e846-5de1-4419-aec8-23c26d3b6424",
   "metadata": {},
   "outputs": [],
   "source": [
    "l1 = [\"sudh\", \"kumar\", \"krish\",\"naik\"]"
   ]
  },
  {
   "cell_type": "code",
   "execution_count": 4,
   "id": "092550a8-b7da-422c-bfd0-6d886fb9590d",
   "metadata": {},
   "outputs": [
    {
     "name": "stdout",
     "output_type": "stream",
     "text": [
      "sudh\n",
      "kumar\n",
      "krish\n",
      "naik\n"
     ]
    }
   ],
   "source": [
    "for i in l1:\n",
    "    print(i)\n",
    "    "
   ]
  },
  {
   "cell_type": "code",
   "execution_count": 5,
   "id": "5dccedbc-f999-46d9-a1ef-e6b6434cd789",
   "metadata": {},
   "outputs": [
    {
     "data": {
      "text/plain": [
       "['sudh', 'kumar', 'krish', 'naik']"
      ]
     },
     "execution_count": 5,
     "metadata": {},
     "output_type": "execute_result"
    }
   ],
   "source": [
    "l1"
   ]
  },
  {
   "cell_type": "code",
   "execution_count": 6,
   "id": "40f561c8-fa48-4cfe-bed7-4606913b4d09",
   "metadata": {},
   "outputs": [
    {
     "name": "stdout",
     "output_type": "stream",
     "text": [
      "sudh\n",
      "kumar\n",
      "krish\n",
      "naik\n",
      "do somethhing\n"
     ]
    }
   ],
   "source": [
    "for i in l1 :\n",
    "    print(i)\n",
    "else :\n",
    "    print(\"do somethhing\")"
   ]
  },
  {
   "cell_type": "code",
   "execution_count": 7,
   "id": "0593bb70-ea5e-4640-bc0b-828463eba5be",
   "metadata": {},
   "outputs": [
    {
     "name": "stdout",
     "output_type": "stream",
     "text": [
      "sudh\n",
      "kumar\n",
      "krish\n",
      "naik\n",
      "if for loop is able to complete itself then only else will execute\n"
     ]
    }
   ],
   "source": [
    "for i in l1 :\n",
    "    print(i)\n",
    "else :\n",
    "    print(\"if for loop is able to complete itself then only else will execute\")"
   ]
  },
  {
   "cell_type": "code",
   "execution_count": 8,
   "id": "bcdb8857-4e86-44a8-9a0e-ecc0950f72c0",
   "metadata": {},
   "outputs": [
    {
     "data": {
      "text/plain": [
       "['sudh', 'kumar', 'krish', 'naik']"
      ]
     },
     "execution_count": 8,
     "metadata": {},
     "output_type": "execute_result"
    }
   ],
   "source": [
    "l1 "
   ]
  },
  {
   "cell_type": "code",
   "execution_count": 9,
   "id": "1f793a46-d55f-472f-8683-274924ab4f54",
   "metadata": {},
   "outputs": [
    {
     "name": "stdout",
     "output_type": "stream",
     "text": [
      "sudh\n"
     ]
    }
   ],
   "source": [
    "for i in l1 :\n",
    "    if i == \"kumar\":\n",
    "        break\n",
    "    print(i)"
   ]
  },
  {
   "cell_type": "code",
   "execution_count": 10,
   "id": "a4b7b60f-2393-4e5b-b24d-e7d8ec4ccdb9",
   "metadata": {},
   "outputs": [
    {
     "data": {
      "text/plain": [
       "['sudh', 'kumar', 'krish', 'naik']"
      ]
     },
     "execution_count": 10,
     "metadata": {},
     "output_type": "execute_result"
    }
   ],
   "source": [
    "l1"
   ]
  },
  {
   "cell_type": "code",
   "execution_count": 11,
   "id": "7bf72a5d-ec36-4046-9c26-8313e2664fae",
   "metadata": {},
   "outputs": [
    {
     "name": "stdout",
     "output_type": "stream",
     "text": [
      "sudh\n"
     ]
    }
   ],
   "source": [
    "for i in l1:\n",
    "    if i == \"kumar\":\n",
    "        break\n",
    "    print(i)\n",
    "else :\n",
    "    print (\"execute this if for loop is able to complete itself\")"
   ]
  },
  {
   "cell_type": "code",
   "execution_count": 12,
   "id": "d621c276-7c25-4b08-bc59-ffd53a2dd7df",
   "metadata": {},
   "outputs": [
    {
     "data": {
      "text/plain": [
       "['sudh', 'kumar', 'krish', 'naik']"
      ]
     },
     "execution_count": 12,
     "metadata": {},
     "output_type": "execute_result"
    }
   ],
   "source": [
    "l1"
   ]
  },
  {
   "cell_type": "code",
   "execution_count": 13,
   "id": "97980279-0919-4c8d-a7c7-a35c5dcd6b65",
   "metadata": {},
   "outputs": [
    {
     "name": "stdout",
     "output_type": "stream",
     "text": [
      "sudh\n",
      "krish\n",
      "naik\n"
     ]
    }
   ],
   "source": [
    "for i in l1:\n",
    "    if i == \"kumar\":\n",
    "        continue\n",
    "    print(i)"
   ]
  },
  {
   "cell_type": "code",
   "execution_count": 14,
   "id": "6759db57-4f52-454a-9b19-7208aaa894ad",
   "metadata": {},
   "outputs": [
    {
     "data": {
      "text/plain": [
       "['sudh', 'kumar', 'krish', 'naik']"
      ]
     },
     "execution_count": 14,
     "metadata": {},
     "output_type": "execute_result"
    }
   ],
   "source": [
    "l1"
   ]
  },
  {
   "cell_type": "code",
   "execution_count": 15,
   "id": "1f278bd9-8bc6-41ed-9e04-46056f6eb150",
   "metadata": {},
   "outputs": [
    {
     "name": "stdout",
     "output_type": "stream",
     "text": [
      "sudh\n",
      "krish\n",
      "naik\n",
      "execute this if for loop is able to conplete itself\n"
     ]
    }
   ],
   "source": [
    "for i in l1:\n",
    "    if i == \"kumar\":\n",
    "        continue\n",
    "    print(i)\n",
    "else :\n",
    "    print(\"execute this if for loop is able to conplete itself\")"
   ]
  },
  {
   "cell_type": "code",
   "execution_count": 16,
   "id": "3d01ae38-0145-4132-929c-40c7d718ae44",
   "metadata": {},
   "outputs": [
    {
     "data": {
      "text/plain": [
       "range(0, 5)"
      ]
     },
     "execution_count": 16,
     "metadata": {},
     "output_type": "execute_result"
    }
   ],
   "source": [
    "range(5)"
   ]
  },
  {
   "cell_type": "code",
   "execution_count": 17,
   "id": "272b761f-8bab-4cb7-ad9a-fbce70fafcf1",
   "metadata": {},
   "outputs": [
    {
     "data": {
      "text/plain": [
       "[0, 1, 2, 3, 4]"
      ]
     },
     "execution_count": 17,
     "metadata": {},
     "output_type": "execute_result"
    }
   ],
   "source": [
    "list(range(5))"
   ]
  },
  {
   "cell_type": "code",
   "execution_count": 18,
   "id": "b716ef0c-e6e9-4535-909b-24eead396a01",
   "metadata": {},
   "outputs": [
    {
     "data": {
      "text/plain": [
       "[0, 1, 2, 3, 4]"
      ]
     },
     "execution_count": 18,
     "metadata": {},
     "output_type": "execute_result"
    }
   ],
   "source": [
    "list(range(0,5,1))"
   ]
  },
  {
   "cell_type": "code",
   "execution_count": 19,
   "id": "657fd382-0903-4557-b822-435b8e6e1fd1",
   "metadata": {},
   "outputs": [
    {
     "data": {
      "text/plain": [
       "[0, 2, 4, 6, 8, 10, 12, 14, 16, 18]"
      ]
     },
     "execution_count": 19,
     "metadata": {},
     "output_type": "execute_result"
    }
   ],
   "source": [
    "list(range(0,20,2))"
   ]
  },
  {
   "cell_type": "code",
   "execution_count": 20,
   "id": "6cd97302-5102-4c5e-afcd-63d0a60187a3",
   "metadata": {},
   "outputs": [
    {
     "data": {
      "text/plain": [
       "[-10, -9, -8, -7, -6, -5, -4, -3, -2, -1]"
      ]
     },
     "execution_count": 20,
     "metadata": {},
     "output_type": "execute_result"
    }
   ],
   "source": [
    "list(range(-10,0))"
   ]
  },
  {
   "cell_type": "code",
   "execution_count": 21,
   "id": "52408b38-d2c7-4896-bebf-a21104e2b3a7",
   "metadata": {},
   "outputs": [
    {
     "data": {
      "text/plain": [
       "['sudh', 'kumar', 'krish', 'naik']"
      ]
     },
     "execution_count": 21,
     "metadata": {},
     "output_type": "execute_result"
    }
   ],
   "source": [
    "l1"
   ]
  },
  {
   "cell_type": "code",
   "execution_count": 22,
   "id": "9d9d9396-081e-43b3-bf92-ca9387d2ce25",
   "metadata": {},
   "outputs": [
    {
     "data": {
      "text/plain": [
       "4"
      ]
     },
     "execution_count": 22,
     "metadata": {},
     "output_type": "execute_result"
    }
   ],
   "source": [
    "len(l1)"
   ]
  },
  {
   "cell_type": "code",
   "execution_count": 23,
   "id": "6b7ac96f-46f0-4e48-b17a-7334f608c745",
   "metadata": {},
   "outputs": [
    {
     "data": {
      "text/plain": [
       "[0, 1, 2, 3]"
      ]
     },
     "execution_count": 23,
     "metadata": {},
     "output_type": "execute_result"
    }
   ],
   "source": [
    "list(range(len(l1)))"
   ]
  },
  {
   "cell_type": "code",
   "execution_count": 24,
   "id": "9479c0af-8396-4843-9196-6890d0f40d9c",
   "metadata": {},
   "outputs": [
    {
     "name": "stdout",
     "output_type": "stream",
     "text": [
      "sudh\n",
      "kumar\n",
      "krish\n",
      "naik\n"
     ]
    }
   ],
   "source": [
    "for i in range(len(l1)):\n",
    "    print(l1[i])"
   ]
  },
  {
   "cell_type": "code",
   "execution_count": 25,
   "id": "4e962547-0469-4905-a87f-8cabb7e62e46",
   "metadata": {},
   "outputs": [
    {
     "data": {
      "text/plain": [
       "[3, 2, 1, 0]"
      ]
     },
     "execution_count": 25,
     "metadata": {},
     "output_type": "execute_result"
    }
   ],
   "source": [
    "list(range(len(l1)-1,-1,-1))"
   ]
  },
  {
   "cell_type": "code",
   "execution_count": 26,
   "id": "fafa8067-3eaf-43ea-af7f-d532b2ea5610",
   "metadata": {},
   "outputs": [
    {
     "data": {
      "text/plain": [
       "3"
      ]
     },
     "execution_count": 26,
     "metadata": {},
     "output_type": "execute_result"
    }
   ],
   "source": [
    "len(l1)-1"
   ]
  },
  {
   "cell_type": "code",
   "execution_count": 27,
   "id": "937713f8-9735-4e64-83a6-d482dca69745",
   "metadata": {},
   "outputs": [
    {
     "data": {
      "text/plain": [
       "range(3, -1)"
      ]
     },
     "execution_count": 27,
     "metadata": {},
     "output_type": "execute_result"
    }
   ],
   "source": [
    "range(len(l1)-1,-1)"
   ]
  },
  {
   "cell_type": "code",
   "execution_count": 28,
   "id": "5b4862e3-2bf1-4ee4-96e9-09062d777502",
   "metadata": {},
   "outputs": [
    {
     "name": "stdout",
     "output_type": "stream",
     "text": [
      "naik\n",
      "krish\n",
      "kumar\n",
      "sudh\n"
     ]
    }
   ],
   "source": [
    "for i in range(len(l1)-1,-1,-1):\n",
    "    print(l1[i])"
   ]
  },
  {
   "cell_type": "code",
   "execution_count": 29,
   "id": "227ef7eb-317e-477a-bab3-b02ec7449210",
   "metadata": {},
   "outputs": [
    {
     "data": {
      "text/plain": [
       "['sudh', 'kumar', 'krish', 'naik']"
      ]
     },
     "execution_count": 29,
     "metadata": {},
     "output_type": "execute_result"
    }
   ],
   "source": [
    "l1"
   ]
  },
  {
   "cell_type": "code",
   "execution_count": 30,
   "id": "26e77c1c-a740-4ff5-bbcf-061e564a3ce2",
   "metadata": {},
   "outputs": [],
   "source": [
    "l2 = [23,3,45,56,76,456,87,56,456,45,3,67,48,67,20]"
   ]
  },
  {
   "cell_type": "code",
   "execution_count": 31,
   "id": "f72616ce-1d8b-4f25-9005-897b02f7b98c",
   "metadata": {},
   "outputs": [
    {
     "data": {
      "text/plain": [
       "[0, 2, 4, 6, 8, 10, 12, 14]"
      ]
     },
     "execution_count": 31,
     "metadata": {},
     "output_type": "execute_result"
    }
   ],
   "source": [
    "list(range(0 ,len(l2) , 2))"
   ]
  },
  {
   "cell_type": "code",
   "execution_count": 32,
   "id": "99123378-db0a-481d-80ae-88fcd922ca86",
   "metadata": {},
   "outputs": [
    {
     "name": "stdout",
     "output_type": "stream",
     "text": [
      "23\n",
      "45\n",
      "76\n",
      "87\n",
      "456\n",
      "3\n",
      "48\n",
      "20\n"
     ]
    }
   ],
   "source": [
    "for i in range(0, len(l2) , 2):\n",
    "    print(l2[i])"
   ]
  },
  {
   "cell_type": "code",
   "execution_count": 33,
   "id": "f8fc4583-f0a1-43e7-b350-5d08c4116fec",
   "metadata": {},
   "outputs": [
    {
     "data": {
      "text/plain": [
       "23"
      ]
     },
     "execution_count": 33,
     "metadata": {},
     "output_type": "execute_result"
    }
   ],
   "source": [
    "l2[0]"
   ]
  },
  {
   "cell_type": "code",
   "execution_count": 34,
   "id": "90b004ee-66e7-4078-b628-350689e7252b",
   "metadata": {},
   "outputs": [],
   "source": [
    "l = [1,2,3,4,5,6,7,8,98]"
   ]
  },
  {
   "cell_type": "code",
   "execution_count": 35,
   "id": "57ce95d7-dfcf-4846-9e26-60bae859bacd",
   "metadata": {},
   "outputs": [
    {
     "data": {
      "text/plain": [
       "134"
      ]
     },
     "execution_count": 35,
     "metadata": {},
     "output_type": "execute_result"
    }
   ],
   "source": [
    "sum(l)"
   ]
  },
  {
   "cell_type": "code",
   "execution_count": 36,
   "id": "7634850a-fbd1-4a64-998a-3c0c463ea910",
   "metadata": {},
   "outputs": [
    {
     "data": {
      "text/plain": [
       "134"
      ]
     },
     "execution_count": 36,
     "metadata": {},
     "output_type": "execute_result"
    }
   ],
   "source": [
    "result = 0\n",
    "for i in l :\n",
    "    result = result + i\n",
    "result"
   ]
  },
  {
   "cell_type": "code",
   "execution_count": 37,
   "id": "fc86e644-e97e-413f-83d4-28fec5b67952",
   "metadata": {},
   "outputs": [],
   "source": [
    "t = (1,2,3,4,5,6)"
   ]
  },
  {
   "cell_type": "raw",
   "id": "1145b3ae-fe37-452f-80ee-0ac83d7f4416",
   "metadata": {},
   "source": [
    "for i in t :\n",
    "    print(i)\n",
    "    "
   ]
  },
  {
   "cell_type": "code",
   "execution_count": 38,
   "id": "8569d58e-5d51-478d-9cc5-370e9661c90f",
   "metadata": {},
   "outputs": [
    {
     "data": {
      "text/plain": [
       "21"
      ]
     },
     "execution_count": 38,
     "metadata": {},
     "output_type": "execute_result"
    }
   ],
   "source": [
    "result = 0\n",
    "for i in t:\n",
    "    result = result + i\n",
    "result"
   ]
  },
  {
   "cell_type": "code",
   "execution_count": 39,
   "id": "4268de61-4ff0-46a8-b297-d619e6bd949d",
   "metadata": {},
   "outputs": [],
   "source": [
    "t = (1,2,3,4,5)"
   ]
  },
  {
   "cell_type": "code",
   "execution_count": 40,
   "id": "81d34b2b-7c0a-459a-9933-a3c5c3d756ee",
   "metadata": {},
   "outputs": [
    {
     "name": "stdout",
     "output_type": "stream",
     "text": [
      "1\n",
      "2\n",
      "3\n",
      "4\n",
      "5\n"
     ]
    }
   ],
   "source": [
    "for i in t:\n",
    "    print(i)"
   ]
  },
  {
   "cell_type": "code",
   "execution_count": 41,
   "id": "c081ff60-1f0a-478d-9e00-4a0e6cc442aa",
   "metadata": {},
   "outputs": [],
   "source": [
    "s= {1,2,3,4,5, \"sudh\", \"pwskills\"}"
   ]
  },
  {
   "cell_type": "code",
   "execution_count": 42,
   "id": "f73318b3-60a1-4574-afc9-e7f0cab6ca73",
   "metadata": {},
   "outputs": [
    {
     "name": "stdout",
     "output_type": "stream",
     "text": [
      "1\n",
      "2\n",
      "3\n",
      "4\n",
      "5\n",
      "sudh\n",
      "pwskills\n"
     ]
    }
   ],
   "source": [
    "for i in s :\n",
    "    print(i)"
   ]
  },
  {
   "cell_type": "code",
   "execution_count": 43,
   "id": "f082e0c1-6277-4cfa-a50e-41fbe178f2f2",
   "metadata": {},
   "outputs": [],
   "source": [
    "s = {1,2,3,4,5,6, \"sudh\", \"pwskills\"}"
   ]
  },
  {
   "cell_type": "code",
   "execution_count": 44,
   "id": "fb9b7334-6d2a-418f-ae72-e8bb0057bba4",
   "metadata": {},
   "outputs": [
    {
     "name": "stdout",
     "output_type": "stream",
     "text": [
      "1\n",
      "2\n",
      "3\n",
      "4\n",
      "5\n",
      "6\n",
      "sudh\n",
      "pwskills\n"
     ]
    }
   ],
   "source": [
    "for i in s :\n",
    "    print(i)"
   ]
  },
  {
   "cell_type": "code",
   "execution_count": 45,
   "id": "c2422bf5-6e4a-480a-b5fd-2b50d559a9af",
   "metadata": {},
   "outputs": [],
   "source": [
    "s1 = \"pwskills\""
   ]
  },
  {
   "cell_type": "code",
   "execution_count": 46,
   "id": "8f9eca90-9959-467d-92ce-d1b415592fd2",
   "metadata": {},
   "outputs": [
    {
     "name": "stdout",
     "output_type": "stream",
     "text": [
      "p\n",
      "w\n",
      "s\n",
      "k\n",
      "i\n",
      "l\n",
      "l\n",
      "s\n"
     ]
    }
   ],
   "source": [
    "for i in s1:\n",
    "    print(i)"
   ]
  },
  {
   "cell_type": "code",
   "execution_count": 47,
   "id": "075b512b-baaf-48ae-bce5-f3ac871a5ea2",
   "metadata": {},
   "outputs": [],
   "source": [
    "d = {\"name\": \"sudh\", \"class\" : \"data science master \", \"topic\" : [\"python\", \"statistic\", \"machine learning\",\"DL\", \"CV\", \"NLP\", \"resume\", \"interview\" ]}"
   ]
  },
  {
   "cell_type": "code",
   "execution_count": 48,
   "id": "7a3f3087-807e-42fe-9bfe-cf9a9ea9c7b2",
   "metadata": {},
   "outputs": [
    {
     "data": {
      "text/plain": [
       "{'name': 'sudh',\n",
       " 'class': 'data science master ',\n",
       " 'topic': ['python',\n",
       "  'statistic',\n",
       "  'machine learning',\n",
       "  'DL',\n",
       "  'CV',\n",
       "  'NLP',\n",
       "  'resume',\n",
       "  'interview']}"
      ]
     },
     "execution_count": 48,
     "metadata": {},
     "output_type": "execute_result"
    }
   ],
   "source": [
    "d"
   ]
  },
  {
   "cell_type": "code",
   "execution_count": 49,
   "id": "1b91d366-55aa-46cf-8ef2-ea88ff0fa02c",
   "metadata": {},
   "outputs": [
    {
     "data": {
      "text/plain": [
       "'sudh'"
      ]
     },
     "execution_count": 49,
     "metadata": {},
     "output_type": "execute_result"
    }
   ],
   "source": [
    "d[\"name\"]"
   ]
  },
  {
   "cell_type": "code",
   "execution_count": 50,
   "id": "0bcfc056-9841-4010-b8ba-b37ddffa4bd6",
   "metadata": {},
   "outputs": [
    {
     "data": {
      "text/plain": [
       "dict_keys(['name', 'class', 'topic'])"
      ]
     },
     "execution_count": 50,
     "metadata": {},
     "output_type": "execute_result"
    }
   ],
   "source": [
    "d.keys()"
   ]
  },
  {
   "cell_type": "code",
   "execution_count": 51,
   "id": "497ecb67-f4c6-495d-ad99-8dff508086b3",
   "metadata": {},
   "outputs": [
    {
     "name": "stdout",
     "output_type": "stream",
     "text": [
      "sudh\n",
      "data science master \n",
      "['python', 'statistic', 'machine learning', 'DL', 'CV', 'NLP', 'resume', 'interview']\n"
     ]
    }
   ],
   "source": [
    "for i in d.keys():\n",
    "    print(d[i])"
   ]
  },
  {
   "cell_type": "code",
   "execution_count": 52,
   "id": "254f137c-e42d-4777-ac24-7e3d9fb3e227",
   "metadata": {},
   "outputs": [
    {
     "data": {
      "text/plain": [
       "dict_values(['sudh', 'data science master ', ['python', 'statistic', 'machine learning', 'DL', 'CV', 'NLP', 'resume', 'interview']])"
      ]
     },
     "execution_count": 52,
     "metadata": {},
     "output_type": "execute_result"
    }
   ],
   "source": [
    "d.values()"
   ]
  },
  {
   "cell_type": "code",
   "execution_count": 53,
   "id": "b92cffbc-323b-45c5-9fb2-2f6a2aad0590",
   "metadata": {},
   "outputs": [
    {
     "name": "stdout",
     "output_type": "stream",
     "text": [
      "sudh\n",
      "data science master \n",
      "['python', 'statistic', 'machine learning', 'DL', 'CV', 'NLP', 'resume', 'interview']\n"
     ]
    }
   ],
   "source": [
    "for i in d.values():\n",
    "    print(i)"
   ]
  },
  {
   "cell_type": "code",
   "execution_count": 54,
   "id": "692a0cca-81a0-40f6-9a50-261d45b05050",
   "metadata": {},
   "outputs": [
    {
     "data": {
      "text/plain": [
       "dict_items([('name', 'sudh'), ('class', 'data science master '), ('topic', ['python', 'statistic', 'machine learning', 'DL', 'CV', 'NLP', 'resume', 'interview'])])"
      ]
     },
     "execution_count": 54,
     "metadata": {},
     "output_type": "execute_result"
    }
   ],
   "source": [
    "d.items()"
   ]
  },
  {
   "cell_type": "code",
   "execution_count": 55,
   "id": "6f4c1b96-2e12-4f47-bb92-b9fa0b265a9e",
   "metadata": {},
   "outputs": [
    {
     "name": "stdout",
     "output_type": "stream",
     "text": [
      "('name', 'sudh')\n",
      "('class', 'data science master ')\n",
      "('topic', ['python', 'statistic', 'machine learning', 'DL', 'CV', 'NLP', 'resume', 'interview'])\n"
     ]
    }
   ],
   "source": [
    "for i in d.items():\n",
    "    print(i)"
   ]
  },
  {
   "cell_type": "code",
   "execution_count": 56,
   "id": "4f0c5150-882b-49a6-b9dc-e5cc336326c2",
   "metadata": {},
   "outputs": [
    {
     "data": {
      "text/plain": [
       "[1, 2, 3, 4, 5, 6, 7, 8, 98]"
      ]
     },
     "execution_count": 56,
     "metadata": {},
     "output_type": "execute_result"
    }
   ],
   "source": [
    "l"
   ]
  },
  {
   "cell_type": "markdown",
   "id": "9ba2fa8b-76e6-4047-ab89-a1358046e010",
   "metadata": {},
   "source": [
    "Q1.  Explain with an example each when to use a for loop and a while loop.\n"
   ]
  },
  {
   "cell_type": "code",
   "execution_count": null,
   "id": "e24f7114-3347-4a30-804c-dbab63859a77",
   "metadata": {},
   "outputs": [],
   "source": [
    "1.When to use a for loop :\n",
    "    \n",
    "when you know the number of iteration :\n",
    "For loops are ideal when you know in  advance how many times you want to repeat a block of code. You specify the number of iteration using \n",
    " a counter or a range.\n",
    "    \n",
    "2. when to use a while loop :\n",
    "    \n",
    "when you don't known the number of iteration in advance : While loopa are  used when you want to repeat a block of code until a certain \n",
    "condition is met or becomes false . You may not know in advance how many iteration will be needed.\n",
    "When you need more complex looping conditions: While loop are most flexible for complex looping conditions because you can specify any \n",
    "Boolean expression as the condition."
   ]
  },
  {
   "cell_type": "markdown",
   "id": "e0979003-5223-4f59-bb16-964dfc59a03d",
   "metadata": {},
   "source": [
    "Q2.  Write a python program to print the sum and product of the first 10 natural numbers using for \n",
    "and while loop"
   ]
  },
  {
   "cell_type": "code",
   "execution_count": 1,
   "id": "83e0cf21-9b5b-4987-aba0-ce71d2549ccd",
   "metadata": {},
   "outputs": [
    {
     "name": "stdout",
     "output_type": "stream",
     "text": [
      "10\n",
      "19\n",
      "27\n",
      "34\n",
      "40\n",
      "45\n",
      "49\n",
      "52\n",
      "54\n",
      "55\n",
      "0\n",
      "1\n",
      "3\n",
      "6\n",
      "10\n",
      "15\n",
      "21\n",
      "28\n",
      "36\n",
      "45\n",
      "55\n"
     ]
    }
   ],
   "source": [
    "#program to find sum of 10 natural no. using while loop\n",
    "\n",
    "a  = 10 \n",
    "sum = 0\n",
    "while a > 0 :\n",
    "    sum = sum + a\n",
    "    a = a -1\n",
    "    print(sum)\n",
    "    \n",
    "# program to find sum of 10 natural no. using For loop\n",
    "\n",
    "s = 10 \n",
    "sum = 0 \n",
    "for i in range(s + 1) :\n",
    "    sum = sum + i\n",
    "    print(sum)"
   ]
  },
  {
   "cell_type": "markdown",
   "id": "389c2ed2-f1a8-48d8-bca3-0c36c40cf447",
   "metadata": {},
   "source": [
    "Q3. Create a python program to compute the electricity bill for a household.\n",
    "The per-unit charges in rupees are as follows: For the first 100 units, the user will be charged Rs. 4.5 per \n",
    "unit, for the next 100 units, the user will be charged Rs. 6 per unit, and for the next 100 units, the user will \n",
    "be charged Rs. 10 per unit, After 300 units and above the user will be charged Rs. 20 per unit.\n",
    "\n",
    "\n",
    "You are required to take the units of electricity consumed in a month from the user as input.\n",
    "\n",
    "\n",
    "Your program must pass this test case: when the unit of electricity consumed by the user in a month is \n",
    "310, the total electricity bill should be 2250."
   ]
  },
  {
   "cell_type": "code",
   "execution_count": null,
   "id": "2c65302c-3651-493e-b5f1-b35d036fafef",
   "metadata": {},
   "outputs": [],
   "source": [
    "# Answer 3rd \n",
    "unit = int(input(\"Enter the unit to be consumed\"))\n",
    "cost = 0\n",
    "if unit/300 >= 1 :\n",
    "    cost = 2050 + (unit -300)*20\n",
    "    unit = 0 \n",
    "    \n",
    "elif unit/200 >= 1 :\n",
    "    cost = 1050 + (unit - 200)*10\n",
    "    unit = 0 \n",
    "    \n",
    "elif unit/100 >= 1 :\n",
    "    cost = 450 + (unit - 100)*6\n",
    "    unit = 0 \n",
    "    \n",
    "else :\n",
    "    cost = unit*4.5\n",
    "    \n",
    "    print(cost)\n",
    "    \n",
    "    "
   ]
  },
  {
   "cell_type": "markdown",
   "id": "b518c177-2318-4a6b-b2f6-3f457c980d50",
   "metadata": {},
   "source": [
    "Q4. Create a list of numbers from 1 to 100. Use for loop and while loop to calculate the cube of each \n",
    "number and if the cube of that number is divisible by 4 or 5 then append that number in a list and print \n",
    "that list"
   ]
  },
  {
   "cell_type": "code",
   "execution_count": null,
   "id": "3d5308f8-0c55-47bd-a3df-ed7c5efadae3",
   "metadata": {},
   "outputs": [],
   "source": [
    "Answer 4\n",
    "# Using while loop and for loop \n",
    "\n",
    "l1 = []\n",
    "l2 = []\n",
    "i = 1\n",
    "while i <= 100 :\n",
    "    l1.append(i)\n",
    "    i = i + 1\n",
    "    \n",
    "    l1 = [i*i*i for i in l1]\n",
    "    for i in l1 :\n",
    "        if i % 4 == 0 , or i %5 == 0 :\n",
    "            l2.append(i)"
   ]
  },
  {
   "cell_type": "markdown",
   "id": "df2a3889-fda8-4b26-893b-4d11fdc70f41",
   "metadata": {},
   "source": [
    "Q5.  Write a program to filter count vowels in the below-given string.\n",
    "\n",
    "string = \"I want to become a data scientist\""
   ]
  },
  {
   "cell_type": "code",
   "execution_count": null,
   "id": "a58c33a1-4833-4fe8-be80-874d7cddda08",
   "metadata": {},
   "outputs": [],
   "source": []
  },
  {
   "cell_type": "code",
   "execution_count": null,
   "id": "14575caf-b23d-41bf-a891-33f0fb21e698",
   "metadata": {},
   "outputs": [],
   "source": []
  },
  {
   "cell_type": "code",
   "execution_count": null,
   "id": "ee6cc631-b6e8-4913-8454-f9a6cb2106c8",
   "metadata": {},
   "outputs": [],
   "source": []
  },
  {
   "cell_type": "code",
   "execution_count": null,
   "id": "2453c96a-4a2a-429f-be5d-5a0986c08240",
   "metadata": {},
   "outputs": [],
   "source": []
  }
 ],
 "metadata": {
  "kernelspec": {
   "display_name": "Python 3 (ipykernel)",
   "language": "python",
   "name": "python3"
  },
  "language_info": {
   "codemirror_mode": {
    "name": "ipython",
    "version": 3
   },
   "file_extension": ".py",
   "mimetype": "text/x-python",
   "name": "python",
   "nbconvert_exporter": "python",
   "pygments_lexer": "ipython3",
   "version": "3.10.8"
  }
 },
 "nbformat": 4,
 "nbformat_minor": 5
}
