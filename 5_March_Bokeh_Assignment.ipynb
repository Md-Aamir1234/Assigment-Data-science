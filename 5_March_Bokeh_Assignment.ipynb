{
  "nbformat": 4,
  "nbformat_minor": 0,
  "metadata": {
    "colab": {
      "provenance": []
    },
    "kernelspec": {
      "name": "python3",
      "display_name": "Python 3"
    },
    "language_info": {
      "name": "python"
    }
  },
  "cells": [
    {
      "cell_type": "markdown",
      "source": [
        "Q1. How can you create a Bokeh plot using Python code?\n"
      ],
      "metadata": {
        "id": "AHYMP1Qhq0kg"
      }
    },
    {
      "cell_type": "code",
      "source": [
        "#Ans1.\n",
        "\n",
        "from bokeh.plotting import figure , output_file, show\n",
        "\n",
        "x = [2,3,4,5,6,7]\n",
        "y = [3,4,5,6,7,8]\n",
        "p = figure(title = \"My Plot\" , x_axis_label = \"X\" , y_axis_label = \"Y\")\n",
        "p.scatter (x,y , color = 'green' , size = 15)\n",
        "output_file (\"myplot.html\")\n",
        "show(p)"
      ],
      "metadata": {
        "id": "LYKwuy2Asur-"
      },
      "execution_count": 11,
      "outputs": []
    },
    {
      "cell_type": "markdown",
      "source": [
        "Q2.What are glyphs in Bokeh, and how can you add them to a Bokeh plot ? Explain with an example."
      ],
      "metadata": {
        "id": "TJpLvEYzq0oP"
      }
    },
    {
      "cell_type": "code",
      "source": [
        "#Ans.\n",
        "#Glyphs are the basic visual building blocks in Bokeh that represent data points in a plot.\n",
        "#They are geometric shapes such as circles, squares, and triangles, and can be customized with various properties like size, color, and transparency.\n",
        "#To add glyphs to a Bokeh plot, we can use glyph methods like circle(), line(), square().\n",
        "\n",
        "from bokeh.plotting import figure , show\n",
        "x = [1,2,3,4,5]\n",
        "y = [4,5,6,3,2]\n",
        "\n",
        "# Create a new plot with a title and axis labels\n",
        "p = figure (title = \"My plot\" , x_axis_label = 'X', y_axis_label = 'Y')\n",
        "\n",
        "# add circle to the plot using the circle () method\n",
        "p.circle(x,y , size = 14 , color= 'blue')\n",
        "\n",
        "# Display the plot\n",
        "show(p)"
      ],
      "metadata": {
        "id": "H_IVGdJusvbW"
      },
      "execution_count": 12,
      "outputs": []
    },
    {
      "cell_type": "code",
      "source": [],
      "metadata": {
        "id": "2uG__IR02srS"
      },
      "execution_count": null,
      "outputs": []
    },
    {
      "cell_type": "markdown",
      "source": [
        "Q3. How can you customize the appearance of a Bokeh plot, including the axes, title , and legend?"
      ],
      "metadata": {
        "id": "1FULWy33q0x_"
      }
    },
    {
      "cell_type": "code",
      "source": [
        "#Ans3.\n",
        "#We can customize various aspects of a Bokeh plot using the available attributes and methods of the figure object.\n",
        "#1. Axis labels and titles: we can set the x and y axis labels and the plot title using the x_axis_label, y_axis_label, and title attributes of the figure object, respectively.\n",
        "p = figure(title='My Plot', x_axis_label='X', y_axis_label='Y')\n",
        "\n",
        "#2. Axis ticks and grid lines: You can control the axis ticks and grid lines using the axis attribute of the figure object.\n",
        "p.axis.axis_label_text_font_size = '14pt'  # set axis label font size\n",
        "p.axis.axis_label_text_font_style = 'bold'  # set axis label font style\n",
        "p.axis.major_label_text_font_size = '12pt'  # set axis tick label font size\n",
        "p.axis.major_tick_line_color = None  # remove major tick lines\n",
        "p.axis.minor_tick_line_color = None  # remove minor tick lines\n",
        "p.ygrid.grid_line_color = None  # remove y-axis grid lines\n",
        "p.xaxis[0].ticker.interval = 0.5  # set x-axis tick interval\n",
        "\n",
        "#3. Legend: You can add a legend to your plot using the legend attribute of the glyph renderer object.\n",
        "renderer = p.circle(x, y, size=10, color='blue', legend_label='data points')\n",
        "p.legend.location = 'top_left'  # set the legend position\n",
        "p.legend.title = 'Legend'  # set the legend title\n",
        "p.legend.title_text_font_style = 'bold'  # set the legend title font style\n",
        "p.legend.label_text_font_size = '12pt'  # set the legend label font size\n",
        "\n",
        "#4. Colors and line styles: You can customize the colors and line styles of the glyphs using the color, fill_color, line_color, line_width, line_dash, and alpha properties of the glyph renderer object.\n",
        "renderer = p.circle(x, y, size=10, color='red', line_width=2)"
      ],
      "metadata": {
        "id": "SKxxW4wKME82"
      },
      "execution_count": null,
      "outputs": []
    },
    {
      "cell_type": "markdown",
      "source": [
        "Q4. What is a Bokeh server , and how can you use it to create interactive plots that can be updated in real time?"
      ],
      "metadata": {
        "id": "YFqlH8jsq02v"
      }
    },
    {
      "cell_type": "code",
      "source": [
        "#Ans4.\n",
        "#A Bokeh server is a Python application that allows you to create and serve interactive Bokeh plots and applications on the web. With a Bokeh server, you can create dynamic, interactive plots that can be updated in real time based on user input or other events.\n",
        "\n",
        "#Define the Bokeh plot or application using the Bokeh library, as you would with a regular Bokeh plot.\n",
        "#Create a Bokeh server application by importing the curdoc function from the Bokeh library and calling it at the beginning of your code.\n",
        "#Define the function or class that creates the Bokeh plot or application. This function or class should take no arguments and return the Bokeh plot or application object.\n",
        "#Use the curdoc().add_root() function to add the Bokeh plot or application object to the current document.\n",
        "#Start the Bokeh server by running the bokeh serve command in your terminal or command prompt, followed by the name of your Python script.\n",
        "\n",
        "#Once the Bokeh server is running, we can view your interactive Bokeh plot or application in a web browser at the specified URL.\n",
        "#Any updates or interactions with the plot or application will be handled by the Bokeh server in real time.\n",
        "\n",
        "#To update the Bokeh plot or application in real time, we can use Bokeh's built-in callbacks feature, which allows you to define a Python function that will be called whenever a specified event occurs, such as a button click or a change in a slider value."
      ],
      "metadata": {
        "id": "eJC_VnuJsw22"
      },
      "execution_count": 9,
      "outputs": []
    },
    {
      "cell_type": "markdown",
      "source": [
        "Q5. How can you embed a Bokeh plot into a web page or dashboard using Flask or Django?"
      ],
      "metadata": {
        "id": "5l95EKwSq06Z"
      }
    },
    {
      "cell_type": "code",
      "source": [
        "#Ans5.\n",
        "#Bokeh plots can be easily embedded into web pages or dashboards created with Flask or Django web frameworks.\n",
        "#embedding Bokeh plots in web pages or dashboards created with Flask or Django is straightforward and allows you to easily share your data visualizations with others on the web.\n",
        "#Flask:\n",
        "#Import the necessary libraries: flask, bokeh, and bokeh.embed.\n",
        "#Create a Flask app instance.\n",
        "#Define a route for the web page where you want to display the Bokeh plot.\n",
        "#Define a function to create the Bokeh plot, using the Bokeh library as usual.\n",
        "#Use the bokeh.embed.json_item() function to convert the Bokeh plot to JSON format.\n",
        "#Pass the JSON data to your HTML template using Flask's render_template() function.\n",
        "#In your HTML template, use JavaScript to create the Bokeh plot using the Bokeh.embed.embed_item() function."
      ],
      "metadata": {
        "id": "E9toKOaLsxiu"
      },
      "execution_count": 10,
      "outputs": []
    },
    {
      "cell_type": "code",
      "source": [],
      "metadata": {
        "id": "iROgZXRU5lcW"
      },
      "execution_count": null,
      "outputs": []
    }
  ]
}