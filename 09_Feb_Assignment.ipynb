{
  "nbformat": 4,
  "nbformat_minor": 0,
  "metadata": {
    "colab": {
      "provenance": []
    },
    "kernelspec": {
      "name": "python3",
      "display_name": "Python 3"
    },
    "language_info": {
      "name": "python"
    }
  },
  "cells": [
    {
      "cell_type": "markdown",
      "source": [
        "Q1, Create a vehicle class with an init method having instance variables as name_of_vehicle, max_speed\n",
        "and average_of_vehicle."
      ],
      "metadata": {
        "id": "matZBTOsFUb6"
      }
    },
    {
      "cell_type": "code",
      "source": [
        "class vehicle() :\n",
        "\n",
        "  def __init__(self, name_of_vehicle ,max_speed, average_of_vehicle) :\n",
        "    self.name_of_vehicle = name_of_vehicle\n",
        "    self.max_speed = max_speed\n",
        "    self.average_of_vehicle = average_of_vehicle\n",
        "\n",
        "vehicle =vehicle(\"Mercedez_Benz\" ,250,75)\n",
        "print(vehicle.name_of_vehicle)"
      ],
      "metadata": {
        "id": "rKkSz4NYD1Hb",
        "colab": {
          "base_uri": "https://localhost:8080/"
        },
        "outputId": "8ca94d05-7479-4dfa-b1e5-151dd374ddea"
      },
      "execution_count": 18,
      "outputs": [
        {
          "output_type": "stream",
          "name": "stdout",
          "text": [
            "Mercedez_Benz\n"
          ]
        }
      ]
    },
    {
      "cell_type": "code",
      "source": [],
      "metadata": {
        "id": "0k8I8xgIFtVf"
      },
      "execution_count": 18,
      "outputs": []
    },
    {
      "cell_type": "markdown",
      "source": [
        "Q2.  Create a child class car from the vehicle class created in Que 1, which will inherit the vehicle class.\n",
        "Create a method named seating_capacity which takes capacity as an argument and returns the name of\n",
        "the vehicle and its seating capacity."
      ],
      "metadata": {
        "id": "qJirFV7fEKyN"
      }
    },
    {
      "cell_type": "code",
      "source": [
        "class car (vehicle) :\n",
        "  def seating_capacity(self, capacity) :\n",
        "    return f\" {self.name_of_vehicle} with seating capacity of {capacity}\""
      ],
      "metadata": {
        "id": "nLMCxWOAD1Kl"
      },
      "execution_count": 19,
      "outputs": []
    },
    {
      "cell_type": "code",
      "source": [],
      "metadata": {
        "id": "ER9fWC6UFrG8"
      },
      "execution_count": 19,
      "outputs": []
    },
    {
      "cell_type": "markdown",
      "source": [
        "Q3. What is multiple inheritance? Write a python code to demonstrate multiple inheritance.\n"
      ],
      "metadata": {
        "id": "pfAB0VOQEPlm"
      }
    },
    {
      "cell_type": "code",
      "source": [
        "class Parent1 :\n",
        "  def test_class1(self) :\n",
        "    print(\"this is a parent class1\")\n",
        "\n",
        "class Parent2 :\n",
        "  def test_class2(self) :\n",
        "    print(\"this is a parent class2\")\n",
        "\n",
        "class child (Parent1 , Parent2) :\n",
        "  def test_class3 (self) :\n",
        "    print(\"this is a child class3\")\n",
        "\n",
        "c = child()\n",
        "c.test_class1()\n",
        "c.test_class2()\n",
        "c.test_class3()"
      ],
      "metadata": {
        "id": "haSdvQ7hD1Rk",
        "colab": {
          "base_uri": "https://localhost:8080/"
        },
        "outputId": "539ab56c-2c4d-4653-a7c3-0a2b8ddcc779"
      },
      "execution_count": 23,
      "outputs": [
        {
          "output_type": "stream",
          "name": "stdout",
          "text": [
            "this is a parent class1\n",
            "this is a parent class2\n",
            "this is a child class3\n"
          ]
        }
      ]
    },
    {
      "cell_type": "code",
      "source": [],
      "metadata": {
        "id": "0AjPR0nfgdv8"
      },
      "execution_count": 20,
      "outputs": []
    },
    {
      "cell_type": "markdown",
      "source": [
        "Q4. What are getter and setter in python? Create a class and create a getter and a setter method in this\n",
        "class."
      ],
      "metadata": {
        "id": "MyZ16kJ4EVZ8"
      }
    },
    {
      "cell_type": "code",
      "source": [
        "#Ans.\n",
        "#Getters are used to retrieve the value of an object's attribute, and setters are used to set the value of an object's attribute.\n",
        "class Person :\n",
        "  def __init__(self,name) :\n",
        "    self._name = name\n",
        "\n",
        "  @property\n",
        "  def name (self) :\n",
        "    return self._name\n",
        "\n",
        "  @name.setter\n",
        "  def name(self, value) :\n",
        "    if not isinstance (value ,str) :\n",
        "      raise TypeError (\"Name must be a string\")\n",
        "    self._name = value"
      ],
      "metadata": {
        "id": "ZN6scpFCD1VJ"
      },
      "execution_count": 21,
      "outputs": []
    },
    {
      "cell_type": "code",
      "source": [],
      "metadata": {
        "id": "8hjAquluD1b-"
      },
      "execution_count": 21,
      "outputs": []
    },
    {
      "cell_type": "markdown",
      "source": [
        "Q5.What is method overriding in python? Write a python code to demonstrate method overriding.\n"
      ],
      "metadata": {
        "id": "YgD6-V3QEgmj"
      }
    },
    {
      "cell_type": "code",
      "source": [
        "#Ans.\n",
        "#Method overriding is a feature of object-oriented programming that allows a subclass to provide a new implementation for a method that is already defined in its parent class.\n",
        "#The new implementation in the subclass \"overrides\" the original implementation in the parent class.\n",
        "\n",
        "class Animal:\n",
        "\n",
        "  def make_sound (self) :\n",
        "    return \"Some generic animal sound\"\n",
        "\n",
        "class Cat(Animal) :\n",
        "  def make_sound(self) :\n",
        "    return \"Meoow\"\n",
        "\n",
        "animal = Animal()\n",
        "print(animal.make_sound())\n",
        "\n",
        "cat = Cat()\n",
        "print(cat.make_sound())\n",
        "\n"
      ],
      "metadata": {
        "id": "hxqJ5BuuD1m-",
        "colab": {
          "base_uri": "https://localhost:8080/"
        },
        "outputId": "8ecd3f33-2e58-46dd-d7a9-37a75db43cc3"
      },
      "execution_count": 22,
      "outputs": [
        {
          "output_type": "stream",
          "name": "stdout",
          "text": [
            "Some generic animal sound\n",
            "Meoow\n"
          ]
        }
      ]
    },
    {
      "cell_type": "code",
      "source": [],
      "metadata": {
        "id": "eQp55g9JD1qR"
      },
      "execution_count": 22,
      "outputs": []
    }
  ]
}