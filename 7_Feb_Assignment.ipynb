{
  "nbformat": 4,
  "nbformat_minor": 0,
  "metadata": {
    "colab": {
      "provenance": []
    },
    "kernelspec": {
      "name": "python3",
      "display_name": "Python 3"
    },
    "language_info": {
      "name": "python"
    }
  },
  "cells": [
    {
      "cell_type": "markdown",
      "source": [
        "\n",
        "Q1. You are writing code for a company. The requirement of the company is that you create a python\n",
        "function that will check whether the password entered by the user is correct or not. The function should\n",
        "take the password as input and return the string “Valid Password” if the entered password follows the\n",
        "below-given password guidelines else it should return “Invalid Password”.\n",
        "\n",
        "\n",
        "Note: 1. The Password should contain at least two uppercase letters and at least two lowercase letters.\n",
        "\n",
        "2. The Password should contain at least a number and three special characters.\n",
        "\n",
        "3. The length of the password should be 10 characters long."
      ],
      "metadata": {
        "id": "cykF2LX_LboY"
      }
    },
    {
      "cell_type": "code",
      "source": [
        "import re\n",
        "def check_password(password) :\n",
        "  if len(password) != 10 :\n",
        "    return \"Invalid Password\"\n",
        "\n",
        "  # check for uppercase letters\n",
        "  upper_regex = re.compile(r'[A-Z]{2,}')\n",
        "  if not upper_regex.search (password) :\n",
        "    return \"Invalid Password\"\n",
        "\n",
        "  # check for lowercase letters\n",
        "  lower_regex =re.compile(r'[a-z]{2,}')\n",
        "  if not lower_regex.search(password) :\n",
        "    return \"Invalid Password\"\n",
        "\n",
        "  # check for numbers\n",
        "  number_regex = re.compile(r'\\d+')\n",
        "  if not number_regex.search(password) :\n",
        "    return \"Invalid Password\"\n",
        "\n",
        "  # check for special charactors\n",
        "  special_regex = re.compile(r'[!@&$^#*%()]+')\n",
        "  if len(special_regex.findall(password)) < 3 :\n",
        "    return \"Invalid Password\"\n",
        "\n",
        "  return \"Valid password\""
      ],
      "metadata": {
        "id": "eBKSuvUyLZQa"
      },
      "execution_count": null,
      "outputs": []
    },
    {
      "cell_type": "code",
      "source": [],
      "metadata": {
        "id": "0oit-IFnLZUU"
      },
      "execution_count": null,
      "outputs": []
    },
    {
      "cell_type": "markdown",
      "source": [
        "Q2. Solve the below-given questions using at least one of the following:\n",
        "\n",
        "1. Lambda functioJ\n",
        "2. Filter functioJ\n",
        "3. Zap functioJ\n",
        "4. List ComprehensioI\n",
        "B Check if the string starts with a particular letterY\n",
        "B Check if the string is numericY\n",
        "B Sort a list of tuples having fruit names and their quantity. [(\"mango\",99),(\"orange\",80), (\"grapes\", 1000)-\n",
        "B Find the squares of numbers from 1 to 10Y\n",
        "B Find the cube root of numbers from 1 to 10Y\n",
        "B Check if a given number is evenY\n",
        "B Filter odd numbers from the given list.\n",
        "\n",
        " [1,2,3,4,5,6,7,8,9,10-\n",
        "B Sort a list of integers into positive and negative integers lists.\n",
        "\n",
        " [1,2,3,4,5,6,-1,-2,-3,-4,-5,0]"
      ],
      "metadata": {
        "id": "i4l99pYrMdXh"
      }
    },
    {
      "cell_type": "code",
      "source": [
        "\n",
        "# 2.Ans :-\n",
        "#lambda Funtion\n",
        "\n",
        "#check if the string starts with a particular letter :\n",
        "start_with = lambda x : x.startswith (\"A\")\n",
        "print(start_with(\"Apple\")) # True\n",
        "\n",
        "#check if the string is numeric :\n",
        "is_numeric = lambda x : x.isnumeric()\n",
        "print(is_numeric(\"234\")) #True\n",
        "\n",
        "# Check if a given number is even :\n",
        "l2 = lambda x : x %2 == 0\n",
        "print(l2(2))\n",
        "# True\n",
        "\n",
        "# check if the number is odd :\n",
        "b = lambda x : x %2 != 0\n",
        "print(b,(1)) # True\n",
        "\n",
        "# Find the cube root of numbers from 1 to 10 :\n",
        "import math\n",
        "cube_root = lambda x : round(math.pow(x, 1/3), 2)\n",
        "print([cube_root(x) for x in range(1,11)])\n",
        "\n",
        "#2. Filter Function\n",
        "# Filter odd numbers from the given list :\n",
        "numbers = [1,2,3,4,5,6,7,8,9,10]\n",
        "d = filter(lambda x : x %2 != 0 , numbers)\n",
        "print(list(d))\n",
        "# result:- [1,3,5,7,9]\n",
        "\n",
        "# 2nd method\n",
        "d1 = filter(lambda x : x%2 ==1 , numbers)\n",
        "print(list(d1))\n",
        "# result: [1,3,5,7,9]\n",
        "\n",
        "#3.Map Function\n",
        "# Find the squares numbers from 1 to 10 :\n",
        "square_numbers = map(lambda x : x**2 , range(1,11))\n",
        "print(list(square_numbers))\n",
        "#result/output : [1,4,9,16,25,36,49,64,81,100]\n",
        "\n",
        "#4. list Comprehension :\n",
        "# Sort a list of tuples having fruit names and their quantity :\n",
        "fruits = [(\"mango\",99) ,(\"orange\",80), (\"grapes\",1000)]\n",
        "sorted_fruits = sorted(fruits, key= lambda x : x[1])\n",
        "print(sorted_fruits)\n",
        "#output : [(\"orange\",80) ,(\"mango\",99), (\"grapes\",1000)]\n",
        "\n",
        "#Sort a list of integers into positive and negative integers lists :\n",
        "\n",
        "numbers = [1,2,3,4,5,6,-1,-2,-3,-4,-5,0]\n",
        "positive_numbers = [x for x in numbers if x > 0]\n",
        "negative_numbers = [x for x in numbers if x < 0]\n",
        "print(\"Positive\", positive_numbers)\n",
        "# result positive : [1,2,3,4,5,6]\n",
        "print(\"Negative\",negative_numbers)\n",
        "# result negative : [-1,-2,-3,-4,-5]\n"
      ],
      "metadata": {
        "id": "Xs-7YkAALZbc",
        "colab": {
          "base_uri": "https://localhost:8080/"
        },
        "outputId": "7acd1d6a-6ba6-4a7c-e2d2-6ac47549d0b4"
      },
      "execution_count": 28,
      "outputs": [
        {
          "output_type": "stream",
          "name": "stdout",
          "text": [
            "True\n",
            "True\n",
            "True\n",
            "<function <lambda> at 0x7b4b7da88280> 1\n",
            "[1.0, 1.26, 1.44, 1.59, 1.71, 1.82, 1.91, 2.0, 2.08, 2.15]\n",
            "[1, 3, 5, 7, 9]\n",
            "[1, 3, 5, 7, 9]\n",
            "[1, 4, 9, 16, 25, 36, 49, 64, 81, 100]\n",
            "[('orange', 80), ('mango', 99), ('grapes', 1000)]\n",
            "Positive [1, 2, 3, 4, 5, 6]\n",
            "Negative [-1, -2, -3, -4, -5]\n"
          ]
        }
      ]
    },
    {
      "cell_type": "code",
      "source": [],
      "metadata": {
        "id": "viN0UHQILZds"
      },
      "execution_count": null,
      "outputs": []
    },
    {
      "cell_type": "code",
      "source": [],
      "metadata": {
        "id": "gI7CshFBLZgw"
      },
      "execution_count": null,
      "outputs": []
    }
  ]
}