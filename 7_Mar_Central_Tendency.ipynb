{
  "nbformat": 4,
  "nbformat_minor": 0,
  "metadata": {
    "colab": {
      "provenance": []
    },
    "kernelspec": {
      "name": "python3",
      "display_name": "Python 3"
    },
    "language_info": {
      "name": "python"
    }
  },
  "cells": [
    {
      "cell_type": "markdown",
      "source": [
        "Q1. What are the three measures of central tendency?"
      ],
      "metadata": {
        "id": "tRQMylouw-Rv"
      }
    },
    {
      "cell_type": "code",
      "source": [
        "#Ans1.\n",
        "#The three measures of central tendency are:\n",
        "#Mean: The mean is the arithmetic average of all the values in a dataset.\n",
        "#Median: The median is the middle value in a dataset when the values are arranged in order.\n",
        "#Mode: The mode is the most frequently occurring value in a dataset."
      ],
      "metadata": {
        "id": "PdnjFe3FFUxz"
      },
      "execution_count": 1,
      "outputs": []
    },
    {
      "cell_type": "markdown",
      "source": [
        "Q2. What is the difference between the mean, median, and mode? How are they used to measure the\n",
        "central tendency of a dataset?"
      ],
      "metadata": {
        "id": "PI0Oh0D2w-5x"
      }
    },
    {
      "cell_type": "code",
      "source": [
        "#Ans2.\n",
        "#The mean, median, and mode are all measures of central tendency, which describe where the center or middle of a dataset is located.\n",
        "#The mean is the most common measure of central tendency and is calculated by adding up all the values in a dataset and dividing by the total number of values.\n",
        "#The median is the middle value in a dataset when the values are arranged in order.\n",
        "#The mode is the value in a dataset that occurs most frequently."
      ],
      "metadata": {
        "id": "_tSx0xpNFVrb"
      },
      "execution_count": 2,
      "outputs": []
    },
    {
      "cell_type": "markdown",
      "source": [
        "Q3. Measure the three measures of central tendency for the given height data:\n",
        "\n",
        " [178,177,176,177,178.2,178,175,179,180,175,178.9,176.2,177,172.5,178,176.5]"
      ],
      "metadata": {
        "id": "PtW5pTLaw_v_"
      }
    },
    {
      "cell_type": "code",
      "source": [
        "#Ans3.\n",
        "import numpy as np\n",
        "from scipy import stats\n",
        "data = [178,177,176,177,178.2,178,175,179,180,175,178.9,176.2,177,172.5,178,176.5]\n",
        "mean = np.mean(data)\n",
        "median = np.median(data)\n",
        "mode = stats.mode(data)\n",
        "\n",
        "print (\"The mean of the height is :\", mean)\n",
        "print (\"The median of the height is :\", median)\n",
        "print (\"The mode of the height is :\", mode)"
      ],
      "metadata": {
        "colab": {
          "base_uri": "https://localhost:8080/"
        },
        "id": "pCm9M9OvFWtz",
        "outputId": "55535a4e-40ce-4a96-c174-b4966178c782"
      },
      "execution_count": 3,
      "outputs": [
        {
          "output_type": "stream",
          "name": "stdout",
          "text": [
            "The mean of the height is : 177.01875\n",
            "The median of the height is : 177.0\n",
            "The mode of the height is : ModeResult(mode=177.0, count=3)\n"
          ]
        }
      ]
    },
    {
      "cell_type": "markdown",
      "source": [
        "Q4. Find the standard deviation for the given data:\n",
        "\n",
        "[178,177,176,177,178.2,178,175,179,180,175,178.9,176.2,177,172.5,178,176.5]"
      ],
      "metadata": {
        "id": "8aj4ohaWw_z-"
      }
    },
    {
      "cell_type": "code",
      "source": [
        "#Ans4.\n",
        "import numpy as np\n",
        "data_list = [178,177,176,177,178.2,178,175,179,180,175,178.9,176.2,177,172.5,178,176.5]\n",
        "\n",
        "# Calculate the standard deviatiion\n",
        "np.std (data_list)\n"
      ],
      "metadata": {
        "colab": {
          "base_uri": "https://localhost:8080/"
        },
        "id": "BOqMgh4vFXva",
        "outputId": "d11ab9d2-d7d9-4cc5-85f6-3bb6d764aacd"
      },
      "execution_count": 9,
      "outputs": [
        {
          "output_type": "execute_result",
          "data": {
            "text/plain": [
              "1.7885814036548633"
            ]
          },
          "metadata": {},
          "execution_count": 9
        }
      ]
    },
    {
      "cell_type": "code",
      "source": [
        "# Also calulate the mean , variance\n",
        "mean = np.mean(data_list)\n",
        "Var = np.var(data_list)\n",
        "\n",
        "print (\"The mean of the data :\", mean)\n",
        "print (\"The Variance of the data :\", Var)"
      ],
      "metadata": {
        "colab": {
          "base_uri": "https://localhost:8080/"
        },
        "id": "xRD_Jwi19IAj",
        "outputId": "13abf634-e907-4899-d129-cc6f95be0c56"
      },
      "execution_count": 10,
      "outputs": [
        {
          "output_type": "stream",
          "name": "stdout",
          "text": [
            "The mean of the data : 177.01875\n",
            "The Variance of the data : 3.199023437500001\n"
          ]
        }
      ]
    },
    {
      "cell_type": "markdown",
      "source": [
        "Q5. How are measures of dispersion such as range, variance, and standard deviation used to describe\n",
        "the spread of a dataset? Provide an example."
      ],
      "metadata": {
        "id": "sv3WmhP6xAVO"
      }
    },
    {
      "cell_type": "code",
      "source": [
        "#Ans5.\n",
        "#These measures provide information about how much the individual data points vary from the central tendency, which can help to provide a more complete understanding of the dataset.\n",
        "#For example, consider two datasets:\n",
        "#Dataset 1: [5, 10, 15, 20, 25]\n",
        "#Dataset 2: [5, 5, 15, 25, 25]\n",
        "#Both datasets have the same mean of 15, but they have different measures of dispersion. The range of Dataset 1 is 20 (25 - 5), while the range of Dataset 2 is 20 (25 - 5), so the range does not provide any additional information about the spread of the data.\n",
        "#However, the variance and standard deviation of the datasets are different. The variance of Dataset 1 is 50, while the variance of Dataset 2 is only 50/3.\n",
        "#The standard deviation of Dataset 1 is the square root of 50, which is approximately 7.07, while the standard deviation of Dataset 2 is the square root of 50/3, which is approximately 3.06.\n",
        "#These measures show that Dataset 1 has more variability or spread than Dataset 2, even though they have the same range and mean."
      ],
      "metadata": {
        "id": "aigjrh-AFYza"
      },
      "execution_count": 4,
      "outputs": []
    },
    {
      "cell_type": "markdown",
      "source": [
        "Q6. What is a Venn diagram?"
      ],
      "metadata": {
        "id": "ObMPWfb6xAYR"
      }
    },
    {
      "cell_type": "code",
      "source": [
        "#Ans.\n",
        "#A Venn diagram is a graphical representation of set theory that uses circles or other closed curves to represent sets and their relationships.\n",
        "#The sets are usually represented as circles that overlap to show the common elements or differences between them.\n",
        "#Each circle represents a set, and the area where the circles overlap represents the elements that are common to both sets."
      ],
      "metadata": {
        "id": "22uhcMeZFZ7S"
      },
      "execution_count": 5,
      "outputs": []
    },
    {
      "cell_type": "markdown",
      "source": [
        "Q7. For the two given sets A = (2,3,4,5,6,7) & B = (0,2,6,8,10). Find:\n",
        "\n",
        "(i) \tA B\n",
        "\n",
        "(ii)\tA ⋃ B"
      ],
      "metadata": {
        "id": "NQ3xUNsmxiNh"
      }
    },
    {
      "cell_type": "code",
      "source": [
        "#Ans7.\n",
        "# (i) A ⋂ B : (2,6)\n",
        "# (ii)A ⋃ B :  (0,2,3,4,5,6,7,8,10)"
      ],
      "metadata": {
        "id": "R4NpDhp9Faqq"
      },
      "execution_count": 6,
      "outputs": []
    },
    {
      "cell_type": "markdown",
      "source": [
        "Q8. What do you understand about skewness in data?"
      ],
      "metadata": {
        "id": "Tl2oAdrdxiKA"
      }
    },
    {
      "cell_type": "code",
      "source": [
        "#Ans.\n",
        "#Skewness in data refers to the extent to which the distribution of values in a dataset is asymmetric.\n",
        "#A distribution is considered symmetric if its values are evenly distributed around its mean.\n",
        "#There are two types of skewness:\n",
        "#Positive skewness: A distribution is positively skewed if its tail extends towards the right, meaning that there are more values on the left side of the distribution and fewer on the right side.\n",
        "#In other words, the mean is greater than the median.\n",
        "\n",
        "#Negative skewness: A distribution is negatively skewed if its tail extends towards the left, meaning that there are more values on the right side of the distribution and fewer on the left side.\n",
        "#In other words, the mean is less than the median."
      ],
      "metadata": {
        "id": "eEEqPeMJFbeo"
      },
      "execution_count": 7,
      "outputs": []
    },
    {
      "cell_type": "markdown",
      "source": [
        "Q9. If a data is right skewed then what will be the position of median with respect to mean?"
      ],
      "metadata": {
        "id": "oH9TA004xjlW"
      }
    },
    {
      "cell_type": "code",
      "source": [
        "#Ans9.\n",
        "#If a dataset is right-skewed, meaning it has a long tail to the right side, then the median will be less than the mean."
      ],
      "metadata": {
        "id": "SIJ2Lnl_FcII"
      },
      "execution_count": 8,
      "outputs": []
    },
    {
      "cell_type": "markdown",
      "source": [
        "Q10. Explain the difference between covariance and correlation. How are these measures used in\n",
        "statistical analysis?"
      ],
      "metadata": {
        "id": "ue6N98K9xiG3"
      }
    },
    {
      "cell_type": "code",
      "source": [
        "#Ans10.\n",
        "#Covariance and correlation are two measures used in statistical analysis to describe the relationship between two variables.\n",
        "\n",
        "#Covariance measures the degree to which two variables vary together.\n",
        "#It is a measure of the joint variability of two random variables, and it is calculated as the expected value of the product of their deviations from their respective means.\n",
        "#Correlation, on the other hand, measures the strength and direction of the relationship between two variables.\n",
        "#It is a standardized measure of covariance that ranges from -1 to 1, with a correlation coefficient of 1 indicating a perfect positive relationship, a correlation coefficient of -1 indicating a perfect negative relationship, and a correlation coefficient of 0 indicating no relationship between the two variables.\n",
        "\n",
        "#In statistical analysis, covariance and correlation are used to identify and quantify the relationship between two variables.\n",
        "#They are often used in regression analysis, where the relationship between an independent variable and a dependent variable is modeled, or in exploratory data analysis to identify patterns or trends in the data.\n",
        "#Correlation is also used to test hypotheses about the strength and direction of the relationship between two variables, and to select variables for inclusion in predictive models."
      ],
      "metadata": {
        "id": "TNZxnqzvxg0_"
      },
      "execution_count": 9,
      "outputs": []
    },
    {
      "cell_type": "markdown",
      "source": [
        "Q11. What is the formula for calculating the sample mean? Provide an example calculation for a\n",
        "dataset."
      ],
      "metadata": {
        "id": "3yet8JTlx0-V"
      }
    },
    {
      "cell_type": "code",
      "source": [
        "#Ans11.\n",
        "# The formula for calculating the sample mean is :\n",
        "# Sample mean = (sum of all values in element) / (Total number of count element)\n",
        "\n",
        "# Example\n",
        "Dataset = (3,5,8,12,7)\n",
        "# To calculate the sample mean, we first add up all the values\n",
        "(3 + 5 + 8 + 12 + 7)  == 35\n",
        "# Then we divide by the total count values is : 5\n",
        "35 / 5 == 7\n",
        "\n",
        "# Therefore , the sample mean for this dataset is 7 ."
      ],
      "metadata": {
        "colab": {
          "base_uri": "https://localhost:8080/"
        },
        "id": "HkHO_ubaFdZg",
        "outputId": "8cbd0de9-6c51-49e2-e2d8-f924614d469d"
      },
      "execution_count": 13,
      "outputs": [
        {
          "output_type": "execute_result",
          "data": {
            "text/plain": [
              "True"
            ]
          },
          "metadata": {},
          "execution_count": 13
        }
      ]
    },
    {
      "cell_type": "code",
      "source": [
        "# Second Code\n",
        "# Mean : Summation of all elements devide by  Total count number\n",
        "\n",
        "import numpy as np\n",
        "sample_data = [3,5,8,12,7]\n",
        "\n",
        "# Calculate the sample mean\n",
        "\n",
        "np.mean(sample_data)"
      ],
      "metadata": {
        "colab": {
          "base_uri": "https://localhost:8080/"
        },
        "id": "nmbc8i_LDeh4",
        "outputId": "dd223e7e-6f0c-4db1-e071-eb4b5e5c3110"
      },
      "execution_count": 16,
      "outputs": [
        {
          "output_type": "execute_result",
          "data": {
            "text/plain": [
              "7.0"
            ]
          },
          "metadata": {},
          "execution_count": 16
        }
      ]
    },
    {
      "cell_type": "markdown",
      "source": [
        "Q12. For a normal distribution data what is the relationship between its measure of central tendency?"
      ],
      "metadata": {
        "id": "ElOt5i1nx07K"
      }
    },
    {
      "cell_type": "code",
      "source": [
        "#Ans12.\n",
        "#For a normal distribution, the three measures of central tendency, namely the mean, median, and mode, are equal to each other.\n",
        "#The normal distribution is symmetrical, the mean and median will be located at the center of the distribution, and they will be equal.\n",
        "#Additionally, the mode of the normal distribution will be the same as the mean and median because the distribution is unimodal, meaning it has a single peak."
      ],
      "metadata": {
        "id": "MIxsMm0uFd56"
      },
      "execution_count": 12,
      "outputs": []
    },
    {
      "cell_type": "code",
      "source": [],
      "metadata": {
        "id": "ASeZkOmLFexs"
      },
      "execution_count": null,
      "outputs": []
    },
    {
      "cell_type": "markdown",
      "source": [
        "Q13. How is covariance different from correlation?"
      ],
      "metadata": {
        "id": "BpGsl2Uhx03s"
      }
    },
    {
      "cell_type": "code",
      "source": [
        "#Ans13.\n",
        "#Covariance and correlation are both measures of the relationship between two variables, but they differ in a few important ways:\n",
        "#Scale: Covariance can take on any value, positive or negative, while correlation is always between -1 and 1, inclusive.\n",
        "#Units: Covariance is measured in units that are the product of the units of the two variables being compared, while correlation is unitless.\n",
        "#Standardization: Correlation is a standardized measure of covariance, calculated by dividing the covariance by the product of the standard deviations of the two variables"
      ],
      "metadata": {
        "id": "HwglxoJ0FgbD"
      },
      "execution_count": 13,
      "outputs": []
    },
    {
      "cell_type": "markdown",
      "source": [
        "Q14. How do outliers affect measures of central tendency and dispersion? Provide an example."
      ],
      "metadata": {
        "id": "uQqSrIQFFLOF"
      }
    },
    {
      "cell_type": "code",
      "source": [
        "#Ans14.\n",
        "#Outliers are data points that are significantly different from the other values in a dataset.\n",
        "#Outliers can have a significant impact on measures of central tendency and dispersion, such as the mean, median, mode, range, variance, and standard deviation.\n",
        "\n",
        "#If a dataset has one or more outliers, the measures of central tendency can be skewed towards the outlier(s), and may not be representative of the rest of the data.\n",
        "#For example, if we have a dataset of exam scores and one student scored significantly higher than the rest of the students, the mean score will be higher than the median score, because the outlier will pull the mean upwards."
      ],
      "metadata": {
        "id": "NiR8w1q6Ff5T"
      },
      "execution_count": 14,
      "outputs": []
    }
  ]
}