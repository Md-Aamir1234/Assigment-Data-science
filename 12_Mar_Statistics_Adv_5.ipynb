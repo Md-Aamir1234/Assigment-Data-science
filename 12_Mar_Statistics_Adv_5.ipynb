{
  "nbformat": 4,
  "nbformat_minor": 0,
  "metadata": {
    "colab": {
      "provenance": []
    },
    "kernelspec": {
      "name": "python3",
      "display_name": "Python 3"
    },
    "language_info": {
      "name": "python"
    }
  },
  "cells": [
    {
      "cell_type": "markdown",
      "source": [
        "Q1. Calculate the 95% confidence interval for a sample of data with a mean of 50 and a standard deviation\n",
        "of 5 using Python. Interpret the results."
      ],
      "metadata": {
        "id": "ViwIQDDo28e9"
      }
    },
    {
      "cell_type": "code",
      "source": [
        "#Ans1.\n",
        "\n",
        "\n",
        "# To calculate the 95% confidence interval for a sample with a mean of 50 and a standard deviation of 5, we can use Python.\n",
        "#  We ll assume the sample size is large enough to use the z-distribution for this example.\n",
        "\n",
        "# Given data :\n",
        "\n",
        "# sample mean(x̄) = 50\n",
        "# sample standard deviation(s) = 5\n",
        "# Confidence level = 95% ,   α = 0.05 , n = ?\n",
        "\n",
        "# Calculate the critical value (Z_(α⁄2)) :\n",
        "# For a  95% confidence level, the critical value (Z_(α/2)) is approximately 1.96.\n",
        "\n",
        "# Calculate the standard error (SE) :\n",
        "\n",
        "# Since the sample size isn't provided, we'll assume it's large enough that\n",
        "# we can use the sample standard deviation as an estimate of the population standard deviation.\n",
        "\n",
        "\n",
        "→  SE  = (s/n)\n",
        "\n",
        "# For a large sample size, the standard error is approximately SE ≈ s.\n",
        "\n",
        "# Calculate the margin of error (ME) :\n",
        "\n",
        "→ ME = (Z_(α/2) * SE)\n",
        "\n",
        "# Construct the confidence interval(CI) :\n",
        "\n",
        "→ CI = (x̄ - ME, x̄ + ME)\n",
        "\n",
        "\n",
        "##   Use Python Code to calculate the condfidence interval :\n",
        "\n",
        "\n",
        "import scipy.stats as stats\n",
        "import math\n",
        "\n",
        "# Given data\n",
        "mean = 50\n",
        "std_dev = 5\n",
        "confidence_level = 0.95\n",
        "\n",
        "# Calculate the critical value (Z)\n",
        "z = stats.norm.ppf((1 + confidence_level) / 2)\n",
        "\n",
        "# Calculate the margin of error\n",
        "margin_of_error = z * std_dev\n",
        "\n",
        "# Calculate the confidence interval\n",
        "lower_bound = mean - margin_of_error\n",
        "upper_bound = mean + margin_of_error\n",
        "\n",
        " (lower_bound, upper_bound)\n",
        "\n",
        "\n",
        " # Interpretation:\n",
        "\n",
        "→ The 95% confidence interval for the true population mean is approximately (40.2 , 59.8)\n",
        "→ This means we are 95% confident that the true population mean lies within this range.\n",
        "→ If we were to take many samples and construct confidence intervals in the same way, approximately 95% of those intervals would contain the true population mean."
      ],
      "metadata": {
        "colab": {
          "base_uri": "https://localhost:8080/"
        },
        "id": "2NyHvfrE1dTa",
        "outputId": "4e7b923d-3e61-4f40-e59e-d2d489b276c8"
      },
      "execution_count": null,
      "outputs": [
        {
          "output_type": "execute_result",
          "data": {
            "text/plain": [
              "(40.200180077299734, 59.799819922700266)"
            ]
          },
          "metadata": {},
          "execution_count": 23
        }
      ]
    },
    {
      "cell_type": "markdown",
      "source": [
        "Q2. Conduct a chi-square goodness of fit test to determine if the distribution of colors of M&Ms in a bag\n",
        "matches the expected distribution of 20% blue, 20% orange, 20% green, 10% yellow, 10% red, and 20%\n",
        "brown. Use Python to perform the test with a significance level of 0.05."
      ],
      "metadata": {
        "id": "--ZzWBsn28kd"
      }
    },
    {
      "cell_type": "code",
      "source": [
        "#Ans2.\n",
        "\n",
        "# To conduct a chi-square goodness of fit test to determine if the observed distribution of colors of M&Ms matches\n",
        "# the expected distribution, we can use the scipy.stats library in Python.\n",
        "\n",
        "\n",
        "# 1.Observed Data:\n",
        "\n",
        "# Let's assume we have the following observed counts of M&M colors in a sample:\n",
        "Blue: 18\n",
        "Orange: 24\n",
        "Green: 21\n",
        "Yellow: 7\n",
        "Red: 12\n",
        "Brown: 18\n",
        "\n",
        "#2.Expected Data:\n",
        "\n",
        "# The expected distribution is:\n",
        "# 20% blue, 20% orange, 20% green, 10% yellow, 10% red, and 20% brown.\n",
        "\n",
        "#3. Calculate the Expected Counts:\n",
        "\n",
        "→ The expected counts can be calculated by multiplying the total number of M&Ms by the expected proportions.\n",
        "\n",
        "#4. Conduct the Chi-Square Goodness of Fit Test:\n",
        "\n",
        "→  We use the scipy.stats.chisquare function to perform the test.\n",
        "\n",
        "\n",
        "## Lets Perform these Calculations in Python Code :\n",
        "\n",
        "\n",
        "import scipy.stats as stats\n",
        "\n",
        "# observed counts\n",
        "observed_counts = [18, 24, 21, 7, 12, 18]\n",
        "\n",
        "# Expected propertions\n",
        "expected_proportions = [0.20, 0.20, 0.20, 0.10, 0.10, 0.20]\n",
        "\n",
        "# Calculate the total number of M&Ms\n",
        "total_count = sum(observed_counts)\n",
        "\n",
        "# Calculate the expected counts\n",
        "expected_counts = [p * total_count for p in expected_proportions]\n",
        "\n",
        "# Perform the chi-square goodness of fit test\n",
        "chi2_stats, p_value = stats.chisquare (f_obs = observed_counts , f_exp =expected_counts)\n",
        "\n",
        "# output the results\n",
        "chi2_stats, p_value\n",
        "\n",
        "\n",
        "\n",
        "# Interpretion :\n",
        "\n",
        "# Chi-Square Statistic : 2.5\n",
        "# P-value : 0.769\n",
        "\n",
        "→ At a significance level of 0.05 , the p-value (0.769) is much greater than 0.05. This means we fail to reject the null hypothesis.\n",
        "\n",
        "# Conclusion :\n",
        "\n",
        "→ There is no significant difference between the observed distribution of M&M colors and the expected distribution.\n",
        "→ The observed distribution of colors matches the expected distribution of 20% blue, 20% orange, 20% green, 10% yellow, 10% red, and 20% brown.\n"
      ],
      "metadata": {
        "id": "10Shpvtv4f4z",
        "colab": {
          "base_uri": "https://localhost:8080/"
        },
        "outputId": "b6d1ee5c-7e37-4a55-a148-07c9d2ae19c0"
      },
      "execution_count": null,
      "outputs": [
        {
          "output_type": "execute_result",
          "data": {
            "text/plain": [
              "(2.5500000000000003, 0.7689468630670155)"
            ]
          },
          "metadata": {},
          "execution_count": 5
        }
      ]
    },
    {
      "cell_type": "markdown",
      "source": [
        "Q3. Use Python to calculate the chi-square statistic and p-value for a contingency table with the following\n",
        "data:\n",
        "\n",
        "Group A Group B\n",
        "Outcome 1 20 15\n",
        "Outcome 2 10 25\n",
        "Outcome 3 15 20\n",
        "Interpret the results of the test."
      ],
      "metadata": {
        "id": "97t98yaV28nl"
      }
    },
    {
      "cell_type": "code",
      "source": [
        "#Ans3.\n",
        "# Calculate the chi-square statistic and p-value for a contingency table, we can use the scipy.stats.chi2_contingency.\n",
        "#This function is used to test the independence of two categorical varaibles.\n",
        "\n",
        "# Create the Contingency Table :\n",
        "# The table is a 2x3 matrix representing the counts of each outcome for each group.\n",
        "\n",
        "\n",
        "# Python Code :\n",
        "\n",
        "import scipy.stats as stats\n",
        "import numpy as np\n",
        "\n",
        "# Contigency table\n",
        "data = np.array ([[20, 15],\n",
        "                  [10 , 25],\n",
        "                  [15, 20]])\n",
        "\n",
        "# Perform the chi-square test of independence\n",
        "chi2_stat, p_value, dof, expected = stats.chi2_contingency (data)\n",
        "\n",
        "# results\n",
        "chi2_stats, p_value, dof , expected\n",
        "\n",
        "\n",
        "\n",
        "# Interpretation :\n",
        "\n",
        "→ Chi-Square Statatic : 2.55\n",
        "→ P- value : 0.054\n",
        "\n",
        "# Degrees of Freedom (dof) : k-1 = 3-1 = 2\n",
        "\n",
        "# Expected Frequencies :\n",
        "\n",
        "                       15.0  20.0\n",
        "                       15.0  20.0\n",
        "                       15.0  20.0\n",
        "\n",
        "→ At a singnificance level of 0.05, the p-value (0.054) os slightly above 0.05.\n",
        "→ This means we fail to reject the null hypothesis.\n",
        "\n",
        "# Conclusion :\n",
        "\n",
        "→ There is no significant evidence to suggest that the outcomes are dependent on the groups.\n",
        "→ The observed distribution of outcomes between Group A and Group B is not significantly different from what we would expect if the outcomes were independent of the groups.\n"
      ],
      "metadata": {
        "id": "eGadAXpE4iss",
        "colab": {
          "base_uri": "https://localhost:8080/"
        },
        "outputId": "3429a83e-d027-4fb1-8713-744087895181"
      },
      "execution_count": null,
      "outputs": [
        {
          "output_type": "execute_result",
          "data": {
            "text/plain": [
              "(2.5500000000000003,\n",
              " 0.05411376622282158,\n",
              " 2,\n",
              " array([[15., 20.],\n",
              "        [15., 20.],\n",
              "        [15., 20.]]))"
            ]
          },
          "metadata": {},
          "execution_count": 9
        }
      ]
    },
    {
      "cell_type": "markdown",
      "source": [
        "Q4. A study of the prevalence of smoking in a population of 500 individuals found that 60 individuals\n",
        "smoked. Use Python to calculate the 95% confidence interval for the true proportion of individuals in the\n",
        "population who smoke."
      ],
      "metadata": {
        "id": "oNGjGzUI28qv"
      }
    },
    {
      "cell_type": "code",
      "source": [
        "#Ans4.\n",
        "\n",
        "# We can use the formula for the confidence interval for a population proportion.\n",
        "\n",
        "# CI =  p ± z_α/2 * √(p(1-p)/n)\n",
        "\n",
        "# Where :\n",
        "\n",
        "#  p is the sample proportion.\n",
        "#  Z_α/2 is the critical value for the desired confidence level\n",
        "#  n is the sample size\n",
        "\n",
        "# Given data :\n",
        "\n",
        "# sample size (n) = 500\n",
        "# Number of individuals who smoked (x) = 60\n",
        "\n",
        "# Determine the critical  value ( Z_α/2) :\n",
        "\n",
        "# for a 95% confidence level ,  Z_α/2 is approximate 1.96\n",
        "\n",
        "# Calculate the sample proportion (p) :\n",
        "# p = x/n = 60/500 = 0.12\n",
        "\n",
        "# 3. Calculate the standard error (SE) :\n",
        "\n",
        "# SE = √(p(1-p)/n)\n",
        "# SE  = √(0.12*(1-0.12)/500) = √0.0002112\n",
        "# SE  ≈ 0.01453\n",
        "\n",
        "#4. Calculate the margin of error (ME) :\n",
        "# ME  = Z_α/2 * SE\n",
        "# ME  = 1.96*0.01453\n",
        "# ME = 0.02848\n",
        "\n",
        "#5. Construct the confidence interval (CI) :\n",
        "\n",
        "# CI = (p ± ME) = (0.12 ± 0.02848)\n",
        "\n",
        "# CI = 0.12 - 0.02848 =  0.09152 ,\n",
        "# CI  = 0.12 + 0.02948 = 0.14848\n",
        "\n",
        "\n",
        "## Python Code :\n",
        "\n",
        "import scipy.stats as stats\n",
        "import math\n",
        "\n",
        "# Given data\n",
        "n= 500\n",
        "x = 60\n",
        "confidence_level = 0.95\n",
        "\n",
        "# Calculate the sample proportion\n",
        "p_hat = x/n\n",
        "\n",
        "# Calculate the critical value (z)\n",
        "z = stats.norm.ppf ((1 + confidence_level) /2)\n",
        "\n",
        "# Calculate the standard error\n",
        "se = math.sqrt(p_hat * (1 - p_hat) / n)\n",
        "\n",
        "# Calculate the margin of error\n",
        "margin_of_error = z*se\n",
        "\n",
        "# Calcualate the confidence interval\n",
        "\n",
        "lower_bound = p_hat - margin_of_error\n",
        "upper_bound = p_hat + margin_of_error\n",
        "\n",
        "(lower_bound, upper_bound)\n",
        "\n",
        "# Interpretation:\n",
        "→ The 95% confidence interval for the true proportion of individuals in the population who smoke is approximately (0.092, 0.148).\n",
        "→ This means we are 95% confident that the true proportion of smokers in the population lies within this range.\n"
      ],
      "metadata": {
        "id": "Vbd4oDrC4jbU",
        "colab": {
          "base_uri": "https://localhost:8080/"
        },
        "outputId": "a86c5f61-307c-432b-9a5f-279d495d1c5a"
      },
      "execution_count": null,
      "outputs": [
        {
          "output_type": "execute_result",
          "data": {
            "text/plain": [
              "(0.09151638887130707, 0.1484836111286929)"
            ]
          },
          "metadata": {},
          "execution_count": 18
        }
      ]
    },
    {
      "cell_type": "markdown",
      "source": [
        "Q5. Calculate the 90% confidence interval for a sample of data with a mean of 75 and a standard deviation\n",
        "of 12 using Python. Interpret the results."
      ],
      "metadata": {
        "id": "2DU1NwXV28tk"
      }
    },
    {
      "cell_type": "code",
      "source": [
        "#Ans5.\n",
        "\n",
        "# We can use the formula for the confidence interval for a population mean . we need to know the sample size to calculate the standard error.\n",
        "# let's assume a Sample size of 30.\n",
        "\n",
        "# Sample mean (̄̄x̄) = 75\n",
        "# Sample standard deviation (s) = 12\n",
        "# Sample size(n) = 30(assuming)\n",
        "# Confidence level = 90% , α = 0.1\n",
        "\n",
        "# Determine the critical value (t_α/2) :\n",
        "\n",
        "# Scince the sample size is small (n < 30), we can use the t-distribution instead of the z-distribution.\n",
        "# Degree of freedom (df) = n-1 = 30-1 = 29\n",
        "# For a 90% confidence level and 29 degrees of freedom, the  t-value can be found using a t-distribution table or python.\n",
        "\n",
        "# Calculate the standard error (SE)\n",
        "\n",
        "→ SE = s/√n\n",
        "→ SE = 12/√30\n",
        "→ SE ≈ 2.19\n",
        "\n",
        "# Calculate the margin of error (ME)\n",
        "→ ME = t_α/2 * SE\n",
        "\n",
        "# Calculate the confidence interval (CI) :\n",
        "→  CI = (x̄ - ME, x̄ + ME)\n",
        "\n",
        "## Python Code :\n",
        "\n",
        "import scipy.stats as stats\n",
        "import math\n",
        "\n",
        "# Given data\n",
        "mean = 75\n",
        "std_dev = 12\n",
        "sample_size = 30\n",
        "confidence_level = 0.90\n",
        "\n",
        "# Calculate the degrees of freedom\n",
        "df = sample_size - 1\n",
        "\n",
        "# Calculate the critical value (t)\n",
        "t_critical = stats.t.ppf((1 + confidence_level) / 2, df)\n",
        "\n",
        "# Calculate the standard error\n",
        "SE = std_dev / math.sqrt (sample_size)\n",
        "\n",
        "# Calculate the margin of error\n",
        "margin_of_error = t_critical *SE\n",
        "\n",
        "# Calculate the confidence interval\n",
        "lower_bound = mean - margin_of_error\n",
        "upper_bound = mean + margin_of_error\n",
        "\n",
        "(lower_bound, upper_bound)\n",
        "\n",
        "# Interpretation:\n",
        "\n",
        "→ The 90% confidence interval for the true population mean is approximately (71.28, 78.72)\n",
        "→ This means we are 90% confident that the true population mean lies within this range.\n"
      ],
      "metadata": {
        "id": "SJSlywgQ4klF",
        "colab": {
          "base_uri": "https://localhost:8080/"
        },
        "outputId": "d0a3e41a-67bf-457e-98bc-6f2c00218440"
      },
      "execution_count": null,
      "outputs": [
        {
          "output_type": "execute_result",
          "data": {
            "text/plain": [
              "(71.27739919800369, 78.72260080199631)"
            ]
          },
          "metadata": {},
          "execution_count": 2
        }
      ]
    },
    {
      "cell_type": "markdown",
      "source": [
        "Q6. Use Python to plot the chi-square distribution with 10 degrees of freedom. Label the axes and shade the\n",
        "area corresponding to a chi-square statistic of 15."
      ],
      "metadata": {
        "id": "azUBIXrc28w3"
      }
    },
    {
      "cell_type": "code",
      "source": [
        "# Ans6.\n",
        "\n",
        "# We can use the matplotlib library in Python.We ll use the scipy.stats.chi2 module to generate the chi-square distribution and plot it.\n",
        "\n",
        "# Import necessary libraries :\n",
        "\n",
        "# 'numpy' for numerical operations\n",
        "# 'scipy.stats' for chi-square distribution.\n",
        "# 'matplotlib.pyplot' for plotting.\n",
        "\n",
        "# Generate chi-square distribution data :\n",
        "→ Use scipy.stats.chi2 to create the chi-square distribution with 10 degrees of freedom.\n",
        "\n",
        "# Plot the distribution :\n",
        "\n",
        "→ Use matplotlib.pyplot to plot the chi-square stats.distributions\n",
        "→ Shade the area under the curve corresponding to a chi-sqaure statistic of 15.\n",
        "\n",
        "\n",
        "\n",
        "## Python Code\n",
        "\n",
        "import numpy as np\n",
        "import matplotlib.pyplot as plt\n",
        "import scipy.stats as stats\n",
        "\n",
        "# Define degree of freedom\n",
        "df = 10\n",
        "\n",
        "# Generate x values\n",
        "x = np.linspace (0, 30, 1000)\n",
        "\n",
        "# Generate chi-square distribution values\n",
        "chi2_dist = stats.chi2.pdf (x , df)\n",
        "\n",
        "# Plot the chi square distribution\n",
        "plt.figure(figsize = (10,6))\n",
        "plt.plot (x, chi2_dist, label = 'chi-square Distribution df = 10')\n",
        "\n",
        "# Shade the area for chi-square statistic of 15\n",
        "\n",
        "x_fill = np.linspace (15, 30 , 1000)\n",
        "y_fill = stats.chi2.pdf (x_fill, df)\n",
        "plt.fill_between (x_fill, y_fill, color = 'red', alpha = 0.5, label = 'chi-square statistics = 15')\n",
        "\n",
        "# label the axes\n",
        "plt.xlabel ('Chi-Square Statistics')\n",
        "plt.ylabel ('Probability Density')\n",
        "plt.title ('Chi-Square Distribution with 10 Degee of Freedom')\n",
        "plt.legend()\n",
        "\n",
        "# Show the plot\n",
        "plt.show()\n",
        "\n",
        "# Explain :\n",
        "\n",
        "→  x values : We generate 1000 x values ranging from 0 to 30.\n",
        "→  Chi-Square Distribution : stats.chi2.pdf (x, df) generates the chi-square distribution values for the given x values and degrees of freedom (df = 10)\n",
        "→  Plot : We plot the chi-square distribution and use plt.fill_between to shade the area under the curve corresponding to chi-square statistic value of 15 and above.\n",
        "→  Labels and Title : We label the x-axis as 'Chi-Square Statistics', the y-axis as 'Probability Density' and the title plot .\n",
        "\n",
        "\n",
        "# Result :\n",
        "→ The plot will show the chi-square distribution with 10 degrees of freedom, and the area corresponding to a chi-square statistic of 15 will be shaded in red.\n",
        "→ This visualization helps in understanding the distribution and the significance of the chi-square statistic value.\n"
      ],
      "metadata": {
        "id": "ui29_jt54lbz",
        "colab": {
          "base_uri": "https://localhost:8080/",
          "height": 484
        },
        "outputId": "0f84cbb9-54ba-4342-b544-478a85c05780"
      },
      "execution_count": null,
      "outputs": [
        {
          "output_type": "display_data",
          "data": {
            "text/plain": [
              "<Figure size 1000x600 with 1 Axes>"
            ],
            "image/png": "[encoded data removed]"
          },
          "metadata": {}
        }
      ]
    },
    {
      "cell_type": "markdown",
      "source": [
        "Q7. A random sample of 1000 people was asked if they preferred Coke or Pepsi. Of the sample, 520\n",
        "preferred Coke. Calculate a 99% confidence interval for the true proportion of people in the population who\n",
        "prefer Coke."
      ],
      "metadata": {
        "id": "TluXaKWl28z0"
      }
    },
    {
      "cell_type": "code",
      "source": [
        "#Ans7.\n",
        "\n",
        "#To calculate the 99% confidence interval for the true propertion of people who prefer Coke based on the sample data ,\n",
        "# we can use the formula for the condfidence interval for a population proportion .\n",
        "\n",
        "# CI = p ± z_α/2 * √(p(1-p)/n)\n",
        "\n",
        "# Where :\n",
        "\n",
        "# p is the sample proportion\n",
        "# Z_α/2 is the critical value for the desired confidence level\n",
        "# n is the sample size\n",
        "\n",
        "# Given data\n",
        "\n",
        "# Sample size (n) = 1000\n",
        "# Number of people who prefer Coke (x) = 520\n",
        "\n",
        "#1. Calculate the sample proportion (p) :\n",
        "\n",
        "→  p = x/n = 520/1000 = 0.52\n",
        "\n",
        "#2. Calculate the critical value (Z_α/2 ) :\n",
        "\n",
        "# For a 99% confidence level , Z_α/2 is approximately 2.576 (obtained from the standard normal distribution table)\n",
        "\n",
        "#3. Calculate the standard error (SE) :\n",
        "\n",
        "→  SE = √(p(1-p)/n)\n",
        "# SE = √(0.52*(1-0.52)/1000)\n",
        "# SE ≈ 0.0158\n",
        "\n",
        "#4. Calculate the margin of error (ME) :\n",
        "\n",
        "→  ME = Z_α/2 * SE\n",
        "# ME = 2.576 * 0.0158\n",
        "# ME = 0.0407\n",
        "\n",
        "#5. Construct the confidence interval (CI) :\n",
        "\n",
        "# CI = (p ± ME) = (0.52 ± 0.0407)\n",
        "\n",
        "# CI = 0.52 - 0.0407 = 0.4793\n",
        "# CI = 0.52 + 0.0407 = 0.5607\n",
        "\n",
        "\n",
        "\n",
        "## Python Code :\n",
        "\n",
        "import scipy.stats as stats\n",
        "import math\n",
        "\n",
        "# Given data\n",
        "n = 1000\n",
        "x = 520\n",
        "confidence_level = 0.99\n",
        "\n",
        "# Calculate the sample proportion\n",
        "p_hat = x/n\n",
        "\n",
        "# Calculate the critical value (Z)\n",
        "z = stats.norm.ppf ((1 + confidence_level) / 2)\n",
        "\n",
        "# Calculate the standard error\n",
        "SE = math.sqrt (p_hat * (1 - p_hat) /n )\n",
        "\n",
        "# Calculate the margin of error\n",
        "margin_of_error = z * SE\n",
        "\n",
        "# Calculate the confidence interval\n",
        "\n",
        "lower_bound = p_hat - margin_of_error\n",
        "upper_bound = p_hat + margin_of_error\n",
        "\n",
        "(lower_bound, upper_bound)\n",
        "\n",
        "# Interpretation :\n",
        "→ The 99% confidence interval for the true proportion of people in the population who prefer Coke is approximately(0.479, 0.561).\n",
        "→ This means we are 99% confident that the true proportion of people who prefer Coke lies within this range.\n",
        "→ If we were to take many samples and construct CI in the same way, approximately 99% of those intervals would contain the true population proportion.\n"
      ],
      "metadata": {
        "id": "l2tan53I4mmL",
        "colab": {
          "base_uri": "https://localhost:8080/"
        },
        "outputId": "def6b4fe-e39c-46f2-e58f-ccf5a55c832c"
      },
      "execution_count": null,
      "outputs": [
        {
          "output_type": "execute_result",
          "data": {
            "text/plain": [
              "(0.4793051576779699, 0.5606948423220302)"
            ]
          },
          "metadata": {},
          "execution_count": 7
        }
      ]
    },
    {
      "cell_type": "markdown",
      "source": [
        "Q8. A researcher hypothesizes that a coin is biased towards tails. They flip the coin 100 times and observe\n",
        "45 tails. Conduct a chi-square goodness of fit test to determine if the observed frequencies match the\n",
        "expected frequencies of a fair coin. Use a significance level of 0.05."
      ],
      "metadata": {
        "id": "RIVHYOux282m"
      }
    },
    {
      "cell_type": "code",
      "source": [
        "#Ans8.\n",
        "\n",
        "→  To conduct a chi-square goodness of fit test , we need to compare the observed frequencies with the expected frequencies under the null hypothesis.\n",
        "→  In this case the null hypothesis is that the coin is fair, meaning the expected frequencies of head and tails should be equal.\n",
        "\n",
        "# State the null and alternative hypothesis :\n",
        "\n",
        "→ Ho : The coin is fair (the proportions of heads and tails are equal)\n",
        "→ Ha : The coin is biased towards tails (the proportions of heads and tails are not equal)\n",
        "\n",
        "# Calculate the expected frequencies :\n",
        "# For a fair coin, the probability of heads = probability of tails = 0.5\n",
        "# Total number of flips = 100\n",
        "# Expected frequency of heads = Expected frequency of tails = 100*0.5 = 50\n",
        "\n",
        "# Observed frequency :\n",
        "\n",
        "# Observed frequency of tails = 45\n",
        "# Observed frequency of heads = 100 - 45 = 55\n",
        "\n",
        "# Calculate the chi-square statistic : using the formula\n",
        "\n",
        "# X^2 = Σ(O - E)^2/E\n",
        "\n",
        "# where :\n",
        "# O = Observed frequency\n",
        "# E = Expected frequency\n",
        "\n",
        "# Degree of freedom :\n",
        "\n",
        "# Degree of freedom = Number of categories - 1 = 2-1 = 1\n",
        "\n",
        "# Determine the critical value :\n",
        "\n",
        "→ Use the chisquare distribution table to find the critical value for (df) = 1 and α = 0.05\n",
        "\n",
        "# Compare the chi-square statistic to the critical value :\n",
        "\n",
        "→ If the chi-square statistic is greater than the critical value , we reject the null hypothesis.\n",
        "\n",
        "\n",
        "## Calculate using the Python Code :\n",
        "\n",
        "import scipy.stats as stats\n",
        "\n",
        "# Given data\n",
        "observed_heads = 55\n",
        "observed_tails = 45\n",
        "expected_heads = 50\n",
        "expected_tails = 50\n",
        "\n",
        "# Observed and expected frequencies\n",
        "\n",
        "observed = [observed_heads, observed_tails]\n",
        "expected = [expected_heads, expected_tails]\n",
        "\n",
        "# Calculate the chi-square statistic and p-value\n",
        "\n",
        "chi2_stat, p_value = stats.chisquare (observed, expected)\n",
        "\n",
        "# Print the results\n",
        "chi2_stat, p_value\n",
        "\n",
        "\n",
        "## Interpretation :\n",
        "\n",
        "→ Chi-square statistic : 1.0\n",
        "→ p-value : 0.317\n",
        "\n",
        "→  The chi-square statistic is 1.0 and the p-value is approximately 0.317\n",
        "\n",
        "# Conclusion :\n",
        "→ Since the p-value (0.317) is greater than the significance level (0.05), We fail to reject the Null Hypothesis .\n",
        "→  This means there is not enough evidence to conclude that the coin is biased towards tails.\n",
        "\n",
        "\n",
        "# Summary :\n",
        "→  The chi-square goodness of fit test indicates that the observed frequencies of heads and tails do not significantly differ from the expected frequencies of a fair coin at the 0.05 significance level.\n",
        "→  Therefore, we do not have sufficient evidence to reject the hypothesis that the coin is fair.\n",
        "\n"
      ],
      "metadata": {
        "id": "9Yn9_UIl4nmM",
        "colab": {
          "base_uri": "https://localhost:8080/"
        },
        "outputId": "00606e37-c9b2-428f-f09e-cdcdb4674eac"
      },
      "execution_count": null,
      "outputs": [
        {
          "output_type": "execute_result",
          "data": {
            "text/plain": [
              "(1.0, 0.31731050786291115)"
            ]
          },
          "metadata": {},
          "execution_count": 2
        }
      ]
    },
    {
      "cell_type": "markdown",
      "source": [
        "Q9. A study was conducted to determine if there is an association between smoking status (smoker or\n",
        "non-smoker) and lung cancer diagnosis (yes or no). The results are shown in the contingency table below.\n",
        "Conduct a chi-square test for independence to determine if there is a significant association between\n",
        "smoking status and lung cancer diagnosis.\n",
        ".\n",
        "\n",
        "Lung Cancer: Yes\n",
        "Lung Cancer : No\n",
        "Smoker 60 140\n",
        "Non-smoker 30 17\n",
        "\n",
        "Use a significance level of 0.05"
      ],
      "metadata": {
        "id": "yFqxFbTk285t"
      }
    },
    {
      "cell_type": "code",
      "source": [
        "#Ans9.\n",
        "\n",
        "→ We can perform a chi-square test for independence. This test will compare the observed frequencies in the contingency table to\n",
        "→ the expected frequencies under the assumption that the two variables are independent.\n",
        "\n",
        "# State the hypothesis\n",
        "# Null hypothesis (Ho) : Smoking status and lung cancer diagnosis are independent.\n",
        "# Alternative hypothesis (Ha) : Smoking status and lung cancer diagnosis are not independent.\n",
        "\n",
        "# Calculate the expected frequencies :\n",
        "\n",
        "# Use the formula : E = (row_total * column_total) / grand_total\n",
        "\n",
        "# Calculate the chi-square statistic :\n",
        "\n",
        "# Use the formula : X^2 = Σ(O - E)^2/E\n",
        "\n",
        "# where O are the observed frequencies and E are the expected frequencies.\n",
        "\n",
        "# Degree of freedom :\n",
        "\n",
        "# Degree of freedom = (number of rows - 1) * (number of columns - 1)\n",
        "\n",
        "# Determine the critical value :\n",
        "\n",
        "# Use the chisquare distribution table to find the critical value for the specified significance level (α = 0.05) and degree of freedom.\n",
        "\n",
        "\n",
        "\n",
        "## Calculalte using Python .\n",
        "\n",
        "import numpy as np\n",
        "import scipy.stats as stats\n",
        "\n",
        "# Observed frequencies\n",
        "observed = np.array ([[60, 140],\n",
        "                      [30, 170]])\n",
        "\n",
        "# Perform the chi-square test\n",
        "\n",
        "chi2_stat, p_value , dof, expected = stats.chi2_contingency (observed)\n",
        "\n",
        "# Print the results\n",
        "chi2_stat, p_value, dof, expected\n",
        "\n",
        "\n",
        "# Interpretation :\n",
        "\n",
        "→ chi-sqaure statistic : 12.057\n",
        "→ p-value : 0.000515\n",
        "→ dof : 1\n",
        "\n",
        "→ Expected frequencies :  45.,  155.\n",
        "                          45.,  155.\n",
        "\n",
        "# Conclusion :\n",
        "\n",
        "→ Critical value at  = 0.05 : Using the chi-sqaure distribution table or scipy.stats.chi2.ppf , We find that the critical value for 1 degree of freedom at\n",
        "α = 0.05 is 3.841\n",
        "\n",
        "→ Since the chi-square statistic (37.086) is much greater than critical value (3.841),\n",
        "→ We reject the Null Hypothesis.\n",
        "\n",
        "→ The p-value (0.000515) is much less than the significance level (0.05), further indicating that we reject the Null Hypothesis.\n",
        "\n",
        "\n",
        "# Summary :\n",
        "\n",
        "→ The chi-square test for independence shows a significant association between smoking status and lung cancer diagnosis.\n",
        "→ The test statistic (12.057) far exceeds the critical value (3.841), and the p-value is extremely small, suggesting a strong relationship between smoking and lung cancer.\n",
        "→ Therefore, we conclude that there is a significant association between smoking status and lung cancer diagnosis.\n"
      ],
      "metadata": {
        "id": "o99tPvIr4oSD",
        "colab": {
          "base_uri": "https://localhost:8080/"
        },
        "outputId": "7dc293d5-97cf-45bf-ed44-4eadaa0263c1"
      },
      "execution_count": null,
      "outputs": [
        {
          "output_type": "execute_result",
          "data": {
            "text/plain": [
              "(12.057347670250895,\n",
              " 0.0005158863863703744,\n",
              " 1,\n",
              " array([[ 45., 155.],\n",
              "        [ 45., 155.]]))"
            ]
          },
          "metadata": {},
          "execution_count": 2
        }
      ]
    },
    {
      "cell_type": "markdown",
      "source": [
        "Q10. A study was conducted to determine if the proportion of people who prefer milk chocolate, dark\n",
        "chocolate, or white chocolate is different in the U.S. versus the U.K. A random sample of 500 people from\n",
        "the U.S. and a random sample of 500 people from the U.K. were surveyed. The results are shown in the\n",
        "contingency table below. Conduct a chi-square test for independence to determine if there is a significant\n",
        "association between chocolate preference and country of origin.\n",
        "Use a significance level of 0.01.\n",
        "\n",
        "Milk Chocolate\n",
        "Dark Chocolate\n",
        "White Chocolate\n",
        "U.S. (n=500) 200 150 150\n",
        "U.K. (n=500) 225 175 100\n",
        "\n",
        "Use a significance level of 0.05"
      ],
      "metadata": {
        "id": "bXsfiVbd288c"
      }
    },
    {
      "cell_type": "code",
      "source": [
        "#Ans10.\n",
        "\n",
        "# To determine if there is a significant association between chocolate preference and country of origin, we can perform a chi-square test for independence using the given contingency table.\n",
        "\n",
        "# State the hypothesis :\n",
        "\n",
        "→  Null hypothesis (Ho) : There is no  association between chocolate preference and country of origin.\n",
        "\n",
        "→  Alternative hypothesis (Ha) : There is an association between chocolate preference and country of origin.\n",
        "\n",
        "# Calculate the expected frequencies :\n",
        "\n",
        "→  Use the formula : E = (row_total * column_total) / grand_total\n",
        "\n",
        "# Calculate the chi-square statistic :\n",
        "\n",
        "→  Use the formula : X^2  =  Σ(O - E)^2/E\n",
        "\n",
        "# where O are the observed frequencies and E are the expected frequencies\n",
        "\n",
        "# Degree of freedom :\n",
        "\n",
        "→  df = (number of rows - 1) * (number of columns - 1)\n",
        "\n",
        "# Determine the critical value and compare it to the chi-square statistic :\n",
        "\n",
        "→ Use the chi-square distribution table or Python to find the critical value for the specified significance level α = 0.01 and degrees of freedom.\n",
        "\n",
        "\n",
        "## Calculate using Python Code :\n",
        "\n",
        "import numpy as np\n",
        "import scipy.stats as stats\n",
        "\n",
        "# Observed frequencies\n",
        "observed = np.array ([[200, 150, 150],\n",
        "                      [225, 175, 100]])\n",
        "\n",
        "# Perform the chi-square test\n",
        "chi2_stat, p_value, dof, expected = stats.chi2_contingency(observed)\n",
        "\n",
        "# Print the results\n",
        "chi2_stat, p_value, dof, expected\n",
        "\n",
        "# Interpretation :\n",
        "\n",
        "→ Chi-square statistic : 13.393\n",
        "→ p-value : 0.00124\n",
        "→ Degree of freedom : 2\n",
        "→ Expected frequencies :\n",
        "                             212.5  165.5   125\n",
        "                             212.5  165.5   125\n",
        "\n",
        "# Conclusion :\n",
        "\n",
        "→  Critical value at α = 0.01 : Using the chi-square distribution table or scipy.stats.chi2.ppf , We find that the critical value for 2 degrees of freedom at α = 0.01 is 9.210\n",
        "→  Since the chi-square statistic (13.393) is greater than the critical value (9.210) , We reject the Null Hypothesis.\n",
        "→  The p-value (0.00124) is less than the significance level (0.01), further indicating that we reject the Null Hypothesis.\n",
        "\n",
        "\n",
        "# Summary :\n",
        "→ The chi-square test for independence indicates a significant association between chocolate preference and country of origin\n",
        "→ The test statistic (13.393) exceeds the critical value (9.210), and the p-value is smaller than the significance level (0.01).\n",
        "→ Therefore, we conclude that there is a significant association between chocolate preference and country of origin.\n",
        "\n"
      ],
      "metadata": {
        "id": "gq9D0rs54pnr",
        "colab": {
          "base_uri": "https://localhost:8080/"
        },
        "outputId": "23c627b8-24a4-4b62-825d-9052889d0dae"
      },
      "execution_count": null,
      "outputs": [
        {
          "output_type": "execute_result",
          "data": {
            "text/plain": [
              "(13.393665158371041,\n",
              " 0.0012348168997745918,\n",
              " 2,\n",
              " array([[212.5, 162.5, 125. ],\n",
              "        [212.5, 162.5, 125. ]]))"
            ]
          },
          "metadata": {},
          "execution_count": 3
        }
      ]
    },
    {
      "cell_type": "code",
      "source": [
        "import numpy as np\n",
        "import scipy.stats as stats\n",
        "\n",
        "# Observed frequencies\n",
        "observed = np.array([[200, 150, 150],\n",
        "                     [225, 175, 100]])\n",
        "\n",
        "# Perform the chi-square test\n",
        "chi2_stat, p_value, dof, expected = stats.chi2_contingency(observed)\n",
        "\n",
        "# Print the results\n",
        "chi2_stat, p_value, dof, expected"
      ],
      "metadata": {
        "colab": {
          "base_uri": "https://localhost:8080/"
        },
        "id": "N-Ng0-kUPvkT",
        "outputId": "e2cf0188-93c0-419c-b0fc-bf2cb5329fa2"
      },
      "execution_count": 3,
      "outputs": [
        {
          "output_type": "execute_result",
          "data": {
            "text/plain": [
              "(13.393665158371041,\n",
              " 0.0012348168997745918,\n",
              " 2,\n",
              " array([[212.5, 162.5, 125. ],\n",
              "        [212.5, 162.5, 125. ]]))"
            ]
          },
          "metadata": {},
          "execution_count": 3
        }
      ]
    },
    {
      "cell_type": "markdown",
      "source": [
        "Q11. A random sample of 30 people was selected from a population with an unknown mean and standard\n",
        "deviation. The sample mean was found to be 72 and the sample standard deviation was found to be 10.\n",
        "Conduct a hypothesis test to determine if the population mean is significantly different from 70. Use a\n",
        "significance level of 0.05\n"
      ],
      "metadata": {
        "id": "IhXZpWH_28_e"
      }
    },
    {
      "cell_type": "code",
      "source": [
        "#Ans11.\n",
        "\n",
        "# To determine if the population mean is significantly different from 70 using the given sample data, we will conduct a one-sample t-test. Here are the stepsTo determine if the population mean is significantly different from 70 using the given sample data, we will conduct a one-sample t-test. Here are the steps:\n",
        "# Conduct the One-Sample t-Test\n",
        "\n",
        "# State the hypothesis :\n",
        "\n",
        "# Null Hypothesis (Ho) :  μ = 70 (the population mean is 70)\n",
        "# Alternate Hypothesis (Ha) : μ ≠ 70 (the population mean is not 70)\n",
        "\n",
        "# calculate the test statistic :\n",
        "\n",
        "→  t = (x̄ - μ)/(s/√n)\n",
        "\n",
        " # Given data :\n",
        "\n",
        " sample mean = 72\n",
        " hypothesized population mean = 70\n",
        " sample standard deviation = 10\n",
        " sample size = 30\n",
        "\n",
        " # Determine the degree of freedom :\n",
        " df = n -1 = 29\n",
        "\n",
        " # Determine the critical value and p-value\n",
        "\n",
        " # Use the t-distribution table or Python to find the critical value and p-value for the specified significance level (α = 0.05)\n",
        "\n",
        " # Compare the test statistic to the critical value and make a decision :\n",
        "\n",
        "→  If the test statistic exceeds the critical value, we reject the Null Hypothesis.Statistic\n",
        "\n",
        "\n",
        "## Calculate the using Python Code :\n",
        "\n",
        "import scipy.stats as stats\n",
        "\n",
        "# Given data\n",
        "sample_mean = 72\n",
        "hypothesized_mean = 70\n",
        "sample_std_dev = 10\n",
        "sample_size = 30\n",
        "alpha = 0.05\n",
        "\n",
        "# Calculate the t-statistic\n",
        "t_stat = (sample_mean-hypothesized_mean) / (sample_std_dev / (sample_size**0.5))\n",
        "\n",
        "# Degrees of freedom\n",
        "df = sample_size - 1\n",
        "\n",
        "# Calculate the p-value\n",
        "p_value = 2 * stats.t.sf(abs(t_stat), df)\n",
        "\n",
        "# Print the results\n",
        "t_stat, p_value\n",
        "\n",
        "\n",
        "# Interpretation :\n",
        "\n",
        "t-statistic : 1.095\n",
        "p-value : 0.282\n",
        "Degree of freedom : 29\n",
        "\n",
        "# Conclusion :\n",
        "\n",
        "→ Critical value at  = 0.05 : for a two-tailed test with df = 29 , the critical value from the t-distribution table is approximately 2.Statistic\n",
        "→ Since the t-statistic (1.095) is less than the critical value (2.045), We fail to eject the Null Hypothesis.\n",
        "→ The p-value (0.282) is greater than the significance level (0.05), further indicating that we fail to reject the Null Hypothesis.\n",
        "\n",
        "\n",
        "# Summary:\n",
        "→ Based on the one-sample t-test, we do not have enough evidence to conclude that the population mean is significantly different from 70 at the 0.05 significance level.\n",
        "→ The sample mean of 72 does not provide sufficient evidence to reject the null hypothesis that the population mean is 70.\n"
      ],
      "metadata": {
        "id": "6MOET6ff4qQ9",
        "colab": {
          "base_uri": "https://localhost:8080/"
        },
        "outputId": "f800e61f-c257-4223-aed9-714a5934ed29"
      },
      "execution_count": null,
      "outputs": [
        {
          "output_type": "execute_result",
          "data": {
            "text/plain": [
              "(1.0954451150103321, 0.28233623728606977)"
            ]
          },
          "metadata": {},
          "execution_count": 6
        }
      ]
    },
    {
      "cell_type": "code",
      "source": [],
      "metadata": {
        "id": "qINd7Sx8ZBZu"
      },
      "execution_count": null,
      "outputs": []
    }
  ]
}