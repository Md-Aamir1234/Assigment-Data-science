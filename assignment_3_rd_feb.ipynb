{
  "nbformat": 4,
  "nbformat_minor": 0,
  "metadata": {
    "colab": {
      "provenance": []
    },
    "kernelspec": {
      "name": "python3",
      "display_name": "Python 3"
    },
    "language_info": {
      "name": "python"
    }
  },
  "cells": [
    {
      "cell_type": "markdown",
      "source": [
        "Q1. Which keyword is used to create a function? Create a function to return a list of odd numbers in the\n",
        "range of 1 to 25."
      ],
      "metadata": {
        "id": "3nId8G-2ejsz"
      }
    },
    {
      "cell_type": "code",
      "source": [
        "#\"def \" is the keyword to creat a funtion and start to right a code . def keyword is used to initialise a function\n",
        "def test(l) :\n",
        "  l1 = []\n",
        "  for i in l :\n",
        "    if (i%2!=0):\n",
        "        l1.append(i)\n",
        "  return l1"
      ],
      "metadata": {
        "id": "cjTRk6fX9JkP"
      },
      "execution_count": 2,
      "outputs": []
    },
    {
      "cell_type": "code",
      "source": [
        "test(l)"
      ],
      "metadata": {
        "id": "lOtTIf6q-iMg",
        "colab": {
          "base_uri": "https://localhost:8080/"
        },
        "outputId": "66911775-f500-4394-f064-91f1bdb1dcfd"
      },
      "execution_count": 4,
      "outputs": [
        {
          "output_type": "execute_result",
          "data": {
            "text/plain": [
              "[1, 3, 5, 7, 9, 11, 13, 15, 17, 19, 21, 23, 25]"
            ]
          },
          "metadata": {},
          "execution_count": 4
        }
      ]
    },
    {
      "cell_type": "code",
      "source": [],
      "metadata": {
        "id": "hVIkqIf_DOiy"
      },
      "execution_count": null,
      "outputs": []
    },
    {
      "cell_type": "markdown",
      "source": [
        "Q2. Why *args and **kwargs is used in some functions? Create a function each for *args and **kwargs\n",
        "to demonstrate their use."
      ],
      "metadata": {
        "id": "WDo2YOz7enn_"
      }
    },
    {
      "cell_type": "code",
      "source": [
        "#Answer :- *args is use in a function as a argument as we call that funtion we can pass any no. of parameter to it.\n",
        "# *args (Meaning) : n, no. of argument you can pass inside a function.\n",
        "# one or more argument pass inside a python that is meaning of steric function. no issue at all.\n",
        "# args is not a key word. its a conventional . Can you give any other name in place of 'args' there is no issue at all.\n",
        "# *args store a data in tuple () form\n",
        "# this function is valid for linear value\n",
        "\n",
        "def test2(*args) :\n",
        "  return args\n",
        "\n",
        "\n",
        "\n",
        "# **kwargs is used in a funtions as we can pass it to any key and value pair of the function while we calling it .\n",
        "# it will work only if you enter data key and value pair in it must.\n",
        "# meaning of  double steric(**) data must be in key and value pair.\n",
        "# return a data in dictionary {} form or data type is 'dict'\n",
        "\n",
        "def test3(**kwargs) :\n",
        "  return kwargs\n",
        "\n",
        "\n"
      ],
      "metadata": {
        "id": "19IzYZv1o8nm"
      },
      "execution_count": 9,
      "outputs": []
    },
    {
      "cell_type": "code",
      "source": [
        "test2(1,2,3,5, \"sudh\",\"aamir_anamika\" ,[1,2,3,4,7])"
      ],
      "metadata": {
        "colab": {
          "base_uri": "https://localhost:8080/"
        },
        "id": "gsszhwEB7Qv-",
        "outputId": "4567a6e0-806a-4f8b-f79f-c301f5402781"
      },
      "execution_count": 10,
      "outputs": [
        {
          "output_type": "execute_result",
          "data": {
            "text/plain": [
              "(1, 2, 3, 5, 'sudh', 'aamir_anamika', [1, 2, 3, 4, 7])"
            ]
          },
          "metadata": {},
          "execution_count": 10
        }
      ]
    },
    {
      "cell_type": "code",
      "source": [
        "test3(name = \"aamir\", a= [1,2,3,4,5], b= [1,2,3,4] )"
      ],
      "metadata": {
        "colab": {
          "base_uri": "https://localhost:8080/"
        },
        "id": "5YFSm4rf7Q0L",
        "outputId": "19137a23-c8dc-4e96-ca4a-91fcad1739c1"
      },
      "execution_count": 11,
      "outputs": [
        {
          "output_type": "execute_result",
          "data": {
            "text/plain": [
              "{'name': 'aamir', 'a': [1, 2, 3, 4, 5], 'b': [1, 2, 3, 4]}"
            ]
          },
          "metadata": {},
          "execution_count": 11
        }
      ]
    },
    {
      "cell_type": "markdown",
      "source": [
        "Q3.  What is an iterator in python? Name the method used to initialise the iterator object and the method\n",
        "used for iteration. Use these methods to print the first five elements of the given list [2, 4, 6, 8, 10, 12, 14,\n",
        "16, 18, 20]."
      ],
      "metadata": {
        "id": "a4HtiMMbe5Am"
      }
    },
    {
      "cell_type": "markdown",
      "source": [
        "iterator :- Such an object which we can go to next and extract data one by one. thats a meaning of iterator . iterator is an object that contains a countable number of values. you can traverse through all the values.Technically in Python an iterator is an object which implements the iterator protocol, which consist of the method **iter()** and **next()**"
      ],
      "metadata": {
        "id": "UssfNJygBqxv"
      }
    },
    {
      "cell_type": "code",
      "source": [
        "l = [2,4,6,8,10,12,14,16,18,20]\n",
        "l = iter(l)\n",
        "next(l)"
      ],
      "metadata": {
        "id": "K0ch394abXMz",
        "colab": {
          "base_uri": "https://localhost:8080/"
        },
        "outputId": "ed6370ba-95da-4dcf-c1e8-f50b3ffb14ce"
      },
      "execution_count": 12,
      "outputs": [
        {
          "output_type": "execute_result",
          "data": {
            "text/plain": [
              "2"
            ]
          },
          "metadata": {},
          "execution_count": 12
        }
      ]
    },
    {
      "cell_type": "code",
      "source": [
        "next(l)"
      ],
      "metadata": {
        "colab": {
          "base_uri": "https://localhost:8080/"
        },
        "id": "iMzLsNAhErOk",
        "outputId": "8ca928fd-63bc-4565-891f-50a44a5ebda4"
      },
      "execution_count": 13,
      "outputs": [
        {
          "output_type": "execute_result",
          "data": {
            "text/plain": [
              "4"
            ]
          },
          "metadata": {},
          "execution_count": 13
        }
      ]
    },
    {
      "cell_type": "code",
      "source": [
        "next(l)"
      ],
      "metadata": {
        "colab": {
          "base_uri": "https://localhost:8080/"
        },
        "id": "VMVLceooErYB",
        "outputId": "2eb91add-4c14-4f86-bb26-7df7d087dfa5"
      },
      "execution_count": 14,
      "outputs": [
        {
          "output_type": "execute_result",
          "data": {
            "text/plain": [
              "6"
            ]
          },
          "metadata": {},
          "execution_count": 14
        }
      ]
    },
    {
      "cell_type": "code",
      "source": [
        "next(l)"
      ],
      "metadata": {
        "colab": {
          "base_uri": "https://localhost:8080/"
        },
        "id": "wRL-HyUaErcM",
        "outputId": "6beb6695-7455-411e-8c1f-dac89cf7c40c"
      },
      "execution_count": 15,
      "outputs": [
        {
          "output_type": "execute_result",
          "data": {
            "text/plain": [
              "8"
            ]
          },
          "metadata": {},
          "execution_count": 15
        }
      ]
    },
    {
      "cell_type": "code",
      "source": [
        "next(l)"
      ],
      "metadata": {
        "colab": {
          "base_uri": "https://localhost:8080/"
        },
        "id": "WSTDBL0oErgS",
        "outputId": "d79f0d37-64d7-47ad-f5f5-0dbfcb7c056f"
      },
      "execution_count": 16,
      "outputs": [
        {
          "output_type": "execute_result",
          "data": {
            "text/plain": [
              "10"
            ]
          },
          "metadata": {},
          "execution_count": 16
        }
      ]
    },
    {
      "cell_type": "markdown",
      "source": [
        "Q4.  What is a generator function in python? Why yield keyword is used? Give an example of a generator\n",
        "function."
      ],
      "metadata": {
        "id": "NPzGL5KefBl4"
      }
    },
    {
      "cell_type": "markdown",
      "source": [
        "Answer : Generator functions are a special kind of function that return a lazy iterator or one by one data as a outcome in your consol called a generator iterator. Generator function reduces a memory consumption. it does not store the entire data at once. Data comes out one by one .this function without holding everything into a memory . Yield is a reserve keyword and also help in generating data in the generated function and return a values from a generator.Genrator function is created with Yield keyword."
      ],
      "metadata": {
        "id": "tKRx2qtm0-Ad"
      }
    },
    {
      "cell_type": "code",
      "source": [
        "# Example\n",
        "def fab(n) :\n",
        "  a ,b = 0, 1\n",
        "  for i in range(n) :\n",
        "    yield a\n",
        "    a,b = b , a+b"
      ],
      "metadata": {
        "id": "zanmlXbibXTO"
      },
      "execution_count": 17,
      "outputs": []
    },
    {
      "cell_type": "code",
      "source": [
        "for i in fab(10) :\n",
        "  print(i)"
      ],
      "metadata": {
        "colab": {
          "base_uri": "https://localhost:8080/"
        },
        "id": "qi4g0Re0zwqy",
        "outputId": "f9aa01a1-33c2-425d-c0fd-803e00a14f9c"
      },
      "execution_count": 18,
      "outputs": [
        {
          "output_type": "stream",
          "name": "stdout",
          "text": [
            "0\n",
            "1\n",
            "1\n",
            "2\n",
            "3\n",
            "5\n",
            "8\n",
            "13\n",
            "21\n",
            "34\n"
          ]
        }
      ]
    },
    {
      "cell_type": "markdown",
      "source": [
        "Q5. Create a generator function for prime numbers less than 1000. Use the next() method to print the\n",
        "first 20 prime numbers."
      ],
      "metadata": {
        "id": "CWWCD9Ww-FQ0"
      }
    },
    {
      "cell_type": "code",
      "source": [
        "import math\n",
        "def main() :\n",
        "  n = 1\n",
        "  count = 3\n",
        "\n",
        "  while n < 1000 :\n",
        "    n+= 1\n",
        "    isprime = True\n",
        "\n",
        "    for x in range(2, int(math.sqrt(count) + 1)) :\n",
        "      if count % x == 0 :\n",
        "        isprime = False\n",
        "        break\n",
        "\n",
        "    if isprime :\n",
        "      print(count)\n",
        "\n",
        "    count += 1\n",
        "\n",
        "main()"
      ],
      "metadata": {
        "id": "RD3tnM0k-Drf",
        "colab": {
          "base_uri": "https://localhost:8080/"
        },
        "outputId": "f73e6144-cac7-4456-8e83-621112194162"
      },
      "execution_count": 19,
      "outputs": [
        {
          "output_type": "stream",
          "name": "stdout",
          "text": [
            "3\n",
            "5\n",
            "7\n",
            "11\n",
            "13\n",
            "17\n",
            "19\n",
            "23\n",
            "29\n",
            "31\n",
            "37\n",
            "41\n",
            "43\n",
            "47\n",
            "53\n",
            "59\n",
            "61\n",
            "67\n",
            "71\n",
            "73\n",
            "79\n",
            "83\n",
            "89\n",
            "97\n",
            "101\n",
            "103\n",
            "107\n",
            "109\n",
            "113\n",
            "127\n",
            "131\n",
            "137\n",
            "139\n",
            "149\n",
            "151\n",
            "157\n",
            "163\n",
            "167\n",
            "173\n",
            "179\n",
            "181\n",
            "191\n",
            "193\n",
            "197\n",
            "199\n",
            "211\n",
            "223\n",
            "227\n",
            "229\n",
            "233\n",
            "239\n",
            "241\n",
            "251\n",
            "257\n",
            "263\n",
            "269\n",
            "271\n",
            "277\n",
            "281\n",
            "283\n",
            "293\n",
            "307\n",
            "311\n",
            "313\n",
            "317\n",
            "331\n",
            "337\n",
            "347\n",
            "349\n",
            "353\n",
            "359\n",
            "367\n",
            "373\n",
            "379\n",
            "383\n",
            "389\n",
            "397\n",
            "401\n",
            "409\n",
            "419\n",
            "421\n",
            "431\n",
            "433\n",
            "439\n",
            "443\n",
            "449\n",
            "457\n",
            "461\n",
            "463\n",
            "467\n",
            "479\n",
            "487\n",
            "491\n",
            "499\n",
            "503\n",
            "509\n",
            "521\n",
            "523\n",
            "541\n",
            "547\n",
            "557\n",
            "563\n",
            "569\n",
            "571\n",
            "577\n",
            "587\n",
            "593\n",
            "599\n",
            "601\n",
            "607\n",
            "613\n",
            "617\n",
            "619\n",
            "631\n",
            "641\n",
            "643\n",
            "647\n",
            "653\n",
            "659\n",
            "661\n",
            "673\n",
            "677\n",
            "683\n",
            "691\n",
            "701\n",
            "709\n",
            "719\n",
            "727\n",
            "733\n",
            "739\n",
            "743\n",
            "751\n",
            "757\n",
            "761\n",
            "769\n",
            "773\n",
            "787\n",
            "797\n",
            "809\n",
            "811\n",
            "821\n",
            "823\n",
            "827\n",
            "829\n",
            "839\n",
            "853\n",
            "857\n",
            "859\n",
            "863\n",
            "877\n",
            "881\n",
            "883\n",
            "887\n",
            "907\n",
            "911\n",
            "919\n",
            "929\n",
            "937\n",
            "941\n",
            "947\n",
            "953\n",
            "967\n",
            "971\n",
            "977\n",
            "983\n",
            "991\n",
            "997\n"
          ]
        }
      ]
    },
    {
      "cell_type": "code",
      "source": [],
      "metadata": {
        "id": "19BH8944-DvU"
      },
      "execution_count": 19,
      "outputs": []
    },
    {
      "cell_type": "markdown",
      "source": [
        "Q6. Write a python program to print the first 10 Fibonacci numbers using a while loop."
      ],
      "metadata": {
        "id": "XR5tA_FzfK9K"
      }
    },
    {
      "cell_type": "code",
      "source": [
        "x = 0\n",
        "a ,b = 0,1\n",
        "while x < 10 :\n",
        "  print(a)\n",
        "  a ,b = b, a+b\n",
        "  x+=1"
      ],
      "metadata": {
        "colab": {
          "base_uri": "https://localhost:8080/"
        },
        "id": "lkROY0UnCZlK",
        "outputId": "1f6ffa18-9d0e-4854-b6ce-bc3d2333cfc3"
      },
      "execution_count": 21,
      "outputs": [
        {
          "output_type": "stream",
          "name": "stdout",
          "text": [
            "0\n",
            "1\n",
            "1\n",
            "2\n",
            "3\n",
            "5\n",
            "8\n",
            "13\n",
            "21\n",
            "34\n"
          ]
        }
      ]
    },
    {
      "cell_type": "code",
      "source": [],
      "metadata": {
        "id": "majneJIsCZqi"
      },
      "execution_count": 21,
      "outputs": []
    },
    {
      "cell_type": "markdown",
      "source": [
        "Q7. Write a List Comprehension to iterate through the given string: ‘pwskills’.\n",
        "\n",
        "Expected output: ['p', 'w', 's', 'k', 'i', 'l', 'l', 's']"
      ],
      "metadata": {
        "id": "d7cthjsMfQfJ"
      }
    },
    {
      "cell_type": "code",
      "source": [
        "string= \"pwskills\"\n",
        "[i for i in string]"
      ],
      "metadata": {
        "id": "f4xu7KPzf44d",
        "colab": {
          "base_uri": "https://localhost:8080/"
        },
        "outputId": "6ad1009b-d73b-4344-9c0c-667984b67e51"
      },
      "execution_count": 22,
      "outputs": [
        {
          "output_type": "execute_result",
          "data": {
            "text/plain": [
              "['p', 'w', 's', 'k', 'i', 'l', 'l', 's']"
            ]
          },
          "metadata": {},
          "execution_count": 22
        }
      ]
    },
    {
      "cell_type": "markdown",
      "source": [
        "Q8. Write a python program to check whether a given number is Palindrome or not using a while loop."
      ],
      "metadata": {
        "id": "jwL3s-LqfVOL"
      }
    },
    {
      "cell_type": "code",
      "source": [
        "def isPalindrome(n) :\n",
        "  x = str(n)\n",
        "  l=[i for i in x]\n",
        "  for j in range(len(l)) :\n",
        "    if l[j] == l[len(l) -1] and j <= len(l) :\n",
        "      return True\n",
        "    else :\n",
        "      return False\n",
        "isPalindrome(10001)"
      ],
      "metadata": {
        "id": "W93Oj5bxb-0V",
        "colab": {
          "base_uri": "https://localhost:8080/"
        },
        "outputId": "ea5c9d2c-8a05-4d35-cae5-802bced9ac2e"
      },
      "execution_count": 23,
      "outputs": [
        {
          "output_type": "execute_result",
          "data": {
            "text/plain": [
              "True"
            ]
          },
          "metadata": {},
          "execution_count": 23
        }
      ]
    },
    {
      "cell_type": "markdown",
      "source": [
        "Q9. Write a code to print odd numbers from 1 to 100 using list comprehension.\n",
        "\n",
        "Note: Use a list comprehension to create a list from 1 to 100 and use another List comprehension to filter\n",
        "out odd numbers.\n",
        "Note: Create your assignment in Jupyter notebook and upload it to GitHub & share that GitHub repository\n",
        "\n",
        " link through your dashboard.\n",
        "Assignment"
      ],
      "metadata": {
        "id": "a8VhYsDIfZxL"
      }
    },
    {
      "cell_type": "code",
      "source": [
        "l = [i for i in range(1,101)]\n",
        "l2 = [i for i in l if i%2!=0]\n",
        "l2"
      ],
      "metadata": {
        "id": "B2hWKNaDcxvo",
        "colab": {
          "base_uri": "https://localhost:8080/"
        },
        "outputId": "21a71518-a4ec-422f-9675-e3564fd1409a"
      },
      "execution_count": 33,
      "outputs": [
        {
          "output_type": "execute_result",
          "data": {
            "text/plain": [
              "[1,\n",
              " 3,\n",
              " 5,\n",
              " 7,\n",
              " 9,\n",
              " 11,\n",
              " 13,\n",
              " 15,\n",
              " 17,\n",
              " 19,\n",
              " 21,\n",
              " 23,\n",
              " 25,\n",
              " 27,\n",
              " 29,\n",
              " 31,\n",
              " 33,\n",
              " 35,\n",
              " 37,\n",
              " 39,\n",
              " 41,\n",
              " 43,\n",
              " 45,\n",
              " 47,\n",
              " 49,\n",
              " 51,\n",
              " 53,\n",
              " 55,\n",
              " 57,\n",
              " 59,\n",
              " 61,\n",
              " 63,\n",
              " 65,\n",
              " 67,\n",
              " 69,\n",
              " 71,\n",
              " 73,\n",
              " 75,\n",
              " 77,\n",
              " 79,\n",
              " 81,\n",
              " 83,\n",
              " 85,\n",
              " 87,\n",
              " 89,\n",
              " 91,\n",
              " 93,\n",
              " 95,\n",
              " 97,\n",
              " 99]"
            ]
          },
          "metadata": {},
          "execution_count": 33
        }
      ]
    }
  ]
}