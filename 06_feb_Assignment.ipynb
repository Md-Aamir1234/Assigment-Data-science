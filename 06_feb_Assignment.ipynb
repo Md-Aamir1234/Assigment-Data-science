{
  "nbformat": 4,
  "nbformat_minor": 0,
  "metadata": {
    "colab": {
      "provenance": []
    },
    "kernelspec": {
      "name": "python3",
      "display_name": "Python 3"
    },
    "language_info": {
      "name": "python"
    }
  },
  "cells": [
    {
      "cell_type": "markdown",
      "source": [
        "Q1. Create a function which will take a list as an argument and return the product of all the numbers\n",
        "after creating a flat list.\n",
        "Use the below-given list as an argument for your function.\n",
        "list1 = [1,2,3,4, [44,55,66, True], False, (34,56,78,89,34), {1,2,3,3,2,1}, {1:34, \"key2\": [55, 67, 78, 89], 4: (45,\n",
        "22, 61, 34)}, [56, 'data science'], 'Machine Learning']\n",
        "\n",
        "Note: you must extract numeric keys and values of the dictionary also."
      ],
      "metadata": {
        "id": "XhXGfGc9NdbP"
      }
    },
    {
      "cell_type": "code",
      "source": [
        "#Ans.\n",
        "from functools import reduce\n",
        "from operator import mul\n",
        "def flatten_and_multiply(nested_list):\n",
        "    def flatten(lst):\n",
        "        for item in lst:\n",
        "            if isinstance(item, (list, tuple, dict)):\n",
        "                yield from flatten(item)\n",
        "            else:\n",
        "                yield item\n",
        "\n",
        "    flattened_list = list(flatten(nested_list))\n",
        "    numbers = [x for x in flattened_list if isinstance(x, int) or isinstance(x, float)]\n",
        "    return reduce(mul, numbers) if numbers else 0\n",
        "\n",
        "list1 = [1, 2, 3, 4, [44, 55, 66, True], False, (34, 56, 78, 89, 34), {1, 2, 3, 3, 2, 1}, {1:34, \"key2\": [55, 67, 78, 89], 4: (45, 22, 61, 34)}, [56, 'data science'], 'Machine Learning']\n",
        "product = flatten_and_multiply(list1)\n",
        "print(\"Product of all numbers:\", product)\n"
      ],
      "metadata": {
        "colab": {
          "base_uri": "https://localhost:8080/"
        },
        "id": "cjkBjxwLNsli",
        "outputId": "9f62d563-0f40-4f59-aa69-4fb561836f68"
      },
      "execution_count": 8,
      "outputs": [
        {
          "output_type": "stream",
          "name": "stdout",
          "text": [
            "Product of all numbers: 0\n"
          ]
        }
      ]
    },
    {
      "cell_type": "markdown",
      "source": [
        "Q2. Write a python program for encrypting a message sent to you by your friend. The logic of encryption\n",
        "should be such that, for a the output should be z. For b, the output should be y. For c, the output should\n",
        "be x respectively. Also, the whitespace should be replaced with a dollar sign. Keep the punctuation\n",
        "marks unchanged.\n",
        "Input Sentence: I want to become a Data Scientist.\n",
        "Encrypt the above input sentence using the program you just created.\n",
        "Note: Convert the given input sentence into lowercase before encrypting. The final output should be\n",
        "lowercase."
      ],
      "metadata": {
        "id": "wGHJ1kGrN9DP"
      }
    },
    {
      "cell_type": "code",
      "source": [
        "#Ans.\n",
        "def encrypt_sentence(sentence):\n",
        "    sentence = sentence.lower()\n",
        "    encrypted_sentence = \"\"\n",
        "    for char in sentence:\n",
        "        if char == \" \":\n",
        "            encrypted_sentence += \"$\"\n",
        "        elif char.isalpha():\n",
        "            encrypted_sentence += chr(122 - ord(char) + 97)\n",
        "        else:\n",
        "            encrypted_sentence += char\n",
        "    return encrypted_sentence\n",
        "\n",
        "sentence = \"I want to become a Data Scientist.\"\n",
        "encrypted_sentence = encrypt_sentence(sentence)\n",
        "print(\"Encrypted Sentence: \", encrypted_sentence)"
      ],
      "metadata": {
        "colab": {
          "base_uri": "https://localhost:8080/"
        },
        "id": "tFfRp3rYNso4",
        "outputId": "db7bef9a-d407-4596-864b-095eaed49aa8"
      },
      "execution_count": 7,
      "outputs": [
        {
          "output_type": "stream",
          "name": "stdout",
          "text": [
            "Encrypted Sentence:  r$dzmg$gl$yvxlnv$z$wzgz$hxrvmgrhg.\n"
          ]
        }
      ]
    },
    {
      "cell_type": "code",
      "source": [],
      "metadata": {
        "id": "PkYi8ofXNsuy"
      },
      "execution_count": 7,
      "outputs": []
    }
  ]
}