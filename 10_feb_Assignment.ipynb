{
  "nbformat": 4,
  "nbformat_minor": 0,
  "metadata": {
    "colab": {
      "provenance": []
    },
    "kernelspec": {
      "name": "python3",
      "display_name": "Python 3"
    },
    "language_info": {
      "name": "python"
    }
  },
  "cells": [
    {
      "cell_type": "markdown",
      "source": [
        "Q1. Which function is used to open a file? What are the different modes of opening a file? Explain each mode\n",
        "of file opening."
      ],
      "metadata": {
        "id": "cUCUh_eOnfaF"
      }
    },
    {
      "cell_type": "markdown",
      "source": [
        "\"\"\"\n",
        "Ans.1:-\n",
        "In Python, the built-in open function is used to open a file.\n",
        "The open function takes two arguments: the name of the file and the mode in which to open the file.\n",
        "\n",
        "1. 'r' (read mode): This is the default mode and is used to read the contents of an existing file.\n",
        "If the file does not exist, an error is raised.\n",
        "\n",
        "2. 'w' (write mode): This mode is used to write to a file. If the file already exists, its contents are truncated and a new file is created.\n",
        "If the file does not exist, a new file is created.\n",
        "\n",
        "3. 'a' (append mode): This mode is used to append data to an existing file.\n",
        "If the file does not exist, a new file is created.\n",
        "\n",
        "4. 'x' (exclusive creation mode): This mode is used to create a new file for writing.\n",
        "If the file already exists, an error is raised.\n",
        "\n",
        "5. 'b' (binary mode): This mode is used to read and write binary data, such as images and audio files.\"\"\""
      ],
      "metadata": {
        "id": "SRVSIZ9r8jO-"
      }
    },
    {
      "cell_type": "code",
      "source": [],
      "metadata": {
        "id": "ggnDBS6BnTYd"
      },
      "execution_count": 12,
      "outputs": []
    },
    {
      "cell_type": "markdown",
      "source": [
        "Q2. Why close() function is used? Why is it important to close a file?\n"
      ],
      "metadata": {
        "id": "CLIG8Grxn5Yi"
      }
    },
    {
      "cell_type": "code",
      "source": [
        "#Ans2.\n",
        "#The close() function is used to close a file that was opened with the open function.\n",
        "#Closing a file is an important step in the file-handling process because it ensures that all change"
      ],
      "metadata": {
        "id": "AzpQv9l_nTba"
      },
      "execution_count": 13,
      "outputs": []
    },
    {
      "cell_type": "code",
      "source": [],
      "metadata": {
        "id": "Xye_FQM6nTex"
      },
      "execution_count": 13,
      "outputs": []
    },
    {
      "cell_type": "markdown",
      "source": [
        "Q3. Write a python program to create a text fileclose the file. Open this file and read the content of the file.  \n",
        ". Write ‘I want to become a Data Scientist’ in that file. Then"
      ],
      "metadata": {
        "id": "e_Oq0EsJoARy"
      }
    },
    {
      "cell_type": "code",
      "source": [
        "f =open(\"ds.txt\", \"w\")\n",
        "f.write(\"I want to become a data scientist\")\n",
        "f.close ()\n",
        "\n",
        "f= open(\"ds.txt\", \"r\")\n",
        "data = f.read()\n",
        "print(data)\n"
      ],
      "metadata": {
        "id": "EJ0omT3NnTh_",
        "colab": {
          "base_uri": "https://localhost:8080/"
        },
        "outputId": "5f36685e-8a35-4ddf-e9a6-5ac4a1ea3d2b"
      },
      "execution_count": 14,
      "outputs": [
        {
          "output_type": "stream",
          "name": "stdout",
          "text": [
            "I want to become a data scientist\n"
          ]
        }
      ]
    },
    {
      "cell_type": "code",
      "source": [],
      "metadata": {
        "id": "6pdvCXvHoZ3s"
      },
      "execution_count": null,
      "outputs": []
    },
    {
      "cell_type": "markdown",
      "source": [
        "Q4. Explain the following with python code: read(), readline() and readlines().\n"
      ],
      "metadata": {
        "id": "e0i0P-mRoF2l"
      }
    },
    {
      "cell_type": "code",
      "source": [
        "# Ans4 :\n",
        "# The read(), readline() and readlines() function are used to send data from a file in Python.\n",
        "# The read() function reads the entire contents of a file and returns it as a string.\n",
        "\n",
        "\n",
        "f = open(\"example.txt\", \"w\")\n",
        "f.write(\"This is DS batch\\n\")\n",
        "f.write(\"This is Python code\\n\")\n",
        "f.write(\"This is file topic\")\n",
        "f.close ()\n",
        "\n",
        "f = open(\"example.txt\" ,\"r\")\n",
        "content = f.read()\n",
        "print(content)\n",
        "f.close()\n",
        "\n",
        "# The readline() function reads a single from a file and returns it as a string.\n",
        "f = open(\"example.txt\", \"r\")\n",
        "line = f.readline()\n",
        "print(line)\n",
        "f.close()\n",
        "\n",
        "#The readlines() function reads all the line from a file and returns them as a list of strings , where each element in the  list represents a single line from the file.\n",
        "f = open(\"example.txt\", \"r\")\n",
        "lines = f.readlines()\n",
        "print(lines)\n",
        "f.close"
      ],
      "metadata": {
        "id": "Ry6nrbxYnTmY",
        "colab": {
          "base_uri": "https://localhost:8080/"
        },
        "outputId": "d1105cd0-21c2-4b3b-9a48-83bab6cf6e02"
      },
      "execution_count": 4,
      "outputs": [
        {
          "output_type": "stream",
          "name": "stdout",
          "text": [
            "This is DS batch\n",
            "This is Python code\n",
            "This is file topic\n",
            "This is DS batch\n",
            "\n",
            "['This is DS batch\\n', 'This is Python code\\n', 'This is file topic']\n"
          ]
        },
        {
          "output_type": "execute_result",
          "data": {
            "text/plain": [
              "<function TextIOWrapper.close()>"
            ]
          },
          "metadata": {},
          "execution_count": 4
        }
      ]
    },
    {
      "cell_type": "code",
      "source": [],
      "metadata": {
        "id": "04jQXGcxnTpG"
      },
      "execution_count": null,
      "outputs": []
    },
    {
      "cell_type": "markdown",
      "source": [
        "Q5. Explain why with statement is used with open(). What is the advantage of using with statement and\n",
        "open() together?\n"
      ],
      "metadata": {
        "id": "z3tlNp9JoMSi"
      }
    },
    {
      "cell_type": "code",
      "source": [
        "#Ans5 :\n",
        "#The with statement is used in Python to simplify working with resources that need to be properly managed, such as file objects.\n",
        "#When working with files, it's important to make sure that the file is closed after you have finished reading or writing to it, otherwise it can cause problems such as data loss or corruption.\n",
        "\n",
        "#The advantage of using the with statement with the open() function is that it automatically takes care of closing the file after the block of code within the with statement has been executed.\n",
        "#This means that you don't have to explicitly close the file using the close() function, which can help reduce the risk of forgetting to close the file and causing problems.\n",
        "\n"
      ],
      "metadata": {
        "id": "zBGo3kWMnTw7"
      },
      "execution_count": 7,
      "outputs": []
    },
    {
      "cell_type": "code",
      "source": [],
      "metadata": {
        "id": "DIg9o-kTSAmn"
      },
      "execution_count": null,
      "outputs": []
    },
    {
      "cell_type": "markdown",
      "source": [
        "Q6. Explain the write() and writelines() functions. Give a suitable example.\n"
      ],
      "metadata": {
        "id": "-IvbtILuoWtL"
      }
    },
    {
      "cell_type": "code",
      "source": [
        "#Ans6 :\n",
        "# write() and writelines() functions are used to write data to a file in Python.\n",
        "\n",
        "#The write() function writes a string to a file.\n",
        "f = open(\"example.txt\", \"w\")\n",
        "f.write(\"Hello World!\")\n",
        "f.close()\n",
        "\n",
        "#The writelines() finction writes a list of strings to a file.\n",
        "f = open(\"examples.txt\", \"w\")\n",
        "lines = [\"Hello\", \"World\", \"!\"]\n",
        "f.writelines(lines)\n",
        "f.close()"
      ],
      "metadata": {
        "id": "6g6LQv3OnT0y"
      },
      "execution_count": 15,
      "outputs": []
    },
    {
      "cell_type": "code",
      "source": [],
      "metadata": {
        "id": "xKYF4eCNdM2T"
      },
      "execution_count": null,
      "outputs": []
    }
  ]
}