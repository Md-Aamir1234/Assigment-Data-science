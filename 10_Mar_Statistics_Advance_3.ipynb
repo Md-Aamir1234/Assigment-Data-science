{
  "nbformat": 4,
  "nbformat_minor": 0,
  "metadata": {
    "colab": {
      "provenance": []
    },
    "kernelspec": {
      "name": "python3",
      "display_name": "Python 3"
    },
    "language_info": {
      "name": "python"
    }
  },
  "cells": [
    {
      "cell_type": "markdown",
      "source": [
        "Q1: What is Estimation Statistics? Explain point estimate and interval estimate."
      ],
      "metadata": {
        "id": "Zbb9gRR9w5H6"
      }
    },
    {
      "cell_type": "code",
      "source": [
        "#Ans1.\n",
        "#Estimation statistics is a branch of statistics that involves using sample data to make inferences or estimates about population parameters.\n",
        "#Point estimate is a single value that is used to estimate the population parameter of interest. It is calculated from the sample data and represents the best guess of the parameter.\n",
        "#Interval estimate, on the other hand, is a range of values that is used to estimate the population parameter with a certain degree of confidence."
      ],
      "metadata": {
        "id": "chw81cOZzWLY"
      },
      "execution_count": null,
      "outputs": []
    },
    {
      "cell_type": "markdown",
      "source": [
        "Q2. Write a Python function to estimate the population mean using a sample mean and standard\n",
        "deviation."
      ],
      "metadata": {
        "id": "j2qZG2z7w5LR"
      }
    },
    {
      "cell_type": "code",
      "source": [
        "#Ans2.\n",
        "def estimate_population_mean(sample_mean, sample_std, sample_size):\n",
        "    import math\n",
        "    z_score = 1.96 # for a 95% confidence interval\n",
        "    std_error = sample_std / math.sqrt(sample_size)\n",
        "    lower_bound = sample_mean - z_score * std_error\n",
        "    upper_bound = sample_mean + z_score * std_error\n",
        "    return lower_bound, upper_bound\n",
        "\n",
        "# Example usage\n",
        "sample_mean = 50\n",
        "sample_std = 10\n",
        "sample_size = 100\n",
        "\n",
        "lower_bound, upper_bound = estimate_population_mean(sample_mean, sample_std, sample_size)\n",
        "\n",
        "print(\"The population mean is estimated to be between\", lower_bound, \"and\", upper_bound, \"with 95% confidence.\")"
      ],
      "metadata": {
        "id": "icqVKyG3zW0Y",
        "colab": {
          "base_uri": "https://localhost:8080/"
        },
        "outputId": "077c55ea-7036-4d49-cb1e-66be7eaef323"
      },
      "execution_count": null,
      "outputs": [
        {
          "output_type": "stream",
          "name": "stdout",
          "text": [
            "The population mean is estimated to be between 48.04 and 51.96 with 95% confidence.\n"
          ]
        }
      ]
    },
    {
      "cell_type": "markdown",
      "source": [
        "Q3: What is Hypothesis testing? Why is it used? State the importance of Hypothesis testing."
      ],
      "metadata": {
        "id": "WUFalzb6w5Ph"
      }
    },
    {
      "cell_type": "code",
      "source": [
        "#Ans3.\n",
        "#Hypothesis testing is a statistical method used to make decisions based on data from a sample.\n",
        "#Hypothesis testing is used to determine whether an observed effect or relationship in the sample data is statistically significant and not due to chance.\n",
        "#The importance of hypothesis testing lies in its ability to help researchers make decisions based on data in a systematic and objective way."
      ],
      "metadata": {
        "id": "vRx9JQOyzX1w"
      },
      "execution_count": null,
      "outputs": []
    },
    {
      "cell_type": "markdown",
      "source": [
        "Q4. Create a hypothesis that states whether the average weight of male college students is greater than\n",
        "the average weight of female college students."
      ],
      "metadata": {
        "id": "pycgSqXFw5Sg"
      }
    },
    {
      "cell_type": "code",
      "source": [
        "#Ans4.\n",
        "#Null Hypothesis (Ho): The average weight of male college students is equal to or less than the average weight of female college students.\n",
        "#Alternative Hypothesis (HA): The average weight of male college students is greater than the average weight of female college students.\n",
        "#Symbolically,\n",
        "Ho: µm ≤ µf\n",
        "HA: µm > µf\n",
        "#Where µm represents the population mean weight of male college students and µf represents the population mean weight of female college students."
      ],
      "metadata": {
        "id": "0pB_lSBxSIqX"
      },
      "execution_count": null,
      "outputs": []
    },
    {
      "cell_type": "markdown",
      "source": [
        "Q5. Write a Python script to conduct a hypothesis test on the difference between two population means,\n",
        "given a sample from each population."
      ],
      "metadata": {
        "id": "9JL4Z6e2w5YI"
      }
    },
    {
      "cell_type": "code",
      "source": [
        "#Ans5.\n",
        "import numpy as np\n",
        "from scipy.stats import t\n",
        "\n",
        "# Define two samples\n",
        "sample1 = [12, 16, 20, 18, 22]\n",
        "sample2 = [10, 14, 16, 12, 18]\n",
        "\n",
        "# Calculate the means and standard deviations of the two samples\n",
        "mean1 = np.mean(sample1)\n",
        "mean2 = np.mean(sample2)\n",
        "std1 = np.std(sample1, ddof=1)\n",
        "std2 = np.std(sample2, ddof=1)\n",
        "\n",
        "# Calculate the pooled standard deviation\n",
        "n1 = len(sample1)\n",
        "n2 = len(sample2)\n",
        "pooled_std = np.sqrt(((n1 - 1) * std1 ** 2 + (n2 - 1) * std2 ** 2) / (n1 + n2 - 2))\n",
        "\n",
        "# Calculate the t-statistic\n",
        "t_stat = (mean1 - mean2) / (pooled_std * np.sqrt(1/n1 + 1/n2))\n",
        "\n",
        "# Calculate the degrees of freedom\n",
        "df = n1 + n2 - 2\n",
        "\n",
        "# Calculate the p-value\n",
        "p_value = t.sf(np.abs(t_stat), df) * 2\n",
        "\n",
        "# Set the significance level\n",
        "alpha = 0.05\n",
        "\n",
        "# Compare the p-value to the significance level and make a decision\n",
        "if p_value < alpha:\n",
        "    print(\"Reject the null hypothesis\")\n",
        "else:\n",
        "    print(\"Fail to reject the null hypothesis\")"
      ],
      "metadata": {
        "id": "96yqIAb_zZrJ",
        "colab": {
          "base_uri": "https://localhost:8080/"
        },
        "outputId": "000da6da-fe85-4102-89c7-bd42e5e8caf0"
      },
      "execution_count": null,
      "outputs": [
        {
          "output_type": "stream",
          "name": "stdout",
          "text": [
            "Fail to reject the null hypothesis\n"
          ]
        }
      ]
    },
    {
      "cell_type": "markdown",
      "source": [
        "Q6: What is a null and alternative hypothesis? Give some examples."
      ],
      "metadata": {
        "id": "2O91Rzwxw5bI"
      }
    },
    {
      "cell_type": "code",
      "source": [
        "#Ans6.\n",
        "#In statistical hypothesis testing, a null hypothesis (Ho) is a statement that there is no significant difference between two groups or no significant relationship between two variables.\n",
        "#The alternative hypothesis (H1), on the other hand, is a statement that contradicts the null hypothesis and proposes that there is a significant difference or relationship between the variables being studied.\n",
        "#Here are some examples of null and alternative hypotheses:\n",
        "\n",
        "#Null hypothesis: The mean height of men and women is the same.\n",
        "#Alternative hypothesis: The mean height of men is different from the mean height of women.\n",
        "\n",
        "#Null hypothesis: The new drug has no effect on patient recovery time.\n",
        "#Alternative hypothesis: The new drug reduces patient recovery time"
      ],
      "metadata": {
        "id": "vYW28iVdzaUB"
      },
      "execution_count": null,
      "outputs": []
    },
    {
      "cell_type": "markdown",
      "source": [
        "Q7: Write down the steps involved in hypothesis testing."
      ],
      "metadata": {
        "id": "t9i-4Mxdw5ex"
      }
    },
    {
      "cell_type": "code",
      "source": [
        "#Ans7.\n",
        "#1. State the null hypothesis (Ho) and the alternative hypothesis (HA) based on the research question or problem being investigated.\n",
        "#2. Determine the appropriate statistical test to use based on the type of data being analyzed, the sample size, and the nature of the research question.\n",
        "#3. Set the level of significance (alpha) for the test, typically 0.05 or 0.01.\n",
        "#4. Collect and analyze the data using the chosen statistical test.\n",
        "#5. Calculate the test statistic and determine the p-value associated with it.\n",
        "#6. Compare the p-value to the level of significance to determine whether to reject or fail to reject the null hypothesis.\n",
        "#7. Interpret the results of the test in the context of the research question, taking into account the direction and magnitude of the effect.\n",
        "#8. Draw conclusions and make recommendations based on the results of the hypothesis test."
      ],
      "metadata": {
        "id": "-Q7f0gSjzbZC"
      },
      "execution_count": null,
      "outputs": []
    },
    {
      "cell_type": "markdown",
      "source": [
        "Q8. Define p-value and explain its significance in hypothesis testing."
      ],
      "metadata": {
        "id": "MZ4cvGOjylR7"
      }
    },
    {
      "cell_type": "code",
      "source": [
        "#Ans8.\n",
        "#In hypothesis testing, the p-value is the probability of obtaining a test statistic as extreme or more extreme than the one observed in the sample, assuming that the null hypothesis is true.\n",
        "#If the p-value is smaller than the chosen level of significance (alpha), typically 0.05 or 0.01, then we reject the null hypothesis and accept the alternative hypothesis.\n",
        "#This means that we can conclude that there is a statistically significant difference between the groups being compared or a significant relationship between the variables being studied."
      ],
      "metadata": {
        "id": "2LriFV2GzcGA"
      },
      "execution_count": null,
      "outputs": []
    },
    {
      "cell_type": "markdown",
      "source": [
        "Q9. Generate a Student's t-distribution plot using Python's matplotlib library, with the degrees of freedom\n",
        "parameter set to 10."
      ],
      "metadata": {
        "id": "tC1sfUWxylVJ"
      }
    },
    {
      "cell_type": "code",
      "source": [
        "#Ans9.\n",
        "import numpy as np\n",
        "import matplotlib.pyplot as plt\n",
        "from scipy.stats import t\n",
        "\n",
        "# set the degrees of freedom\n",
        "df = 10\n",
        "\n",
        "# create an array of x values\n",
        "x = np.linspace(-4, 4, 1000)\n",
        "\n",
        "# calculate the corresponding y values of the t-distribution\n",
        "y = t.pdf(x, df)\n",
        "\n",
        "# create a matplotlib figure and axis\n",
        "fig, ax = plt.subplots()\n",
        "\n",
        "# plot the t-distribution\n",
        "ax.plot(x, y)\n",
        "\n",
        "# add a title and labels to the plot\n",
        "ax.set_title(f\"Student's t-Distribution with {df} Degrees of Freedom\")\n",
        "ax.set_xlabel('x')\n",
        "ax.set_ylabel('f(x)')\n",
        "\n",
        "# display the plot\n",
        "plt.show()"
      ],
      "metadata": {
        "id": "7EG1WZAazdG6",
        "colab": {
          "base_uri": "https://localhost:8080/",
          "height": 472
        },
        "outputId": "04c05bd4-bcbb-4232-ee81-889ef0413d51"
      },
      "execution_count": null,
      "outputs": [
        {
          "output_type": "display_data",
          "data": {
            "text/plain": [
              "<Figure size 640x480 with 1 Axes>"
            ],
            "image/png": "[encoded data removed]"
          },
          "metadata": {}
        }
      ]
    },
    {
      "cell_type": "markdown",
      "source": [
        "Q10. Write a Python program to calculate the two-sample t-test for independent samples, given two\n",
        "random samples of equal size and a null hypothesis that the population means are equal."
      ],
      "metadata": {
        "id": "eHOYPkcGylbE"
      }
    },
    {
      "cell_type": "code",
      "source": [
        "#Ans10.\n",
        "import numpy as np\n",
        "from scipy.stats import ttest_ind\n",
        "\n",
        "# Define two random samples with equal size\n",
        "sample1 = np.random.normal(5,2, size = 50)\n",
        "sample2 = np.random.normal(6, 2, size = 50)\n",
        "\n",
        "# calculate the t test and p-value\n",
        "t_statistic , p_value = ttest_ind(sample1, sample2)\n",
        "\n",
        "# Print the results\n",
        "print (\"t-statistic :\", t_statistic)\n",
        "print (\"p-value:\", p_value)"
      ],
      "metadata": {
        "id": "cfF-quYyzeiw",
        "colab": {
          "base_uri": "https://localhost:8080/"
        },
        "outputId": "72c780a4-1052-4198-d1b4-4f2ef26ae175"
      },
      "execution_count": null,
      "outputs": [
        {
          "output_type": "stream",
          "name": "stdout",
          "text": [
            "t-statistic : -2.4156181758975404\n",
            "p-value: 0.017561366563030093\n"
          ]
        }
      ]
    },
    {
      "cell_type": "markdown",
      "source": [
        "Q11: What is Student’s t distribution? When to use the t-Distribution."
      ],
      "metadata": {
        "id": "7gKsuPf7yleM"
      }
    },
    {
      "cell_type": "code",
      "source": [
        "# Ans11.\n",
        "\n",
        "# Student's t-distribution , often simply called the t-distribution is  a probability distribution that is used in statistical analysis\n",
        "  and estimating population parameters (such as mean).\n",
        "\n",
        "# It is used in situations where the sample size is small and/or when the population variance is unknown.\n",
        "  It is a continous probability distribution that is sysmmetric and bell -shaped, to the normal distribution but has heavier tails,\n",
        "  which means it is more prone to producing values that fall far from its mean.\n",
        "\n",
        "# → This distribution was first introduced by \" William Sealy Gosset\" under the pseudonym \"Student.\"\n",
        "\n",
        "\n",
        "# Formula for t- Statistics :\n",
        "\n",
        " t=  (x̄ - μ)/(s/√n)\n",
        "\n",
        " where :\n",
        "  t =  student 't' distribution\n",
        "  x̄  = sample mean\n",
        "  μ = population mean\n",
        "  s = sample standard deviation\n",
        "  n = sample size\n",
        "\n",
        "# Use the t- Distribution\n",
        "\n",
        "1. Small Sample Sizes : when the sample size is small (typically n < 30) then t - distribution should be used because the sampling distribution of the mean is not well approximated by a normal distribuotion.\n",
        "2. Unknown Population Variance : When the population variance is unknown and must be estimated from the sample data, the t-distribution provides a more accurate confidence interval and hypothesis test.\n",
        "3. Confidence Intervals : When constructing confidence intervals for the population mean from a small sample.\n",
        "4. Hypothesis Testing : When performing hypothesis tests (such as the one-sample t-test, two-sample t-test , or paired t-test) to compare means,\n",
        "   the t-distribution is used to determine the critical values and p-values especially for small sample sizes.\n",
        "\n",
        "# Detailed Examples :\n",
        "\n",
        "#1. One-Sample t-Test: Used to compare the sample mean to a known value (e.g., testing if the average height of a sample of students differs from a known population mean).\n",
        "\n",
        "#2. Two-Sample t-Test: Used to compare the means of two independent samples (e.g., testing if the average test scores of two different classes are different).\n",
        "\n",
        "#3. Paired t-Test: Used to compare the means of two related samples (e.g., pre-test and post-test scores of the same group of students).\n",
        "\n",
        "# Practical Considerations :\n",
        "\n",
        "#1. Degrees of Freedom:\n",
        " The shape of the t-distribution depends on the degrees of freedom (df). As the sample size increases,\n",
        " the t-distribution approaches the normal distribution. For large samples (df > 30), the t-distribution and the normal distribution are almost indistinguishable.\n",
        "\n",
        "#2. Robustness:\n",
        " → The t-distribution is more robust than the normal distribution when dealing with outliers or non-normality in the data, due to its heavier tails.\n",
        "\n",
        "# Summary :\n",
        "→ Students t-distribution is a critical tool in statistics, especially when dealing with small sample sizes and unknown population variances.\n",
        "→ It ensures more accurate inferential statistics by accounting for the additional uncertainty in the estimates,\n",
        "   making it indispensable for hypothesis testing and constructing confidence intervals in such situations.\n"
      ],
      "metadata": {
        "id": "d-2pQsX8IHXC"
      },
      "execution_count": null,
      "outputs": []
    },
    {
      "cell_type": "markdown",
      "source": [
        "Q12: What is t-statistic? State the formula for t-statistic."
      ],
      "metadata": {
        "id": "Jsp_RwULylhS"
      }
    },
    {
      "cell_type": "code",
      "source": [
        " #Ans12.\n",
        " # t-statistic is a value computed in statistical hypothesis testing and confidence interval estimation that compares the means of two groups to determine if they are significantly different from each other. It is used primarily when the sample size is small and the population standard deviation is unknown.\n",
        "  t =  (x̄- μ)/(s/√n)\n",
        " where :\n",
        "  t = 't' distribution\n",
        "  x̄ = sample mean of t distribution\n",
        "  μ = population mean\n",
        "  s = sample standard deviation\n",
        "  n = sample size\n",
        "\n",
        "#1. One-Sample t-Test: Used to compare the mean of a single sample to a known value (typically the population mean).\n",
        " 2. Two-Sample t-Test: Used to compare the means of two independent samples.\n",
        " 3. Paired t-Test: Used to compare the means of two related samples.\n",
        "\n",
        " # Interpretation :\n",
        "The t-statistic measures how far the sample mean (or difference between means) is from the population mean (or hypothesized difference), in terms of the standard error\n",
        "\n",
        "# Usage in Hypothesis Testing :\n",
        "\n",
        "1. Calculate the t-statistic based on your sample data.\n",
        "2. Determine the degrees of freedom (df) for your test, which depends on the sample size(s).\n",
        "3. Compare the t-statistic to the critical value from the t-distribution table based on your desired significance level (e.g., 0.05) and degrees of freedom.\n",
        "4. Calculate the p-value associated with the t-statistic to determine the significance of the result. A small p-value (typically ≤ 0.05) indicates strong evidence against the null hypothesis."
      ],
      "metadata": {
        "id": "gpvEgJ__I0n7"
      },
      "execution_count": null,
      "outputs": []
    },
    {
      "cell_type": "markdown",
      "source": [
        "Q13. A coffee shop owner wants to estimate the average daily revenue for their shop. They take a random\n",
        "sample of 50 days and find the sample mean revenue to be $500 with a standard deviation of $50.\n",
        "Estimate the population mean revenue with a 95% confidence interval."
      ],
      "metadata": {
        "id": "34UB_b8Rylk9"
      }
    },
    {
      "cell_type": "code",
      "source": [
        "#Ans13.\n",
        "\n",
        "# To estimate the population mean revenue with a 95% confidence interval, population standard deviation is not known.\n",
        "# We can use the formula for Confidence Interval of the mean .\n",
        "# sample standard deviation given\n",
        "# Formula for Confidence interval is :\n",
        "\n",
        " CI = x̄ ± t(s/√n)\n",
        "\n",
        " where :\n",
        "  x̄ = sample mean\n",
        "  t is the t-score corresponding to the desired confidence level and degrees of freedom.\n",
        "  μ = population mean\n",
        "  s = sample standard deviation\n",
        "  n = sample size\n",
        "x̄ = 500\n",
        "s = 50 , n = 50 , CI = 95% ,  α = 100-95 = 5% = 0.05\n",
        "\n",
        "# 2. Significance level ( α ) = 0.05\n",
        "\n",
        "# 3. Degree of freedom = n-1 = 49\n",
        "\n",
        "# Using a t-table or a distribution calculation , the t score for 95% confidence and 49 degrees of freedom is approx 2.0096\n",
        "\n",
        "# CI  =   x̄ ± t(s/√n)\n",
        "\n",
        "#4. Margin of error = t((s/√n)) = 2.0096((50/√50)) = 14.21 ≈ (14.2)\n",
        "\n",
        "# We can construct the Confidence interval  = 500 ± 14.2\n",
        "\n",
        "#5. So the 95% confidence interval for the population mean revenue is :\n",
        "\n",
        "# Population mean ( μ ) = (500 - 14.2) = 485.8\n",
        "                        = (500 + 14.2) = 514.2\n",
        "\n",
        "# Conclusion :\n",
        "→ the estimate population mean revenue is, { μ=(485.8 , 514.2)}"
      ],
      "metadata": {
        "id": "ie2FjEIQJVkK"
      },
      "execution_count": null,
      "outputs": []
    },
    {
      "cell_type": "markdown",
      "source": [
        "Q14. A researcher hypothesizes that a new drug will decrease blood pressure by 10 mmHg. They conduct a\n",
        "clinical trial with 100 patients and find that the sample mean decrease in blood pressure is 8 mmHg with a\n",
        "standard deviation of 3 mmHg. Test the hypothesis with a significance level of 0.05."
      ],
      "metadata": {
        "id": "qyZaj4N_ylp9"
      }
    },
    {
      "cell_type": "code",
      "source": [
        "#Ans14.\n",
        "# To estimate the population mean revenue with a 95% confidence interval\n",
        "  t =  ( x̄ -μ )/(s/√n)\n",
        " where :\n",
        "  x̄  = sample mean\n",
        "  μ = population mean\n",
        "  s = sample standard deviation\n",
        "  n = sample size\n",
        "  Dof = n-1 = 100-1 = 99\n",
        "x̄  = 8mmHg  , μ = 10mmHg , s = 3mmHg , n = 100 , α = 0.05 , CI = 100- 0.05 = 0.95 = 95%\n",
        "\n",
        "# 1. Null Hypothesis (H_o) : (μ = 10)\n",
        "# 2. Alternate Hypothesis (H_1) : The mean derease in blood pressure is not 10 mmHg (μ ≠ 10) {Two tail test}\n",
        "# Using a t-table or a distribution calculation , the t score for 95% confidence and 99 degrees of freedom is approx  ± 1.986\n",
        "(range 1.986 standard devaition away from the mean +ve right side increment)\n",
        "\n",
        "# 3. Calculate the t-statistics :\n",
        " t =  (x̄ - μ)/(s/√n)\n",
        "\n",
        "  t = (8 - 10)/ (3/√100) = -6.67\n",
        "\n",
        "#4. Determine the critical t-value :\n",
        "\n",
        " Degree of freedom = n-1 = 100 -1 = 99\n",
        " For a two-tailed test with a significance level α = 0.05, and Dof=99 we can use a t-table or statistical software to find the critical t-value.\n",
        "# The Critical t- value for Dof = (α/2) = (0.05/2) = 0.025 for Two-tailed test is approximately ± 1.986\n",
        "\n",
        "#5. Make a Decision :\n",
        "\n",
        " * Compare the calculated t-statistic with the critical t-value\n",
        " If  t > t_critical, Reject the null hypothesis\n",
        " t = -6.67 > 1.986 , We reject the null hypothesis\n",
        "\n",
        "# Conclusion:\n",
        "→There is sufficient evidence at the 0.05 significance level to reject the null hypothesis that the mean decrease in blood pressure is 10 mmHg.\n",
        "→This suggests that the true mean decrease in blood pressure due to the new drug is different from 10 mmHg."
      ],
      "metadata": {
        "id": "HYRMieX0Of3y"
      },
      "execution_count": null,
      "outputs": []
    },
    {
      "cell_type": "markdown",
      "source": [
        "\n",
        "Q15. An electronics company produces a certain type of product with a mean weight of 5 pounds and a\n",
        "standard deviation of 0.5 pounds. A random sample of 25 products is taken, and the sample mean weight\n",
        "is found to be 4.8 pounds. Test the hypothesis that the true mean weight of the products is less than 5\n",
        "pounds with a significance level of 0.01."
      ],
      "metadata": {
        "id": "8xuEagRny-kx"
      }
    },
    {
      "cell_type": "code",
      "source": [
        "#Ans15.\n",
        "# To estimate the population mean revenue with a 99% confidence interval\n",
        "  t =  (x̄ - μ)/(s/√n)\n",
        " where :\n",
        "  x̄  = sample mean\n",
        "  μ = population mean\n",
        "  s = sample standard deviation\n",
        "  n = sample size\n",
        "  Dof = n-1 = 25-1 = 24\n",
        "  μ = 5 pounds ,x̄  = 4.8 pounds, s = 0.5, n = 25 , α = 0.01 , CI = 100- 0.01 = 0.99 = 99%\n",
        "\n",
        "# 1. Null Hypothesis (H_o) : (μ = 5)\n",
        "# 2. Alternate Hypothesis (H_1) : The true mean weight is less than 5 pound (μ < 5) {One tail test}\n",
        "     Using a t-table or a distribution calculation , the t score for 99% confidence and 24 degrees of freedom is approx (-2.492)\n",
        "    (range -2.492 standard devaition away from the mean -ve , left side increment)\n",
        "\n",
        "#3. Calculate the t-statistics :\n",
        "\n",
        " t =  (x̄ - μ)/(s/√n)\n",
        " t = (4.8 - 5)/ (0.5/√25) = -2\n",
        "\n",
        "#4. Determine the critical t-value :\n",
        "\n",
        "# Degree of freedom = n-1 = 25-1= 24\n",
        "\n",
        " For a One-tailed test with a significance level (α = 0.01), and (Dof = 24) we can use a t-table or statistical software to find the critical t-value.\n",
        "# The Critical t- value for Dof = 24 , α = 0.01 is approximately (-2.492)\n",
        "\n",
        "#5. Make a Decision :\n",
        "\n",
        " * Compare the calculated t-statistic with the critical t-value\n",
        " If t < t_critical, Reject the null hypothesis\n",
        " In our case\n",
        " t = -2 < -2.492 , We Fail to reject the null hypothesis\n",
        "\n",
        "# 6. Conclusion :\n",
        "→ There is not sufficient at the 0.01 significance level to reject the null Hypothesis.\n",
        "→ We do not have strong enough Evidence to conclude that the true mean weight is less than 5 pounds.\n"
      ],
      "metadata": {
        "id": "7AYVW2gMzjLQ"
      },
      "execution_count": null,
      "outputs": []
    },
    {
      "cell_type": "markdown",
      "source": [
        "Q16. Two groups of students are given different study materials to prepare for a test. The first group (n1 =\n",
        "30) has a mean score of 80 with a standard deviation of 10, and the second group (n2 = 40) has a mean\n",
        "score of 75 with a standard deviation of 8. Test the hypothesis that the population means for the two\n",
        "groups are equal with a significance level of 0.01."
      ],
      "metadata": {
        "id": "9n5JdkYIy-on"
      }
    },
    {
      "cell_type": "code",
      "source": [
        "#Ans16.\n",
        "# To test the hypothesis that the population means for the two groups of students are equal, we will conduct an independent samples t-test\n",
        "\n",
        "#1. Calculate the test statistic :\n",
        "\n",
        "→ The formula for the test statistic t for two independent samples is :\n",
        " t = (x̄1 - x̄2) / √((s1^2/n1) + (s2^2/n2))\n",
        "\n",
        " where :\n",
        "  x̄1 = mean for the first group\n",
        "  x̄2 = mean for the second group\n",
        "  s1 = standard deviation for the first group\n",
        "  s2 = standard deviation for the second group\n",
        "  n1 = sample size for the first group\n",
        "  n2 = sample size for the second group\n",
        "\n",
        " Given values :\n",
        " x̄1 = 80\n",
        " x̄2 = 75\n",
        " s1 = 10\n",
        " s2 = 8\n",
        " n1 = 30\n",
        " n2 = 40 ,   α = 0.01 , CI = 100- 0.01 = 0.99 = 99%\n",
        "\n",
        "# 2. Set the Hypothesis\n",
        "\n",
        "# . Null Hypothesis (H_o) : The population means are equal (μ1 = μ2)\n",
        "# . Alternate Hypothesis (H_1) : The population means are not equal (μ1 ≠ μ2 )\n",
        "\n",
        "# 3. Significance level (α) : 0.01\n",
        "\n",
        "#4. Calculate the t-statistics :\n",
        "  t = (x̄1 - x̄2) / √((s1^2/n1) + (s2^2/n2))\n",
        "  t = (80 - 75) / √((10^2/30) + (8^2/40)) = approx ≈ (2.25)\n",
        "\n",
        "4. Determine the degrees of freedom and critical t-value :\n",
        "\n",
        "  Dof = {(s1^2/n1) + (s2^2/n2)}^2 /((s1^2/n1)^2/(n1-1) + (s2^2/n2)^2/(n2-1))\n",
        "\n",
        "      = (100/30 + 64/40)^2 /((100/30)^2/29 + (64/40)^2/39) ≈ 24.3 /0.445 ≈ 55\n",
        "  Dof ≈ 55 and a two-tailed test with  = 0.01 , the critical- value can found using a t-table or statistical\n",
        "  The critical t- value is approximate ±2.66.\n",
        "\n",
        "#5. Make a decision :\n",
        "\n",
        "if t > t_critical , Reject the null hypothesis\n",
        "In our case :\n",
        "  t = 2.25 < 2.66 ,  we fail to reject the null Hypothesis\n",
        "\n",
        "# 6. Conclusion :\n",
        "→ There is not sufficient evidence at the 0.01 significance level to reject the null hypothesis that the population means for the two groups are equal\n",
        "→ we do not have strong enough evidence to conclude that there is a difference in the mean scores of the two groups.\n"
      ],
      "metadata": {
        "id": "CbyjvO6mzI0B"
      },
      "execution_count": null,
      "outputs": []
    },
    {
      "cell_type": "markdown",
      "source": [
        "Q17. A marketing company wants to estimate the average number of ads watched by viewers during a TV\n",
        "program. They take a random sample of 50 viewers and find that the sample mean is 4 with a standard\n",
        "deviation of 1.5. Estimate the population mean with a 99% confidence interval.\n",
        "Note: Create your assignment in Jupyter notebook and upload it in GitHub & share that github\n",
        "repository link through your dashboard. Make sure the repository is public."
      ],
      "metadata": {
        "id": "uUtEyFjJzJoR"
      }
    },
    {
      "cell_type": "code",
      "source": [
        "#Ans17.\n",
        "\n",
        "# Determine the sample mean (x̄), standard deviation (s), and sample size (n).\n",
        "\n",
        "# Sample mean (x̄) = 4\n",
        "# population mean (μ) = ?\n",
        "# Standard deviation (s) = 1.5\n",
        "# Sample size (n) = 50\n",
        "\n",
        "# Find the z-score corresponding to a 99% confidence level.\n",
        "\n",
        "# For a 99% confidence interval, the z-score is approximately 2.576.\n",
        "\n",
        "# Calculate the standard error of the mean (SE).\n",
        "\n",
        "#  SE = s / sqrt(n)\n",
        "# Calculate the margin of error (ME).\n",
        "\n",
        "#  ME = z * SE\n",
        "# Determine the confidence interval.\n",
        " Lower bound = x̄ - ME\n",
        " Upper bound = x̄ + ME\n",
        "# Here is the complete Python code to calculate the 99% confidence interval :\n",
        "\n",
        "import math\n",
        "\n",
        "# Given data\n",
        "sample_mean = 4\n",
        "sample_std = 1.5\n",
        "sample_size = 50\n",
        "\n",
        "# Z-score for 99% confidence interval\n",
        "z_score = 2.576\n",
        "\n",
        "# Calculate the standard error\n",
        "standard_error = sample_std / math.sqrt(sample_size)\n",
        "# Calculate the margin of error\n",
        "margin_of_error = z_score * standard_error\n",
        "\n",
        "# Calculate the confidence interval\n",
        "confidence_interval_lower = sample_mean - margin_of_error\n",
        "confidence_interval_upper = sample_mean + margin_of_error\n",
        "\n",
        "# Print the results\n",
        "print(f\"99% Confidence Interval : ({confidence_interval_lower:.2f}, {confidence_interval_upper:.2f})\")"
      ],
      "metadata": {
        "id": "HNEPj4_lLoVr",
        "colab": {
          "base_uri": "https://localhost:8080/"
        },
        "outputId": "9035404d-f3ce-4e7f-96b0-79541e282fc3"
      },
      "execution_count": null,
      "outputs": [
        {
          "output_type": "stream",
          "name": "stdout",
          "text": [
            "99% Confidence Interval : (3.45, 4.55)\n"
          ]
        }
      ]
    }
  ]
}