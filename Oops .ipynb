{
 "cells": [
  {
   "cell_type": "code",
   "execution_count": 9,
   "id": "5748940d-cf4c-4a7e-857f-ece43f468229",
   "metadata": {},
   "outputs": [],
   "source": [
    "a = 1"
   ]
  },
  {
   "cell_type": "code",
   "execution_count": 10,
   "id": "836e6453-2b39-4b96-9b1f-3c1a952d76cd",
   "metadata": {},
   "outputs": [
    {
     "name": "stdout",
     "output_type": "stream",
     "text": [
      "<class 'int'>\n"
     ]
    }
   ],
   "source": [
    "print(type(a))"
   ]
  },
  {
   "cell_type": "code",
   "execution_count": 11,
   "id": "346f304b-e808-4985-9538-4147e3967bf9",
   "metadata": {},
   "outputs": [
    {
     "name": "stdout",
     "output_type": "stream",
     "text": [
      "<class 'str'>\n"
     ]
    }
   ],
   "source": [
    "print(type(\"pwskills\"))"
   ]
  },
  {
   "cell_type": "code",
   "execution_count": 1,
   "id": "d9c8a3ac-c6e3-4dcd-85c0-9b295417be68",
   "metadata": {},
   "outputs": [],
   "source": [
    "class test :\n",
    "    pass"
   ]
  },
  {
   "cell_type": "code",
   "execution_count": 2,
   "id": "4e074b7b-caad-42e2-a1fc-4bb7890f7804",
   "metadata": {},
   "outputs": [],
   "source": [
    "a = test()"
   ]
  },
  {
   "cell_type": "code",
   "execution_count": 3,
   "id": "8e46c5a8-001a-4536-bc1f-499eb2f6a6d9",
   "metadata": {},
   "outputs": [
    {
     "data": {
      "text/plain": [
       "__main__.test"
      ]
     },
     "execution_count": 3,
     "metadata": {},
     "output_type": "execute_result"
    }
   ],
   "source": [
    "type(a)"
   ]
  },
  {
   "cell_type": "code",
   "execution_count": 4,
   "id": "93c08078-2e51-4a58-b9cf-eef17048b43b",
   "metadata": {},
   "outputs": [
    {
     "name": "stdout",
     "output_type": "stream",
     "text": [
      "<class '__main__.test'>\n"
     ]
    }
   ],
   "source": [
    "print(type(a))"
   ]
  },
  {
   "cell_type": "code",
   "execution_count": 20,
   "id": "cacfd35d-f754-4287-8fd7-b90b570d4019",
   "metadata": {},
   "outputs": [],
   "source": [
    "class pwskills :\n",
    "     def welcome_msg(self) :\n",
    "        print(\"welcome to pwskills\")"
   ]
  },
  {
   "cell_type": "code",
   "execution_count": 21,
   "id": "55d0f373-e8e7-4692-aa56-b79ee460e6e9",
   "metadata": {},
   "outputs": [],
   "source": [
    "rohan = pwskills()"
   ]
  },
  {
   "cell_type": "code",
   "execution_count": 22,
   "id": "a4b6f5f6-399f-4796-80e7-c6527a7cbce7",
   "metadata": {},
   "outputs": [
    {
     "name": "stdout",
     "output_type": "stream",
     "text": [
      "<class '__main__.pwskills'>\n"
     ]
    }
   ],
   "source": [
    "print(type(rohan))"
   ]
  },
  {
   "cell_type": "code",
   "execution_count": 25,
   "id": "22d520ed-6d62-477b-b90c-cdf459b2c028",
   "metadata": {},
   "outputs": [
    {
     "name": "stdout",
     "output_type": "stream",
     "text": [
      "welcome to pwskills\n"
     ]
    }
   ],
   "source": [
    "rohan.welcome_msg()"
   ]
  },
  {
   "cell_type": "code",
   "execution_count": 27,
   "id": "88ab4707-bde4-488d-87f5-c2cf18cf937f",
   "metadata": {},
   "outputs": [],
   "source": [
    "gourav = pwskills()"
   ]
  },
  {
   "cell_type": "code",
   "execution_count": 28,
   "id": "d6cd9d74-9a9c-47ea-a3a2-28d0720a388d",
   "metadata": {},
   "outputs": [
    {
     "name": "stdout",
     "output_type": "stream",
     "text": [
      "welcome to pwskills\n"
     ]
    }
   ],
   "source": [
    "gourav.welcome_msg()"
   ]
  },
  {
   "cell_type": "code",
   "execution_count": 33,
   "id": "ca6ea821-0d2d-4c52-945b-b85765b65a51",
   "metadata": {},
   "outputs": [],
   "source": [
    "class pwskills :\n",
    "    def __init__(self , phone_number , email_id , student_id):\n",
    "        self.phone_number = phone_number\n",
    "        self.email_id = email_id\n",
    "        self.student_id = student_id\n",
    "        \n",
    "    def return_student_details(self) :\n",
    "        return self.student_id ,self.phone_number , self.email_id"
   ]
  },
  {
   "cell_type": "code",
   "execution_count": 34,
   "id": "ee8ee303-0372-4da1-bc60-93cfd615c47c",
   "metadata": {},
   "outputs": [],
   "source": [
    "rohan = pwskills(1234567890 , \"rohan@gmail.com\" , 101)"
   ]
  },
  {
   "cell_type": "code",
   "execution_count": 35,
   "id": "ddc59d66-39dc-4507-b7a9-847cb9f30642",
   "metadata": {},
   "outputs": [
    {
     "data": {
      "text/plain": [
       "(101, 1234567890, 'rohan@gmail.com')"
      ]
     },
     "execution_count": 35,
     "metadata": {},
     "output_type": "execute_result"
    }
   ],
   "source": [
    "rohan.return_student_details()"
   ]
  },
  {
   "cell_type": "code",
   "execution_count": 45,
   "id": "26a92738-c161-40c5-b860-2d9c2ace77fa",
   "metadata": {},
   "outputs": [
    {
     "data": {
      "text/plain": [
       "1234567890"
      ]
     },
     "execution_count": 45,
     "metadata": {},
     "output_type": "execute_result"
    }
   ],
   "source": [
    "rohan.phone_number"
   ]
  },
  {
   "cell_type": "code",
   "execution_count": 46,
   "id": "f36373ee-f066-4b18-92a3-ae8798dfd635",
   "metadata": {},
   "outputs": [
    {
     "data": {
      "text/plain": [
       "'rohan@gmail.com'"
      ]
     },
     "execution_count": 46,
     "metadata": {},
     "output_type": "execute_result"
    }
   ],
   "source": [
    "rohan.email_id"
   ]
  },
  {
   "cell_type": "code",
   "execution_count": 40,
   "id": "f1dd2f98-f424-40c6-a9f8-c293d275e436",
   "metadata": {},
   "outputs": [],
   "source": [
    "gaurav = pwskills(987654321 , \"gaurav@gmail.com\" ,102)"
   ]
  },
  {
   "cell_type": "code",
   "execution_count": 41,
   "id": "8686cd28-54ee-463a-a34b-2bf749ceafd5",
   "metadata": {},
   "outputs": [
    {
     "data": {
      "text/plain": [
       "(102, 987654321, 'gaurav@gmail.com')"
      ]
     },
     "execution_count": 41,
     "metadata": {},
     "output_type": "execute_result"
    }
   ],
   "source": [
    "gaurav.return_student_details()"
   ]
  },
  {
   "cell_type": "code",
   "execution_count": 42,
   "id": "28c7aef4-fe65-407b-9f09-92668d02da5f",
   "metadata": {},
   "outputs": [],
   "source": [
    "gaurav = pwskills(9876543210 , \"gaurav22@gamil.com\" ,103)"
   ]
  },
  {
   "cell_type": "code",
   "execution_count": 43,
   "id": "3f86f719-94e7-4c4f-9ff9-34b0fe8ff1bf",
   "metadata": {},
   "outputs": [
    {
     "data": {
      "text/plain": [
       "(103, 9876543210, 'gaurav22@gamil.com')"
      ]
     },
     "execution_count": 43,
     "metadata": {},
     "output_type": "execute_result"
    }
   ],
   "source": [
    "gaurav.return_student_details()"
   ]
  },
  {
   "cell_type": "code",
   "execution_count": 47,
   "id": "76fb80bb-81a4-42a7-ac40-2d2582230fa4",
   "metadata": {},
   "outputs": [
    {
     "data": {
      "text/plain": [
       "8"
      ]
     },
     "execution_count": 47,
     "metadata": {},
     "output_type": "execute_result"
    }
   ],
   "source": [
    "8"
   ]
  },
  {
   "cell_type": "code",
   "execution_count": 49,
   "id": "ea8a24bd-711e-4134-b3d9-c4d8ee942e22",
   "metadata": {},
   "outputs": [],
   "source": [
    "class pwskills2 :\n",
    "    def __init__(self , phone_number , email_id , student_id) :\n",
    "        self.phone_number1 = phone_number\n",
    "        self.email_id1 = email_id \n",
    "        self.student_id1 = student_id \n",
    "        \n",
    "    def return_student_details(self):\n",
    "        return self.student_id1 , self.phone_number1 , self.email_id1"
   ]
  },
  {
   "cell_type": "code",
   "execution_count": 51,
   "id": "4507cf30-9330-4f1c-aad8-73ed434e1655",
   "metadata": {},
   "outputs": [],
   "source": [
    "sudh = pwskills2(99884768736747, \"sudh@gmail.com\" ,102)"
   ]
  },
  {
   "cell_type": "code",
   "execution_count": 52,
   "id": "29a11eb3-8383-42d2-998b-e5babc70f42c",
   "metadata": {},
   "outputs": [
    {
     "data": {
      "text/plain": [
       "(102, 99884768736747, 'sudh@gmail.com')"
      ]
     },
     "execution_count": 52,
     "metadata": {},
     "output_type": "execute_result"
    }
   ],
   "source": [
    "sudh.return_student_details()"
   ]
  },
  {
   "cell_type": "code",
   "execution_count": null,
   "id": "57418a87-2e85-43f3-b374-7effd962e689",
   "metadata": {},
   "outputs": [],
   "source": []
  }
 ],
 "metadata": {
  "kernelspec": {
   "display_name": "Python 3 (ipykernel)",
   "language": "python",
   "name": "python3"
  },
  "language_info": {
   "codemirror_mode": {
    "name": "ipython",
    "version": 3
   },
   "file_extension": ".py",
   "mimetype": "text/x-python",
   "name": "python",
   "nbconvert_exporter": "python",
   "pygments_lexer": "ipython3",
   "version": "3.10.8"
  }
 },
 "nbformat": 4,
 "nbformat_minor": 5
}
