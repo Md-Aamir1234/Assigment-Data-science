{
  "nbformat": 4,
  "nbformat_minor": 0,
  "metadata": {
    "colab": {
      "provenance": []
    },
    "kernelspec": {
      "name": "python3",
      "display_name": "Python 3"
    },
    "language_info": {
      "name": "python"
    }
  },
  "cells": [
    {
      "cell_type": "markdown",
      "source": [
        "Q1.What ia an Exception in python ? Write the difference between Exception and Syntax errors."
      ],
      "metadata": {
        "id": "O-BB8w1nQa-n"
      }
    },
    {
      "cell_type": "code",
      "source": [
        "#Ans.\n",
        "#An exception in Python is an event that occurs during the execution of a program that disrupts the normal flow of the program's instructions.\n",
        "#The main difference between exceptions and syntax errors is that exceptions occur during the execution of a program, while syntax errors occur before the code is executed.\n"
      ],
      "metadata": {
        "id": "-GIfNXb_O67c"
      },
      "execution_count": 3,
      "outputs": []
    },
    {
      "cell_type": "code",
      "source": [],
      "metadata": {
        "id": "eKygU-nFO6-2"
      },
      "execution_count": null,
      "outputs": []
    },
    {
      "cell_type": "markdown",
      "source": [
        "Q2. what happens when an exception is not handled? Explain with an example."
      ],
      "metadata": {
        "id": "OBIKRh5YXwUV"
      }
    },
    {
      "cell_type": "code",
      "source": [
        "#Ans :\n",
        "#When an exception is raised and not handled, the program terminates immediately and generates an unhandled exception error message.\n",
        "\n",
        "def divide(a,b) :\n",
        "  return a/b\n",
        "x = 10\n",
        "y = 0\n",
        "\n",
        "result = divide(x ,y)\n",
        "print(result)"
      ],
      "metadata": {
        "colab": {
          "base_uri": "https://localhost:8080/",
          "height": 363
        },
        "id": "__4l88INO7GA",
        "outputId": "0302e4e6-841d-4759-be6a-306c25af1563"
      },
      "execution_count": 10,
      "outputs": [
        {
          "output_type": "error",
          "ename": "ZeroDivisionError",
          "evalue": "ignored",
          "traceback": [
            "\u001b[0;31m---------------------------------------------------------------------------\u001b[0m",
            "\u001b[0;31mZeroDivisionError\u001b[0m                         Traceback (most recent call last)",
            "\u001b[0;32m<ipython-input-10-c34695fecaae>\u001b[0m in \u001b[0;36m<cell line: 9>\u001b[0;34m()\u001b[0m\n\u001b[1;32m      7\u001b[0m \u001b[0my\u001b[0m \u001b[0;34m=\u001b[0m \u001b[0;36m0\u001b[0m\u001b[0;34m\u001b[0m\u001b[0;34m\u001b[0m\u001b[0m\n\u001b[1;32m      8\u001b[0m \u001b[0;34m\u001b[0m\u001b[0m\n\u001b[0;32m----> 9\u001b[0;31m \u001b[0mresult\u001b[0m \u001b[0;34m=\u001b[0m \u001b[0mdivide\u001b[0m\u001b[0;34m(\u001b[0m\u001b[0mx\u001b[0m \u001b[0;34m,\u001b[0m\u001b[0my\u001b[0m\u001b[0;34m)\u001b[0m\u001b[0;34m\u001b[0m\u001b[0;34m\u001b[0m\u001b[0m\n\u001b[0m\u001b[1;32m     10\u001b[0m \u001b[0mprint\u001b[0m\u001b[0;34m(\u001b[0m\u001b[0mresult\u001b[0m\u001b[0;34m)\u001b[0m\u001b[0;34m\u001b[0m\u001b[0;34m\u001b[0m\u001b[0m\n",
            "\u001b[0;32m<ipython-input-10-c34695fecaae>\u001b[0m in \u001b[0;36mdivide\u001b[0;34m(a, b)\u001b[0m\n\u001b[1;32m      3\u001b[0m \u001b[0;34m\u001b[0m\u001b[0m\n\u001b[1;32m      4\u001b[0m \u001b[0;32mdef\u001b[0m \u001b[0mdivide\u001b[0m\u001b[0;34m(\u001b[0m\u001b[0ma\u001b[0m\u001b[0;34m,\u001b[0m\u001b[0mb\u001b[0m\u001b[0;34m)\u001b[0m \u001b[0;34m:\u001b[0m\u001b[0;34m\u001b[0m\u001b[0;34m\u001b[0m\u001b[0m\n\u001b[0;32m----> 5\u001b[0;31m   \u001b[0;32mreturn\u001b[0m \u001b[0ma\u001b[0m\u001b[0;34m/\u001b[0m\u001b[0mb\u001b[0m\u001b[0;34m\u001b[0m\u001b[0;34m\u001b[0m\u001b[0m\n\u001b[0m\u001b[1;32m      6\u001b[0m \u001b[0mx\u001b[0m \u001b[0;34m=\u001b[0m \u001b[0;36m10\u001b[0m\u001b[0;34m\u001b[0m\u001b[0;34m\u001b[0m\u001b[0m\n\u001b[1;32m      7\u001b[0m \u001b[0my\u001b[0m \u001b[0;34m=\u001b[0m \u001b[0;36m0\u001b[0m\u001b[0;34m\u001b[0m\u001b[0;34m\u001b[0m\u001b[0m\n",
            "\u001b[0;31mZeroDivisionError\u001b[0m: division by zero"
          ]
        }
      ]
    },
    {
      "cell_type": "code",
      "source": [
        "print(\"sudh\")"
      ],
      "metadata": {
        "colab": {
          "base_uri": "https://localhost:8080/"
        },
        "id": "30X37rlwpwdZ",
        "outputId": "9d95fb5b-590b-49ed-d48b-0fa5f892f8d7"
      },
      "execution_count": 9,
      "outputs": [
        {
          "output_type": "stream",
          "name": "stdout",
          "text": [
            "sudh\n"
          ]
        }
      ]
    },
    {
      "cell_type": "markdown",
      "source": [
        "Q3. Which python statements are used to catch and handle exceptions? Explain with an example."
      ],
      "metadata": {
        "id": "x9nieINsQzQa"
      }
    },
    {
      "cell_type": "code",
      "source": [
        "#Ans.\n",
        "#The try and except statements are used in Python to catch and handle exceptions.\n",
        "#The try block contains the code that may raise an exception, and the except block contains the code that will be executed in case an exception is raised.\n",
        "\n",
        "\n",
        "def divide (a , b) :\n",
        "  try :\n",
        "    return a /b\n",
        "  except ZeroDivisionError :\n",
        "    return \"cannot divide by zero.\"\n",
        "\n",
        "x = 10\n",
        "y = 0\n",
        "result = divide(x ,y)\n",
        "print(result)"
      ],
      "metadata": {
        "colab": {
          "base_uri": "https://localhost:8080/"
        },
        "id": "N5XG9yrvO7Iz",
        "outputId": "e427b410-faf4-4d95-c442-4c22f250327e"
      },
      "execution_count": 11,
      "outputs": [
        {
          "output_type": "stream",
          "name": "stdout",
          "text": [
            "cannot divide by zero.\n"
          ]
        }
      ]
    },
    {
      "cell_type": "code",
      "source": [],
      "metadata": {
        "id": "5FZS_LavO7Lr"
      },
      "execution_count": null,
      "outputs": []
    },
    {
      "cell_type": "markdown",
      "source": [
        "Q4. Explain with an example :\n",
        "\n",
        "    a. try and else\n",
        "\n",
        "    b. finally\n",
        "\n",
        "    c. raise"
      ],
      "metadata": {
        "id": "Gd42LjVDRS4o"
      }
    },
    {
      "cell_type": "code",
      "source": [
        "#Ans4:\n",
        "#1.The try and else statements in Python are used to catch exceptions and to specify code that will be executed only if no exceptions were raised.\n",
        "#2.The finally statement is used to specify code that will be executed regardless of whether an exception was raised or not.\n",
        "#3.The raise statement is used to raise an exception.\n",
        "\n",
        "def divide(a ,b) :\n",
        "  try :\n",
        "    if b == 0 :\n",
        "      raise ZeroDivisonError(\"Cannot divide by zero.\")\n",
        "      return a/b\n",
        "\n",
        "  except ZeroDivisonError as e :\n",
        "    print(e)\n",
        "  else :\n",
        "    print(\"No exception were raised.\")\n",
        "\n",
        "  finally :\n",
        "    print(\"The divisinon has finished.\")\n",
        "\n",
        "x = 10\n",
        "y = 2\n",
        "\n",
        "result = divide(x , y)\n",
        "print(f\"The result of {x}/ {y} is {result}.\")\n",
        "\n",
        "y = 0\n",
        "result = division(x , y)\n",
        "print(f\"The result of {x}/{y} is {result}.\")\n"
      ],
      "metadata": {
        "colab": {
          "base_uri": "https://localhost:8080/",
          "height": 290
        },
        "id": "1bqfCywEO7OA",
        "outputId": "91a368a8-93de-46cf-8116-1d523e1c0126"
      },
      "execution_count": 13,
      "outputs": [
        {
          "output_type": "stream",
          "name": "stdout",
          "text": [
            "No exception were raised.\n",
            "The divisinon has finished.\n",
            "The result of 10/ 2 is None.\n"
          ]
        },
        {
          "output_type": "error",
          "ename": "NameError",
          "evalue": "ignored",
          "traceback": [
            "\u001b[0;31m---------------------------------------------------------------------------\u001b[0m",
            "\u001b[0;31mNameError\u001b[0m                                 Traceback (most recent call last)",
            "\u001b[0;32m<ipython-input-13-27f5e8f54c5a>\u001b[0m in \u001b[0;36m<cell line: 27>\u001b[0;34m()\u001b[0m\n\u001b[1;32m     25\u001b[0m \u001b[0;34m\u001b[0m\u001b[0m\n\u001b[1;32m     26\u001b[0m \u001b[0my\u001b[0m \u001b[0;34m=\u001b[0m \u001b[0;36m0\u001b[0m\u001b[0;34m\u001b[0m\u001b[0;34m\u001b[0m\u001b[0m\n\u001b[0;32m---> 27\u001b[0;31m \u001b[0mresult\u001b[0m \u001b[0;34m=\u001b[0m \u001b[0mdivision\u001b[0m\u001b[0;34m(\u001b[0m\u001b[0mx\u001b[0m \u001b[0;34m,\u001b[0m \u001b[0my\u001b[0m\u001b[0;34m)\u001b[0m\u001b[0;34m\u001b[0m\u001b[0;34m\u001b[0m\u001b[0m\n\u001b[0m\u001b[1;32m     28\u001b[0m \u001b[0mprint\u001b[0m\u001b[0;34m(\u001b[0m\u001b[0;34mf\"The result of {x}/{y} is {result}.\"\u001b[0m\u001b[0;34m)\u001b[0m\u001b[0;34m\u001b[0m\u001b[0;34m\u001b[0m\u001b[0m\n",
            "\u001b[0;31mNameError\u001b[0m: name 'division' is not defined"
          ]
        }
      ]
    },
    {
      "cell_type": "code",
      "source": [],
      "metadata": {
        "id": "baqTnl5rO7O5"
      },
      "execution_count": null,
      "outputs": []
    },
    {
      "cell_type": "markdown",
      "source": [
        "Q5. What are Custom Exception in python? Why do we need Custom Exception? Expalin with an example.\n"
      ],
      "metadata": {
        "id": "wkU0ZvGmVYZM"
      }
    },
    {
      "cell_type": "code",
      "source": [
        "#Ans5.\n",
        "#Custom exceptions are user-defined exceptions in Python that are created to handle specific error conditions that are not covered by built-in exceptions\n",
        "#They allow you to tailor error messages and handling to fit the needs of your specific application.\n",
        "\n",
        "class NegativeNumberException(Exception) :\n",
        "  pass\n",
        "\n",
        "def square_root(x) :\n",
        "  if x < 0 :\n",
        "    raise NegativeNumberException(\"Can't calculate the square root of a negative number\")\n",
        "  return x ** 0.5\n",
        "x = -1\n",
        "\n",
        "try :\n",
        "  result = square_root(x)\n",
        "  print(f\"The square root of {x} is {result}.\")\n",
        "except NegativeNumberException as e :\n",
        "  print(e)\n",
        ""
      ],
      "metadata": {
        "colab": {
          "base_uri": "https://localhost:8080/"
        },
        "id": "Do0PDRczVeE-",
        "outputId": "a49ae9a6-66d2-42e0-b237-ab861ee06148"
      },
      "execution_count": 15,
      "outputs": [
        {
          "output_type": "stream",
          "name": "stdout",
          "text": [
            "Can't calculate the square root of a negative number\n"
          ]
        }
      ]
    },
    {
      "cell_type": "code",
      "source": [],
      "metadata": {
        "id": "_e0_VSU7VeI7"
      },
      "execution_count": null,
      "outputs": []
    },
    {
      "cell_type": "markdown",
      "source": [
        "Q6. Create a custom exception class. Use this to handle an exception."
      ],
      "metadata": {
        "id": "Lh6vkT36VuC0"
      }
    },
    {
      "cell_type": "code",
      "source": [
        "#Ans6:\n",
        "class CustomException(Exception) :\n",
        "  def __init__(self , message) :\n",
        "    self.message = message\n",
        "\n",
        "def divide(a ,b) :\n",
        "  if b == 0 :\n",
        "    raise CustomException(\"division by zero\")\n",
        "    return a /b\n",
        "\n",
        "try :\n",
        "  result = divide(10 ,0)\n",
        "  print(result)\n",
        "except CustomException as e :\n",
        "  print(\"Error:\", e.message)\n",
        "\n",
        "\n"
      ],
      "metadata": {
        "colab": {
          "base_uri": "https://localhost:8080/"
        },
        "id": "p8lLapEeVezG",
        "outputId": "3d0fac94-76c9-4e18-996a-cdb9c32aafd9"
      },
      "execution_count": 16,
      "outputs": [
        {
          "output_type": "stream",
          "name": "stdout",
          "text": [
            "Error: division by zero\n"
          ]
        }
      ]
    },
    {
      "cell_type": "code",
      "source": [],
      "metadata": {
        "id": "204fKnpgVe2v"
      },
      "execution_count": null,
      "outputs": []
    }
  ]
}