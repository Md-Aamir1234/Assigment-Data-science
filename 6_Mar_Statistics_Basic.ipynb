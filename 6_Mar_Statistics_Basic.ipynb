{
  "nbformat": 4,
  "nbformat_minor": 0,
  "metadata": {
    "colab": {
      "provenance": []
    },
    "kernelspec": {
      "name": "python3",
      "display_name": "Python 3"
    },
    "language_info": {
      "name": "python"
    }
  },
  "cells": [
    {
      "cell_type": "markdown",
      "source": [
        "Q1. What is Statistics?"
      ],
      "metadata": {
        "id": "5S6ySxsrpb2V"
      }
    },
    {
      "cell_type": "code",
      "source": [
        "#Ans.\n",
        "#Statistics is the branch of mathematics that deals with the collection, analysis, interpretation, presentation, and organization of data.\n",
        "#It involves the use of mathematical and statistical methods to summarize and analyze data, and to make decisions or draw conclusions based on the results."
      ],
      "metadata": {
        "id": "ohLRgPkYrB5t"
      },
      "execution_count": 3,
      "outputs": []
    },
    {
      "cell_type": "markdown",
      "source": [
        "Q2. Define the different types of statistics and give an example of when each type might be used."
      ],
      "metadata": {
        "id": "WrBtup1cpb9G"
      }
    },
    {
      "cell_type": "code",
      "source": [
        "#Ans.\n",
        "#There are two main types of statistics: descriptive statistics and inferential statistics.\n",
        "#1. Descriptive statistics: Descriptive statistics are used to describe and summarize data.\n",
        "#Common measures of descriptive statistics include measures of central tendency such as mean, median, and mode, as well as measures of variability such as range, standard deviation, and variance.\n",
        "#2. Inferential statistics: Inferential statistics are used to make inferences and predictions about a population based on a sample of data.\n",
        "#These statistics help to test hypotheses and make generalizations about a larger population based on a smaller sample."
      ],
      "metadata": {
        "id": "FigVq-7XrDLD"
      },
      "execution_count": 4,
      "outputs": []
    },
    {
      "cell_type": "markdown",
      "source": [
        "Q3.  What are the different types of data and how do they differ from each other? Provide an example of\n",
        "each type of data."
      ],
      "metadata": {
        "id": "Jnwhc4O7pcC8"
      }
    },
    {
      "cell_type": "code",
      "source": [
        "#Ans.\n",
        "#There are several types of data, including:\n",
        "\n",
        "#Nominal data: Nominal data are categorical data that have no natural order or ranking. Examples include gender, race, and favorite color.\n",
        "#Ordinal data: Ordinal data are categorical data that have a natural order or ranking. Examples include education level and satisfaction rating.\n",
        "#Interval data: Interval data are numerical data that have a consistent unit of measurement and no true zero point. Examples include temperature measured in Celsius or Fahrenheit, and dates measured in calendar years.\n",
        "#Ratio data: Ratio data are numerical data that have a consistent unit of measurement and a true zero point. Examples include students marks in a class,  height, weight, and income.\n",
        "\n",
        "#The key differences between these types of data are the level of measurement, the presence or absence of a natural order or ranking, and the presence or absence of a true zero point."
      ],
      "metadata": {
        "id": "FISvYbybrD7M"
      },
      "execution_count": 1,
      "outputs": []
    },
    {
      "cell_type": "markdown",
      "source": [
        "Q4. Categorise the following datasets with respect to quantitative and qualitative data types:\n",
        "\n",
        "(i)\tGrading in exam: A+, A, B+, B, C+, C, D, E\n",
        "\n",
        "(ii)\tColour of mangoes: yellow, green, orange, red\n",
        "\n",
        "(iii)\tHeight data of a class: [178.9, 179, 179.5, 176, 177.2, 178.3, 175.8,...]\n",
        "\n",
        "(iv)\tNumber of mangoes exported by a farm: [500, 600, 478, 672, …]"
      ],
      "metadata": {
        "id": "5b73N0mqpcFj"
      }
    },
    {
      "cell_type": "code",
      "source": [
        "#Ans4.\n",
        "#(i)  Qualitative data = Grading in exam : A+ ,A , B+ , B , C+ , C , D , E\n",
        "#(ii) Qualitative data = Colour of mangoes : yello , green , orange , red\n",
        "#(iii) Quantitative data = Height data of a class : [178.9, 179, 179.5, 176, 177.2, 178.3, 175.8,...]\n",
        "#(iv) Quantitative data = Number of mangoes exported by a form : [500, 600, 478, 672,...]\n"
      ],
      "metadata": {
        "id": "auBmvd_qrGfT"
      },
      "execution_count": 2,
      "outputs": []
    },
    {
      "cell_type": "code",
      "source": [],
      "metadata": {
        "id": "xDeJudLZrGUD"
      },
      "execution_count": null,
      "outputs": []
    },
    {
      "cell_type": "markdown",
      "source": [
        "Q5. Explain the concept of levels of measurement and give an example of a variable for each level."
      ],
      "metadata": {
        "id": "qNiYaiy7pcIc"
      }
    },
    {
      "cell_type": "code",
      "source": [
        "#Ans5.\n",
        "#Levels of measurement, also known as scales of measurement, refer to the different ways in which variables can be measured or classified.\n",
        "#There are four levels of measurement: nominal, ordinal, interval, and ratio.\n",
        "#1. Nominal level: This is the lowest level of measurement and refers to data that is categorical or qualitative, with no inherent order or ranking.\n",
        "#2. Ordinal level: This level of measurement refers to data that is categorical or qualitative, but with an inherent order or ranking.\n",
        "#3. Interval level: This level of measurement refers to data that is numerical or quantitative, with a consistent unit of measurement, but no true zero point.\n",
        "#4. Ratio level: This is the highest level of measurement and refers to data that is numerical or quantitative, with a consistent unit of measurement and a true zero point"
      ],
      "metadata": {
        "id": "J7beJ5J7rHfz"
      },
      "execution_count": null,
      "outputs": []
    },
    {
      "cell_type": "markdown",
      "source": [
        "Q6. Why is it important to understand the level of measurement when analyzing data? Provide an\n",
        "example to illustrate your answer."
      ],
      "metadata": {
        "id": "l_IHxamrpdAE"
      }
    },
    {
      "cell_type": "code",
      "source": [
        "#Ans.\n",
        "#Understanding the level of measurement is important when analyzing data because it determines the types of statistical analysis that can be performed on a variable.\n",
        "#Different levels of measurement have different mathematical properties, and some statistical methods are only appropriate for certain types of data."
      ],
      "metadata": {
        "id": "Fs4YrrVurINL"
      },
      "execution_count": 3,
      "outputs": []
    },
    {
      "cell_type": "markdown",
      "source": [
        "Q7. How nominal data type is different from ordinal data type."
      ],
      "metadata": {
        "id": "e0JvuiZXqNeF"
      }
    },
    {
      "cell_type": "code",
      "source": [
        "#Ans.\n",
        "#Nominal and ordinal data types are both categorical or qualitative data types, but they differ in the level of measurement and the types of analysis that can be performed on them.\n",
        "#the main difference between nominal and ordinal data types is the presence or absence of an inherent order or ranking in the categories. Nominal data has no order or ranking, while ordinal data has a natural or logical order"
      ],
      "metadata": {
        "id": "8qPE00vjrJCd"
      },
      "execution_count": 4,
      "outputs": []
    },
    {
      "cell_type": "markdown",
      "source": [
        "Q8. Which type of plot can be used to display data in terms of range?"
      ],
      "metadata": {
        "id": "GtJi3dQWqNh6"
      }
    },
    {
      "cell_type": "code",
      "source": [
        "#Ans.\n",
        "#A box plot is a type of plot that can be used to display data in terms of range.\n",
        "#The box in the plot represents the interquartile range (IQR), which includes the middle 50% of the data."
      ],
      "metadata": {
        "id": "3E9KAsqNrJj8"
      },
      "execution_count": 5,
      "outputs": []
    },
    {
      "cell_type": "markdown",
      "source": [
        "Q9. Describe the difference between descriptive and inferential statistics. Give an example of each\n",
        "type of statistics and explain how they are used."
      ],
      "metadata": {
        "id": "v00a5ilQqbYt"
      }
    },
    {
      "cell_type": "code",
      "source": [
        "#Ans.\n",
        "#descriptive statistics is used to describe and summarize a data set, while inferential statistics is used to draw conclusions and make predictions about a population based on a sample.\n",
        "#Descriptive statistics are used to gain insight into the data, while inferential statistics are used to make generalizations and predictions about a larger population.\n",
        "\n",
        "#Descriptive statistics refers to the methods used to summarize and describe the characteristics of a data set.\n",
        "#It is used to provide a clear and concise summary of the data, such as measures of central tendency (mean, median, mode) and measures of variability (standard deviation, range).\n",
        "#For example, a researcher may use descriptive statistics to describe the demographic characteristics of a sample, such as age, gender, and income.\n",
        "\n",
        "#Inferential statistics, on the other hand, refers to the methods used to draw conclusions and make predictions about a population based on a sample of data.\n",
        "#It is used to make generalizations about the larger population based on the results obtained from the sample.\n",
        "#For example, a researcher may use inferential statistics to test whether a new drug is more effective than a placebo in reducing blood pressure."
      ],
      "metadata": {
        "id": "vhi_4scJrKqb"
      },
      "execution_count": 6,
      "outputs": []
    },
    {
      "cell_type": "markdown",
      "source": [
        "Q10. What are some common measures of central tendency and variability used in statistics? Explain\n",
        "how each measure can be used to describe a dataset."
      ],
      "metadata": {
        "id": "CyvWNFFWqbbm"
      }
    },
    {
      "cell_type": "code",
      "source": [
        "#Ans.\n",
        "#The most common measures of central tendency are the mean, median, and mode, while the most common measures of variability are the range, variance, and standard deviation.\n",
        "#The mean is the arithmetic average of a dataset and is calculated by adding up all the values and dividing by the number of values.\n",
        "#The median is the middle value of a dataset, and is calculated by arranging the values in order and finding the middle value.\n",
        "#The mode is the most common value in a dataset, and is often used for categorical or nominal data.\n",
        "#The range is the difference between the maximum and minimum values in a dataset, and provides a measure of the spread of the data.\n",
        "#The variance is the average of the squared differences between each value and the mean, and provides a measure of how much the data deviates from the mean.\n",
        "#The standard deviation is the square root of the variance, and provides a measure of the spread of the data around the mean."
      ],
      "metadata": {
        "id": "zCEWcftmrLhU"
      },
      "execution_count": 7,
      "outputs": []
    },
    {
      "cell_type": "code",
      "source": [],
      "metadata": {
        "id": "TL2Yz7F_rN9z"
      },
      "execution_count": null,
      "outputs": []
    }
  ]
}