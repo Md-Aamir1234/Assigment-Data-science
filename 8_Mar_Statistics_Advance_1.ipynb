{
  "nbformat": 4,
  "nbformat_minor": 0,
  "metadata": {
    "colab": {
      "provenance": []
    },
    "kernelspec": {
      "name": "python3",
      "display_name": "Python 3"
    },
    "language_info": {
      "name": "python"
    }
  },
  "cells": [
    {
      "cell_type": "markdown",
      "source": [
        "Q1. What is the Probability density function?"
      ],
      "metadata": {
        "id": "jAE7dB7-tLwY"
      }
    },
    {
      "cell_type": "code",
      "source": [
        "#Ans1.\n",
        "#The Probability density function (PDF) is a mathematical function used to describe the likelihood of observing a continuous random variable within a given range of values."
      ],
      "metadata": {
        "id": "R-o1cAAMklk4"
      },
      "execution_count": 1,
      "outputs": []
    },
    {
      "cell_type": "markdown",
      "source": [
        "Q2. What are the types of Probability distribution?"
      ],
      "metadata": {
        "id": "238RwrqstL0L"
      }
    },
    {
      "cell_type": "code",
      "source": [
        "#Ans2.\n",
        "#There are many types of probability distributions, but some of the most commonly used ones are:\n",
        "#Bernoulli Distribution: A discrete probability distribution that describes the likelihood of obtaining a single success or failure in a single trial.\n",
        "#Binomial distribution: Used to model the probability of a certain number of successes in a fixed number of independent trials.\n",
        "#Poisson distribution: Used to model the probability of a certain number of events occurring in a fixed interval of time or space.\n",
        "#Normal distribution: A continuous distribution that is symmetric and bell-shaped, commonly used to model data in natural and social sciences."
      ],
      "metadata": {
        "id": "yKdIbL0vuAes"
      },
      "execution_count": 2,
      "outputs": []
    },
    {
      "cell_type": "markdown",
      "source": [
        "Q3. Write a Python function to calculate the probability density function of a normal distribution with\n",
        "given mean and standard deviation at a given point."
      ],
      "metadata": {
        "id": "gCE5M0_otL3s"
      }
    },
    {
      "cell_type": "code",
      "source": [
        "#Ans3.\n",
        "import math\n",
        "\n",
        "def normal_pdf(x, mu, sigma):\n",
        "    #Calculates the PDF of a normal distribution at a given point x, with mean mu and standard deviation sigma.\n",
        "    coeff = 1 / (sigma * math.sqrt(2 * math.pi))\n",
        "    exponent = -((x - mu) ** 2) / (2 * (sigma ** 2))\n",
        "    return coeff * math.exp(exponent)\n",
        "\n",
        "result = normal_pdf(2, 0, 1)\n",
        "print(\"The Result is:\", result)"
      ],
      "metadata": {
        "colab": {
          "base_uri": "https://localhost:8080/"
        },
        "id": "C7wwb9O5uBY8",
        "outputId": "15067fb4-6749-41de-af6e-e7c1c34839b2"
      },
      "execution_count": 3,
      "outputs": [
        {
          "output_type": "stream",
          "name": "stdout",
          "text": [
            "The Result is: 0.05399096651318806\n"
          ]
        }
      ]
    },
    {
      "cell_type": "markdown",
      "source": [
        "Q4. What are the properties of Binomial distribution? Give two examples of events where binomial\n",
        "distribution can be applied."
      ],
      "metadata": {
        "id": "cdjosFUPtL6z"
      }
    },
    {
      "cell_type": "code",
      "source": [
        "#Ans4.\n",
        "#The properties of a binomial distribution are:\n",
        "#The number of trials is fixed.\n",
        "#Each trial is independent.\n",
        "#There are only two possible outcomes for each trial (success or failure).\n",
        "#The probability of success is constant for each trial.\n",
        "#The trials are identical.\n",
        "\n",
        "#Two examples of events where binomial distribution can be applied are:\n",
        "#A company is launching a new product and wants to determine the likelihood of making a sale.\n",
        "#They randomly select 100 potential customers and record whether each customer made a purchase or not.\n",
        "\n",
        "#An epidemiologist is studying the spread of a disease within a population.\n",
        "#They randomly select 500 people and test each person for the disease."
      ],
      "metadata": {
        "id": "sGVU61RyuCuZ"
      },
      "execution_count": 4,
      "outputs": []
    },
    {
      "cell_type": "markdown",
      "source": [
        "Q5. Generate a random sample of size 1000 from a binomial distribution with probability of success 0.4\n",
        "and plot a histogram of the results using matplotlib."
      ],
      "metadata": {
        "id": "-g1aaOTntL-L"
      }
    },
    {
      "cell_type": "code",
      "source": [
        "#Ans5.\n",
        "import numpy as np\n",
        "import matplotlib.pyplot as plt\n",
        "\n",
        "# Generate random sample of size 1000 from a binomial distribution\n",
        "n = 1000\n",
        "p = 0.4\n",
        "sample = np.random.binomial(n, p, size = 1000)\n",
        "\n",
        "# Plot histogram of the results\n",
        "plt.hist(sample , bins = 20)\n",
        "plt.title(\"Histogram of Random sample from Binomial Distribution\")\n",
        "plt.xlabel(\"Number of Successes\")\n",
        "plt.ylabel(\"Frequency\")\n",
        "plt.show()"
      ],
      "metadata": {
        "colab": {
          "base_uri": "https://localhost:8080/",
          "height": 472
        },
        "id": "TGnXaaHfuDy6",
        "outputId": "103ad54b-dd65-49d9-b044-bb719c0cdb23"
      },
      "execution_count": 1,
      "outputs": [
        {
          "output_type": "display_data",
          "data": {
            "text/plain": [
              "<Figure size 640x480 with 1 Axes>"
            ],
            "image/png": "[encoded data removed]"
          },
          "metadata": {}
        }
      ]
    },
    {
      "cell_type": "markdown",
      "source": [
        "Q6. Write a Python function to calculate the cumulative distribution function of a Poisson distribution\n",
        "with given mean at a given point."
      ],
      "metadata": {
        "id": "k1smEq2otMBU"
      }
    },
    {
      "cell_type": "code",
      "source": [
        "#Ans6.\n",
        "import math\n",
        "\n",
        "def poisson_cdf(mean, k):\n",
        "    cdf = 0.0\n",
        "    for i in range(k+1):\n",
        "        cdf += math.pow(mean, i) * math.exp(-mean) / math.factorial(i)\n",
        "    return cdf\n",
        "\n",
        "mean = 2\n",
        "k = 4\n",
        "cdf = poisson_cdf(mean, k)\n",
        "print(\"P(X <= %d) = %.4f\" % (k, cdf))"
      ],
      "metadata": {
        "colab": {
          "base_uri": "https://localhost:8080/"
        },
        "id": "VEkEZLMbuE3Z",
        "outputId": "5e52da45-5c75-4596-bfc9-e46f7ae01a82"
      },
      "execution_count": 5,
      "outputs": [
        {
          "output_type": "stream",
          "name": "stdout",
          "text": [
            "P(X <= 4) = 0.9473\n"
          ]
        }
      ]
    },
    {
      "cell_type": "markdown",
      "source": [
        "Q7. How Binomial distribution different from Poisson distribution?"
      ],
      "metadata": {
        "id": "L0VTiVwntMET"
      }
    },
    {
      "cell_type": "code",
      "source": [
        "#Ans7.\n",
        "#The key differences between the Binomial and Poisson distributions are as follows:\n",
        "#Number of Trials: In a Binomial distribution, the number of trials is fixed and finite, whereas in a Poisson distribution, the number of events can be any non-negative integer.\n",
        "#Probability of Success: In a Binomial distribution, the probability of success is constant for each trial, whereas in a Poisson distribution, the probability of observing an event varies according to the mean rate of events per unit time or space.\n",
        "#Shape: The Binomial distribution is a discrete probability distribution, while the Poisson distribution is also a discrete probability distribution, but it is used to model rare events that occur in continuous time or space.\n",
        "#Assumptions: The Binomial distribution assumes that the trials are independent, while the Poisson distribution assumes that the events occur independently of each other and at a constant rate."
      ],
      "metadata": {
        "id": "TaF4W4nAuFpJ"
      },
      "execution_count": 6,
      "outputs": []
    },
    {
      "cell_type": "markdown",
      "source": [
        "Q8. Generate a random sample of size 1000 from a Poisson distribution with mean 5 and calculate the\n",
        "sample mean and variance.\n"
      ],
      "metadata": {
        "id": "JNZfxap7tMH-"
      }
    },
    {
      "cell_type": "code",
      "source": [
        "#Ans8.\n",
        "import numpy as np\n",
        "\n",
        "# Generate random sample of size 1000 from Poission Distribution with mean 5\n",
        "sample = np.random.poisson (lam = 5 , size=1000)\n",
        "\n",
        "# Calculate sample mean and Variance\n",
        "sample_mean = np.mean(sample)\n",
        "sample_variance = np.var(sample)\n",
        "\n",
        "print(\"Sample Mean :\", sample_mean)\n",
        "print(\"Sample Variance :\", sample_variance)"
      ],
      "metadata": {
        "colab": {
          "base_uri": "https://localhost:8080/"
        },
        "id": "7PeIEtIEuGsa",
        "outputId": "e0569b1e-2028-428f-fbf4-b2a91bfbaabd"
      },
      "execution_count": 2,
      "outputs": [
        {
          "output_type": "stream",
          "name": "stdout",
          "text": [
            "Sample Mean : 4.919\n",
            "Sample Variance : 4.990439\n"
          ]
        }
      ]
    },
    {
      "cell_type": "markdown",
      "source": [
        "Q9. How mean and variance are related in Binomial distribution and Poisson distribution?"
      ],
      "metadata": {
        "id": "ajK1IfvLtMLe"
      }
    },
    {
      "cell_type": "code",
      "source": [
        "#Ans9.\n",
        "#In both Binomial distribution and Poisson distribution, the mean and variance are related in a similar way.\n",
        "#The mean of a Binomial distribution is equal to the product of the number of trials and the probability of success in each trial, while the mean of a Poisson distribution is equal to the rate parameter lambda."
      ],
      "metadata": {
        "id": "0uO7nrE6uHTb"
      },
      "execution_count": 7,
      "outputs": []
    },
    {
      "cell_type": "markdown",
      "source": [
        "Q10. In normal distribution with respect to mean position, where does the least frequent data appear?"
      ],
      "metadata": {
        "id": "D8BsmEAItMO3"
      }
    },
    {
      "cell_type": "code",
      "source": [
        "#Ans10.\n",
        "#In both Binomial distribution and Poisson distribution, the mean and variance are related in a similar way.\n",
        "#The mean of a Binomial distribution is equal to the product of the number of trials and the probability of success in each trial, while the mean of a Poisson distribution is equal to the rate parameter lambda."
      ],
      "metadata": {
        "id": "uwoj5uMXt-eE"
      },
      "execution_count": 8,
      "outputs": []
    }
  ]
}