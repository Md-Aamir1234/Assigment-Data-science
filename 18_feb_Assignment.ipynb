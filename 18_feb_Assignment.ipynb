{
 "cells": [
  {
   "cell_type": "markdown",
   "metadata": {},
   "source": [
    "Q1. What is an API? Give an example, where an API is used in real life."
   ]
  },
  {
   "cell_type": "code",
   "execution_count": null,
   "metadata": {},
   "outputs": [],
   "source": [
    "\n",
    "#Ans.\n",
    "#API stands for Application Programming Interface. \n",
    "#It is a set of protocols, routines, and tools for building software applications that specify how software components should interact with each other.\n",
    "#An example of API usage in real life is when we book a flight online, the travel booking website may use an API to retrieve flight information and availability from the airline's servers."
   ]
  },
  {
   "cell_type": "markdown",
   "metadata": {},
   "source": [
    "Q2. Give advantages and disadvantages of using API."
   ]
  },
  {
   "cell_type": "code",
   "execution_count": null,
   "metadata": {},
   "outputs": [],
   "source": [
    "#Ans.\n",
    "#Advantages of using APIs :\n",
    "#1. Increased Efficieny \n",
    "#2. Standardization\n",
    "#3. Easy Integration\n",
    "#4. Better User Experince \n",
    "#5. Cost Savings\n",
    "\n",
    "#Disadvantages of using APIs :\n",
    "#1. Security Risks\n",
    "#2. Complexity \n",
    "#3. Dependency\n",
    "#4. Compatibility Issues \n",
    "#5. Data Overload\n"
   ]
  },
  {
   "cell_type": "markdown",
   "metadata": {},
   "source": [
    "Q3. What is a Web API? Differentiate between API and Web API."
   ]
  },
  {
   "cell_type": "code",
   "execution_count": null,
   "metadata": {},
   "outputs": [],
   "source": [
    "\n",
    "#Ans.\n",
    "#A Web API is a type of API that enables communication between different web applications or between web applications and web servers.\n",
    "#The main difference between an API and a Web API is the communication protocol used. \n",
    "#While APIs can use different communication protocols, such as TCP/IP or UDP.\n",
    "#Web APIs are based on the HTTP protocol, which is used for communication between web servers and web clients, such as web browsers or mobile apps."
   ]
  },
  {
   "cell_type": "markdown",
   "metadata": {},
   "source": [
    "Q4. Explain REST and SOAP Architecture. Mention shortcomings of SOAP."
   ]
  },
  {
   "cell_type": "code",
   "execution_count": null,
   "metadata": {},
   "outputs": [],
   "source": [
    "\n",
    "#Ans.\n",
    "#REST architecture is a style of web architecture that is based on the principles of HTTP and uses HTTP methods like GET, POST, PUT, and DELETE to provide a simple and lightweight way to interact with resources. \n",
    "#SOAP architecture is a more complex and formal web service protocol that uses XML for message exchange between client and server.\n",
    "#SOAP services require the use of a dedicated messaging protocol such as HTTP, TCP, or SMTP.\n",
    "#One of the shortcomings of SOAP architecture is its complexity. SOAP requires a lot of configuration and XML parsing, which can make it difficult to use and maintain."
   ]
  },
  {
   "cell_type": "markdown",
   "metadata": {},
   "source": [
    "Q5. Differentiate between REST and SOAP."
   ]
  },
  {
   "cell_type": "code",
   "execution_count": null,
   "metadata": {},
   "outputs": [],
   "source": [
    "\n",
    "#Ans.\n",
    "#REST (Representational State Transfer) and SOAP (Simple Object Access Protocol) are two different architectural styles used for building web services.\n",
    "#1. Communication Protocol: REST is based on HTTP protocol, while SOAP is based on XML and uses a specific messaging protocol such as HTTP, TCP or SMTP.\n",
    "#2. Message Format: REST typically uses lightweight data exchange formats like JSON or XML, while SOAP messages are always in XML format.\n",
    "#3. Complexity: REST is simpler and requires less configuration than SOAP, which can make it faster and easier to develop and use. SOAP can be more complex and may require more time and expertise to implement.\n",
    "#4. Performance: REST is generally faster and more efficient than SOAP, as it uses lightweight message formats and relies on fewer network resources. SOAP, on the other hand, can be slower and less efficient due to its use of XML and more complex message structure.\n",
    "#5. Error Handling: REST typically provides less error handling capabilities than SOAP, which can make it less reliable in some situations."
   ]
  }
 ],
 "metadata": {
  "language_info": {
   "name": "python"
  }
 },
 "nbformat": 4,
 "nbformat_minor": 2
}
