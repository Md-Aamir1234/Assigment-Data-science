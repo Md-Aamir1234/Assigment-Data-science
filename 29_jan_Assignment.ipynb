{
  "nbformat": 4,
  "nbformat_minor": 0,
  "metadata": {
    "colab": {
      "provenance": []
    },
    "kernelspec": {
      "name": "python3",
      "display_name": "Python 3"
    },
    "language_info": {
      "name": "python"
    }
  },
  "cells": [
    {
      "cell_type": "markdown",
      "source": [
        "1. Who developed python Programming language ?"
      ],
      "metadata": {
        "id": "hSP28xrtwGz1"
      }
    },
    {
      "cell_type": "code",
      "source": [
        "# Answer : Guido van Rossum"
      ],
      "metadata": {
        "id": "3G2qQp8-wU3R"
      },
      "execution_count": 17,
      "outputs": []
    },
    {
      "cell_type": "markdown",
      "source": [
        "2. Which type of Programming does Python support ?"
      ],
      "metadata": {
        "id": "reWaqNWewY4-"
      }
    },
    {
      "cell_type": "code",
      "source": [
        "'''Ans-Python is a multi-paradigm programming language. Object-oriented programming and structured programming are fully\n",
        "supported, and many of their features support functional programming ,\n",
        "like Functional programming,Scripting,Dynamic programming,web Development,Scientific and Data Analysis ,AI and ML ,and aspect-oriented programming (including\n",
        "metaprogramming and metaobjects).'''\n"
      ],
      "metadata": {
        "colab": {
          "base_uri": "https://localhost:8080/",
          "height": 54
        },
        "id": "-V7-fe8QwWf5",
        "outputId": "afad24f7-6af9-45e3-9f1a-9ef8c7390a80"
      },
      "execution_count": 18,
      "outputs": [
        {
          "output_type": "execute_result",
          "data": {
            "text/plain": [
              "'Ans-Python is a multi-paradigm programming language. Object-oriented programming and structured programming are fully\\nsupported, and many of their features support functional programming ,\\nlike Functional programming,Scripting,Dynamic programming,web Development,Scientific and Data Analysis ,AI and ML ,and aspect-oriented programming (including\\nmetaprogramming and metaobjects).'"
            ],
            "application/vnd.google.colaboratory.intrinsic+json": {
              "type": "string"
            }
          },
          "metadata": {},
          "execution_count": 18
        }
      ]
    },
    {
      "cell_type": "markdown",
      "source": [
        "'''Answer 2 :-Python is a multi-paradigm programming language. Object-oriented programming and structured programming are fully\n",
        "supported, and many of their features support functional programming ,\n",
        "like Functional programming,Scripting,Dynamic programming,web Development,Scientific and Data Analysis ,AI and ML ,and aspect-oriented programming (including\n",
        "metaprogramming and metaobjects).'''\n"
      ],
      "metadata": {
        "id": "GKg62kcCxGXh"
      }
    },
    {
      "cell_type": "code",
      "source": [],
      "metadata": {
        "id": "rC4jhxIcBRnl"
      },
      "execution_count": 18,
      "outputs": []
    },
    {
      "cell_type": "markdown",
      "source": [
        "3. Is Python case sensitive when dealing with identifiers ?"
      ],
      "metadata": {
        "id": "ZiVpd3ws7frt"
      }
    },
    {
      "cell_type": "markdown",
      "source": [
        "'''Yes , python is case-sensitive language.\n",
        "when it comes to identifiers include variable name , function name ,class name,\n",
        "and other name you define in your Python code.\n",
        "python distinguishes between lower case and upper case letters in identifiers.\n",
        "and capitalization of identifiers in your code to avoid errors and make your code readable.'''"
      ],
      "metadata": {
        "id": "F9wqsnUeL_Il"
      }
    },
    {
      "cell_type": "code",
      "source": [],
      "metadata": {
        "id": "Tz1uT7CVwWnO"
      },
      "execution_count": 18,
      "outputs": []
    },
    {
      "cell_type": "markdown",
      "source": [
        "4. what is the correct extension of the Python file?"
      ],
      "metadata": {
        "id": "eLrZajN38FK_"
      }
    },
    {
      "cell_type": "code",
      "source": [
        "#Answer 4 :- .py is the correct extension for python file ."
      ],
      "metadata": {
        "id": "Su3mqz5rwWqL"
      },
      "execution_count": 19,
      "outputs": []
    },
    {
      "cell_type": "code",
      "source": [],
      "metadata": {
        "id": "1Y8Bzgxj25GE"
      },
      "execution_count": 19,
      "outputs": []
    },
    {
      "cell_type": "markdown",
      "source": [
        "5. Is Python code compiled or interpreted ?"
      ],
      "metadata": {
        "id": "4BGueuvx7jSF"
      }
    },
    {
      "cell_type": "code",
      "source": [
        "#Answer- 5-: Python is interpreted language."
      ],
      "metadata": {
        "id": "emDEkjfLwWtQ"
      },
      "execution_count": 20,
      "outputs": []
    },
    {
      "cell_type": "code",
      "source": [],
      "metadata": {
        "id": "Fs0DlSL-GgFK"
      },
      "execution_count": 20,
      "outputs": []
    },
    {
      "cell_type": "markdown",
      "source": [
        "6. Name a few blocks of code used to define in Python language?"
      ],
      "metadata": {
        "id": "B1Ij1Dqg7lB_"
      }
    },
    {
      "cell_type": "code",
      "source": [
        "#Answer 6-:\n",
        "# print function in python\n",
        "x = 3\n",
        "y= 5\n",
        "print(x +y)"
      ],
      "metadata": {
        "colab": {
          "base_uri": "https://localhost:8080/"
        },
        "id": "MvZG-vmgwWyk",
        "outputId": "c16b85bc-8bf6-4bc4-a9a9-4b042e7e503f"
      },
      "execution_count": 21,
      "outputs": [
        {
          "output_type": "stream",
          "name": "stdout",
          "text": [
            "8\n"
          ]
        }
      ]
    },
    {
      "cell_type": "code",
      "source": [
        "#class funtion in python\n",
        "class test :\n",
        "  def __init__(self, a,b) :\n",
        "    self.a = a\n",
        "    self.b = b\n",
        "t =test(22, 4)"
      ],
      "metadata": {
        "id": "E9q3xUdtjnah"
      },
      "execution_count": 22,
      "outputs": []
    },
    {
      "cell_type": "code",
      "source": [
        "t.a"
      ],
      "metadata": {
        "colab": {
          "base_uri": "https://localhost:8080/"
        },
        "id": "pxZTdJJujne2",
        "outputId": "5402fe3e-bfd8-4cb5-a8ba-2c3bed3c8057"
      },
      "execution_count": 23,
      "outputs": [
        {
          "output_type": "execute_result",
          "data": {
            "text/plain": [
              "22"
            ]
          },
          "metadata": {},
          "execution_count": 23
        }
      ]
    },
    {
      "cell_type": "code",
      "source": [
        "t.b"
      ],
      "metadata": {
        "colab": {
          "base_uri": "https://localhost:8080/"
        },
        "id": "mZ3QaeI9krPt",
        "outputId": "1171f154-262b-43fc-8ef0-c847260c263a"
      },
      "execution_count": 24,
      "outputs": [
        {
          "output_type": "execute_result",
          "data": {
            "text/plain": [
              "4"
            ]
          },
          "metadata": {},
          "execution_count": 24
        }
      ]
    },
    {
      "cell_type": "markdown",
      "source": [
        "7. State a charactor used to give single-line comments in Python?"
      ],
      "metadata": {
        "id": "TVpYEFW09QHJ"
      }
    },
    {
      "cell_type": "markdown",
      "source": [
        "Answer-7 :- # this is single line comment in python.\n",
        "\n"
      ],
      "metadata": {
        "id": "AY01wlEL3z2u"
      }
    },
    {
      "cell_type": "code",
      "source": [],
      "metadata": {
        "id": "eT_0lgPe3tX6"
      },
      "execution_count": 24,
      "outputs": []
    },
    {
      "cell_type": "markdown",
      "source": [
        "8. Mention functions which can help us to find the version of python that we are currently working on?"
      ],
      "metadata": {
        "id": "EP14rC499wpG"
      }
    },
    {
      "cell_type": "markdown",
      "source": [
        "'''Answer 8''':- from platform import python_version python_version()"
      ],
      "metadata": {
        "id": "jM9E5FYE471z"
      }
    },
    {
      "cell_type": "markdown",
      "source": [
        "'3.10.8'"
      ],
      "metadata": {
        "id": "fJyURFsw4lIR"
      }
    },
    {
      "cell_type": "code",
      "source": [],
      "metadata": {
        "id": "PfEdcmPM4kL-"
      },
      "execution_count": 24,
      "outputs": []
    },
    {
      "cell_type": "markdown",
      "source": [
        "9. Python supports the creation of anonymous functions at runtime, using a construct called ----------"
      ],
      "metadata": {
        "id": "GovPTVnk-i84"
      }
    },
    {
      "cell_type": "markdown",
      "source": [
        "Answer 9 :-\n",
        "Python supports to make anonymous functions which are not bound to a name(@ runtime).\n",
        " It uses a construct called\n",
        "\"lambda."
      ],
      "metadata": {
        "id": "9IQDBbuO19v-"
      }
    },
    {
      "cell_type": "code",
      "source": [],
      "metadata": {
        "id": "UHDZ2UQJEb3y"
      },
      "execution_count": 24,
      "outputs": []
    },
    {
      "cell_type": "markdown",
      "source": [
        "10. What does pip stand for python?"
      ],
      "metadata": {
        "id": "j0Tpkv6G_bEO"
      }
    },
    {
      "cell_type": "code",
      "source": [
        "'''Answer 10\n",
        "Developed in 2008, pip (an acronym of “pip Install Packages”) is today the standard tool for installing Python packages\n",
        "and their dependencies in a secure manner'''"
      ],
      "metadata": {
        "colab": {
          "base_uri": "https://localhost:8080/",
          "height": 36
        },
        "id": "ANnC3c1lwXFu",
        "outputId": "db702689-fad9-42f6-95fb-b7fdae0d6775"
      },
      "execution_count": 25,
      "outputs": [
        {
          "output_type": "execute_result",
          "data": {
            "text/plain": [
              "'Answer 10\\nDeveloped in 2008, pip (an acronym of “pip Install Packages”) is today the standard tool for installing Python packages\\nand their dependencies in a secure manner'"
            ],
            "application/vnd.google.colaboratory.intrinsic+json": {
              "type": "string"
            }
          },
          "metadata": {},
          "execution_count": 25
        }
      ]
    },
    {
      "cell_type": "code",
      "source": [],
      "metadata": {
        "id": "YZxIlTxuGEM5"
      },
      "execution_count": 25,
      "outputs": []
    },
    {
      "cell_type": "markdown",
      "source": [
        "11. Mention a few built-in functions in python?"
      ],
      "metadata": {
        "id": "GcYFBA8U_qOY"
      }
    },
    {
      "cell_type": "markdown",
      "source": [
        "\n",
        "'''Answer 11:-\n",
        "\n",
        " len() sort() range() str() int()'''"
      ],
      "metadata": {
        "id": "thUiTujsFB1g"
      }
    },
    {
      "cell_type": "code",
      "source": [],
      "metadata": {
        "id": "GnNgds0V54M0"
      },
      "execution_count": 25,
      "outputs": []
    },
    {
      "cell_type": "markdown",
      "source": [
        "12. What is the maximum possible length of an identifier in python ?"
      ],
      "metadata": {
        "id": "KQIg_9Dl_5XT"
      }
    },
    {
      "cell_type": "markdown",
      "source": [
        "'''Answer 12 :-\n",
        "An identifier can have a maximum length of 79 characters in Python. Python is one of the most popular programming\n",
        "languages.'''"
      ],
      "metadata": {
        "id": "JyxDM6r5p8aB"
      }
    },
    {
      "cell_type": "code",
      "source": [],
      "metadata": {
        "id": "7YShBUkdwXMi"
      },
      "execution_count": 25,
      "outputs": []
    },
    {
      "cell_type": "markdown",
      "source": [
        "13. What are the benefits of using Python?"
      ],
      "metadata": {
        "id": "JUDq24CjANpl"
      }
    },
    {
      "cell_type": "markdown",
      "source": [
        "'''Answer 13 :-\n",
        "The benefits of python are\n",
        "Data science.\n",
        "Scientific and mathematical computing.\n",
        "Web development.\n",
        "Finance and trading.\n",
        "System automation and administration.\n",
        "Computer graphics.\n",
        "Basic game development.\n",
        "Security and penetration testing.'''\n"
      ],
      "metadata": {
        "id": "I3ZhQnFMqZBX"
      }
    },
    {
      "cell_type": "code",
      "source": [],
      "metadata": {
        "id": "W7ZsLMy1wXSk"
      },
      "execution_count": 25,
      "outputs": []
    },
    {
      "cell_type": "markdown",
      "source": [
        "14. How is memory managed in Python ?"
      ],
      "metadata": {
        "id": "yiXRy9tMAbOb"
      }
    },
    {
      "cell_type": "code",
      "source": [
        "''' Answer 14 :-\n",
        "Memory management in Python is handled by the Python memory manager,\n",
        "which is responsible for allocating and freeing up memory as needed.\n",
        " are some key aspects of memory management in Python:\n",
        "\n",
        " Automatic Memory Management,\n",
        "Garbage Collection,\n",
        "referance Counting ,\n",
        "Cycle Detector\n",
        "Memory Pools'''\n",
        "\n",
        "\n"
      ],
      "metadata": {
        "colab": {
          "base_uri": "https://localhost:8080/",
          "height": 54
        },
        "id": "_SAP-SYHwXVw",
        "outputId": "e7cb25c7-0abc-4c39-c401-29c44f362e97"
      },
      "execution_count": 26,
      "outputs": [
        {
          "output_type": "execute_result",
          "data": {
            "text/plain": [
              "' Answer 14 :-\\nMemory management in Python is handled by the Python memory manager,\\nwhich is responsible for allocating and freeing up memory as needed.\\n are some key aspects of memory management in Python:\\n\\n Automatic Memory Management,\\nGarbage Collection,\\nreferance Counting ,\\nCycle Detector\\nMemory Pools'"
            ],
            "application/vnd.google.colaboratory.intrinsic+json": {
              "type": "string"
            }
          },
          "metadata": {},
          "execution_count": 26
        }
      ]
    },
    {
      "cell_type": "code",
      "source": [],
      "metadata": {
        "id": "AaAz319wIgcg"
      },
      "execution_count": 26,
      "outputs": []
    },
    {
      "cell_type": "markdown",
      "source": [
        "15. How to install Python on Windows and set path variables?"
      ],
      "metadata": {
        "id": "NbABMg2jAtDi"
      }
    },
    {
      "cell_type": "markdown",
      "source": [
        "'''Answer 15 :-\n",
        "Few step follows python installation in windows:\n",
        "Go on any browser and search for python\n",
        "After downloading it .exit file click on install.\n",
        "and set the path variable while installation\n",
        "Right-clicking This PC and going to Properties.\n",
        "\n",
        "Clicking on the Advanced system settings in the menu on the left.\n",
        "\n",
        "Clicking on the Environment Variables button o​n the bottom right.\n",
        "\n",
        "In the System variables section, selecting the Path variable and clicking on Edit. The next screen will show all the directories that are currently a part of the PATH variable.\n",
        "\n",
        "Clicking on New and entering Python’s install directory.'''\n"
      ],
      "metadata": {
        "id": "Cl7DW1Wnq3cf"
      }
    },
    {
      "cell_type": "code",
      "source": [],
      "metadata": {
        "id": "-T4W-YP0wXYm"
      },
      "execution_count": 26,
      "outputs": []
    },
    {
      "cell_type": "markdown",
      "source": [
        "16. Is indentation required in python?"
      ],
      "metadata": {
        "id": "xznngOh1Cs7n"
      }
    },
    {
      "cell_type": "markdown",
      "source": [
        "'''Answer 16 :-\n",
        "Yes, indentation is required in Python. Python uses indentation to indicate the grouping of statements.\n",
        "for Example : print\n"
      ],
      "metadata": {
        "id": "fwVFfUissFxM"
      }
    },
    {
      "cell_type": "code",
      "source": [],
      "metadata": {
        "id": "SF_GlAKRCwDk"
      },
      "execution_count": 26,
      "outputs": []
    }
  ]
}