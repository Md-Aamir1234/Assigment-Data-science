{
  "nbformat": 4,
  "nbformat_minor": 0,
  "metadata": {
    "colab": {
      "provenance": []
    },
    "kernelspec": {
      "name": "python3",
      "display_name": "Python 3"
    },
    "language_info": {
      "name": "python"
    }
  },
  "cells": [
    {
      "cell_type": "markdown",
      "source": [
        "1. Whrite a programme to accept percentage from the user and display the grade according to the following criteria :"
      ],
      "metadata": {
        "id": "d7SgIAgClBlp"
      }
    },
    {
      "cell_type": "code",
      "source": [
        "marks = int(input(\"enter your number\"))\n",
        "if marks >= 90 :\n",
        "  print(\"you will be a part of A batch\")\n",
        "elif marks >=80 and marks < 90 :\n",
        "   print(\"you will be a part of B batch\")\n",
        "\n",
        "elif marks >= 60 and marks < 80 :\n",
        "   print(\"you will be a part of C batch\")\n",
        "\n",
        "else :\n",
        "   print(\"you will be a part of D batch\")"
      ],
      "metadata": {
        "id": "hDckg4QflpN0",
        "colab": {
          "base_uri": "https://localhost:8080/"
        },
        "outputId": "d9314f2b-f451-4104-b7a0-8c95ef43dcab"
      },
      "execution_count": 2,
      "outputs": [
        {
          "output_type": "stream",
          "name": "stdout",
          "text": [
            "enter your number85\n",
            "you will be a part of B batch\n"
          ]
        }
      ]
    },
    {
      "cell_type": "code",
      "source": [],
      "metadata": {
        "id": "lxCf3mbplp1Q"
      },
      "execution_count": null,
      "outputs": []
    },
    {
      "cell_type": "markdown",
      "source": [
        "2. Write a program to accept the cost price of a bike and display the road tax to be paid according to the following criteria :  "
      ],
      "metadata": {
        "id": "2vE87KrYnBm7"
      }
    },
    {
      "cell_type": "code",
      "source": [
        "#Ans-2:- Accept the cost price of bike and display road tax\n",
        "cost=int(input(\"Please enter your price of bike\"))\n",
        "if cost>100000:\n",
        "    print(\"Road tax to be paid 15%\")\n",
        "elif cost>50000 and cost<=100000:\n",
        "    print(\"Road tax to be paid 10%\")\n",
        "else:\n",
        "    print(\"Road tax to be paid 5%\")"
      ],
      "metadata": {
        "id": "0etl6HzUlp8l",
        "colab": {
          "base_uri": "https://localhost:8080/"
        },
        "outputId": "478e14bb-3d87-4fbd-f235-a2466354dfb2"
      },
      "execution_count": 22,
      "outputs": [
        {
          "output_type": "stream",
          "name": "stdout",
          "text": [
            "Please enter your price of bike130000\n",
            "Road tax to be paid 15%\n"
          ]
        }
      ]
    },
    {
      "cell_type": "code",
      "source": [],
      "metadata": {
        "id": "EsPVSGpsjpje"
      },
      "execution_count": 22,
      "outputs": []
    },
    {
      "cell_type": "markdown",
      "source": [
        "3. Check any city from the user and display monuments of that city."
      ],
      "metadata": {
        "id": "ErDO33V2nz56"
      }
    },
    {
      "cell_type": "code",
      "source": [
        "city = input(\"Enter city name to find monument\")\n",
        "city = city.lower()\n",
        "\n",
        "if city == \"agra\" :\n",
        "  print(\"Taj Mahal\")\n",
        "elif city == \"delhi\" :\n",
        "  print(\"Red fort\")\n",
        "\n",
        "elif city == \"jaipur\" :\n",
        "  print(\"Jai Mahal\")\n",
        "else :\n",
        "  print(\"please enter correct city name\")"
      ],
      "metadata": {
        "colab": {
          "base_uri": "https://localhost:8080/"
        },
        "id": "twzeJ39ElqCu",
        "outputId": "325d85e3-b457-4f2f-8098-e9511c111e50"
      },
      "execution_count": 6,
      "outputs": [
        {
          "output_type": "stream",
          "name": "stdout",
          "text": [
            "Enter city name to find monument\"Jai  Mahal\"\n",
            "correct city name\n"
          ]
        }
      ]
    },
    {
      "cell_type": "code",
      "source": [],
      "metadata": {
        "id": "2K1gvL0PPjGK"
      },
      "execution_count": null,
      "outputs": []
    },
    {
      "cell_type": "markdown",
      "source": [
        "4. Check how many times a given number can be divided by 3 before it is less than or equal to 10."
      ],
      "metadata": {
        "id": "6Dl9Mb_qoIwu"
      }
    },
    {
      "cell_type": "code",
      "source": [
        "# Answer 4 :-\n",
        "x = int(input(\"Enter the no.\"))\n",
        "count = 0\n",
        "while x >= 10 :\n",
        "  x = x/3\n",
        "  count= count +1\n",
        "print(int(count))"
      ],
      "metadata": {
        "id": "hD9FczbMlqJe",
        "colab": {
          "base_uri": "https://localhost:8080/"
        },
        "outputId": "499e7b97-322c-4128-dadc-313f6f33fc28"
      },
      "execution_count": 7,
      "outputs": [
        {
          "output_type": "stream",
          "name": "stdout",
          "text": [
            "Enter the no.10\n",
            "1\n"
          ]
        }
      ]
    },
    {
      "cell_type": "code",
      "source": [],
      "metadata": {
        "id": "XaspEiITPx7c"
      },
      "execution_count": null,
      "outputs": []
    },
    {
      "cell_type": "markdown",
      "source": [
        "5. Why and When to Use while loop in python give a detailed description with example."
      ],
      "metadata": {
        "id": "ZXTri_UCop2J"
      }
    },
    {
      "cell_type": "code",
      "source": [
        "#The \"while\" loop in Python is used to repeatedly execute a block of code as long as a given condition is true.\n",
        "sum = 0\n",
        "i = 1\n",
        "\n",
        "while i <= 10:\n",
        "    sum = sum + i\n",
        "    i = i + 1\n",
        "\n",
        "print(sum)\n"
      ],
      "metadata": {
        "colab": {
          "base_uri": "https://localhost:8080/"
        },
        "id": "LEOvotYCKgoX",
        "outputId": "45641ed0-df0f-443c-9c5c-20e13278f2e7"
      },
      "execution_count": 26,
      "outputs": [
        {
          "output_type": "stream",
          "name": "stdout",
          "text": [
            "55\n"
          ]
        }
      ]
    },
    {
      "cell_type": "code",
      "source": [],
      "metadata": {
        "id": "soNuX-YjKhA1"
      },
      "execution_count": null,
      "outputs": []
    },
    {
      "cell_type": "markdown",
      "source": [
        "6. Use nested while loop to print 3 different pattern."
      ],
      "metadata": {
        "id": "tj9eoEjLpK1M"
      }
    },
    {
      "cell_type": "code",
      "source": [
        "# Ans 6:- nested while loop to print 3 different pattern\n",
        "#Triangle pattern :\n",
        "rows = 5\n",
        "for i in range(1, rows +1 ) :\n",
        "  for j in range(1, i+1) :\n",
        "    print(\"*\", end=\" \")\n",
        "  print(\"\")\n",
        "\n",
        "#Pyramid pattern :\n",
        "rows = 5\n",
        "for i in range(1, rows +1) :\n",
        "  for j in range(rows -i) :\n",
        "    print(\" \",end= \"\")\n",
        "  for k in range(1,2*i) :\n",
        "    print(\"*\", end= \"\")\n",
        "  print(\"\")\n",
        "\n",
        "#Diamond patter :\n",
        "rows = 5\n",
        "for i in range(1, rows +1) :\n",
        "  for j in range(rows -i) :\n",
        "    print(\" \", end=\"\")\n",
        "  for k in range(1 ,2*i) :\n",
        "    print(\"*\", end= \"\")\n",
        "  print(\"\")\n",
        "\n",
        "for i in range(rows -1,0,-1) :\n",
        "  for j in range(rows - i) :\n",
        "    print(\" \", end= \"\")\n",
        "  for k in range(1 , 2 * i) :\n",
        "    print(\"*\" , end= \"\")\n",
        "  print(\"\")\n",
        "\n"
      ],
      "metadata": {
        "id": "2rJXprTCA3d8",
        "colab": {
          "base_uri": "https://localhost:8080/"
        },
        "outputId": "d3e40e40-239e-414a-87d8-d9df78e13b5d"
      },
      "execution_count": 13,
      "outputs": [
        {
          "output_type": "stream",
          "name": "stdout",
          "text": [
            "* \n",
            "* * \n",
            "* * * \n",
            "* * * * \n",
            "* * * * * \n",
            "    *\n",
            "   ***\n",
            "  *****\n",
            " *******\n",
            "*********\n",
            "    *\n",
            "   ***\n",
            "  *****\n",
            " *******\n",
            "*********\n",
            " *******\n",
            "  *****\n",
            "   ***\n",
            "    *\n"
          ]
        }
      ]
    },
    {
      "cell_type": "markdown",
      "source": [
        "7. Reverse a while loop to display number from 10 to 1."
      ],
      "metadata": {
        "id": "PMu-whn_pdRa"
      }
    },
    {
      "cell_type": "code",
      "source": [
        "i = 10\n",
        "while  i > 0 :\n",
        "  print(i)\n",
        "  i = i- 1"
      ],
      "metadata": {
        "id": "OOLnE4cslqU0",
        "colab": {
          "base_uri": "https://localhost:8080/"
        },
        "outputId": "f946e2d5-1f6d-4d7a-e07c-8a2525b5defb"
      },
      "execution_count": 15,
      "outputs": [
        {
          "output_type": "stream",
          "name": "stdout",
          "text": [
            "10\n",
            "9\n",
            "8\n",
            "7\n",
            "6\n",
            "5\n",
            "4\n",
            "3\n",
            "2\n",
            "1\n"
          ]
        }
      ]
    },
    {
      "cell_type": "markdown",
      "source": [
        "8. Reverse a while loop to display numbers from 10 to 1."
      ],
      "metadata": {
        "id": "XfrCS5VopwXY"
      }
    },
    {
      "cell_type": "code",
      "source": [
        "number = 10\n",
        "while number  >= 1 :\n",
        "  print(number)\n",
        "  number = number - 1"
      ],
      "metadata": {
        "id": "YyJDNp7MHbX0",
        "colab": {
          "base_uri": "https://localhost:8080/"
        },
        "outputId": "e5cf7b4b-b237-49cf-8ea0-03534c736aae"
      },
      "execution_count": 20,
      "outputs": [
        {
          "output_type": "stream",
          "name": "stdout",
          "text": [
            "10\n",
            "9\n",
            "8\n",
            "7\n",
            "6\n",
            "5\n",
            "4\n",
            "3\n",
            "2\n",
            "1\n"
          ]
        }
      ]
    },
    {
      "cell_type": "code",
      "source": [],
      "metadata": {
        "id": "UrPY9o2_PGFD"
      },
      "execution_count": null,
      "outputs": []
    }
  ]
}