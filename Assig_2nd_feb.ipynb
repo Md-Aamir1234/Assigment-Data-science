{
 "cells": [
  {
   "cell_type": "markdown",
   "id": "9ba2fa8b-76e6-4047-ab89-a1358046e010",
   "metadata": {},
   "source": [
    "Q1.  Explain with an example each when to use a for loop and a while loop.\n"
   ]
  },
  {
   "cell_type": "code",
   "execution_count": 1,
   "id": "e24f7114-3347-4a30-804c-dbab63859a77",
   "metadata": {},
   "outputs": [
    {
     "ename": "SyntaxError",
     "evalue": "invalid decimal literal (1786508759.py, line 1)",
     "output_type": "error",
     "traceback": [
      "\u001b[0;36m  Cell \u001b[0;32mIn[1], line 1\u001b[0;36m\u001b[0m\n\u001b[0;31m    1.When to use a for loop :\u001b[0m\n\u001b[0m     ^\u001b[0m\n\u001b[0;31mSyntaxError\u001b[0m\u001b[0;31m:\u001b[0m invalid decimal literal\n"
     ]
    }
   ],
   "source": [
    "1.When to use a for loop :\n",
    "    \n",
    "when you know the number of iteration :\n",
    "For loops are ideal when you know in  advance how many times you want to repeat a block of code. You specify the number of iteration using \n",
    " a counter or a range.\n",
    "    \n",
    "2. when to use a while loop :\n",
    "    \n",
    "when you don't known the number of iteration in advance : While loopa are  used when you want to repeat a block of code until a certain \n",
    "condition is met or becomes false . You may not know in advance how many iteration will be needed.\n",
    "When you need more complex looping conditions: While loop are most flexible for complex looping conditions because you can specify any \n",
    "Boolean expression as the condition."
   ]
  },
  {
   "cell_type": "markdown",
   "id": "e0979003-5223-4f59-bb16-964dfc59a03d",
   "metadata": {},
   "source": [
    "Q2.  Write a python program to print the sum and product of the first 10 natural numbers using for \n",
    "and while loop"
   ]
  },
  {
   "cell_type": "code",
   "execution_count": 2,
   "id": "83e0cf21-9b5b-4987-aba0-ce71d2549ccd",
   "metadata": {},
   "outputs": [
    {
     "name": "stdout",
     "output_type": "stream",
     "text": [
      "10\n",
      "19\n",
      "27\n",
      "34\n",
      "40\n",
      "45\n",
      "49\n",
      "52\n",
      "54\n",
      "55\n",
      "0\n",
      "1\n",
      "3\n",
      "6\n",
      "10\n",
      "15\n",
      "21\n",
      "28\n",
      "36\n",
      "45\n",
      "55\n"
     ]
    }
   ],
   "source": [
    "#program to find sum of 10 natural no. using while loop\n",
    "\n",
    "a  = 10 \n",
    "sum = 0\n",
    "while a > 0 :\n",
    "    sum = sum + a\n",
    "    a = a -1\n",
    "    print(sum)\n",
    "    \n",
    "# program to find sum of 10 natural no. using For loop\n",
    "\n",
    "s = 10 \n",
    "sum = 0 \n",
    "for i in range(s + 1) :\n",
    "    sum = sum + i\n",
    "    print(sum)"
   ]
  },
  {
   "cell_type": "markdown",
   "id": "389c2ed2-f1a8-48d8-bca3-0c36c40cf447",
   "metadata": {},
   "source": [
    "Q3. Create a python program to compute the electricity bill for a household.\n",
    "The per-unit charges in rupees are as follows: For the first 100 units, the user will be charged Rs. 4.5 per \n",
    "unit, for the next 100 units, the user will be charged Rs. 6 per unit, and for the next 100 units, the user will \n",
    "be charged Rs. 10 per unit, After 300 units and above the user will be charged Rs. 20 per unit.\n",
    "\n",
    "\n",
    "You are required to take the units of electricity consumed in a month from the user as input.\n",
    "\n",
    "\n",
    "Your program must pass this test case: when the unit of electricity consumed by the user in a month is \n",
    "310, the total electricity bill should be 2250."
   ]
  },
  {
   "cell_type": "code",
   "execution_count": 7,
   "id": "2c65302c-3651-493e-b5f1-b35d036fafef",
   "metadata": {},
   "outputs": [
    {
     "name": "stdin",
     "output_type": "stream",
     "text": [
      "Enter the unit to be consumed 310\n"
     ]
    },
    {
     "name": "stdout",
     "output_type": "stream",
     "text": [
      "2250\n"
     ]
    }
   ],
   "source": [
    "# Answer 3rd \n",
    "unit = int(input(\"Enter the unit to be consumed\"))\n",
    "cost = 0\n",
    "if unit/300 >= 1 :\n",
    "    cost = 2050 + (unit -300)*20\n",
    "    unit = 0 \n",
    "    \n",
    "elif unit/200 >= 1 :\n",
    "    cost = 1050 + (unit - 200)*10\n",
    "    unit = 0 \n",
    "    \n",
    "elif unit/100 >= 1 :\n",
    "    cost = 450 + (unit - 100)*6\n",
    "    unit = 0 \n",
    "    \n",
    "else :\n",
    "    cost = unit*4.5\n",
    "    \n",
    "print(cost)\n",
    "    \n",
    "    "
   ]
  },
  {
   "cell_type": "markdown",
   "id": "b518c177-2318-4a6b-b2f6-3f457c980d50",
   "metadata": {},
   "source": [
    "Q4. Create a list of numbers from 1 to 100. Use for loop and while loop to calculate the cube of each \n",
    "number and if the cube of that number is divisible by 4 or 5 then append that number in a list and print \n",
    "that list"
   ]
  },
  {
   "cell_type": "code",
   "execution_count": 12,
   "id": "3d5308f8-0c55-47bd-a3df-ed7c5efadae3",
   "metadata": {},
   "outputs": [],
   "source": [
    "#Answer 4\n",
    "# Using while loop and for loop \n",
    "\n",
    "l1 = []\n",
    "l2 = []\n",
    "i = 1\n",
    "while i <= 100 :\n",
    "    l1.append(i)\n",
    "    i = i + 1\n",
    "    \n",
    "l1 = [i*i*i for i in l1]\n",
    "for i in l1 :\n",
    "    if i % 4 == 0  or i %5 == 0 :\n",
    "        l2.append(i)"
   ]
  },
  {
   "cell_type": "markdown",
   "id": "c2d6fcf5-e8ed-4976-91cf-41f0b10a7a2e",
   "metadata": {},
   "source": [
    "Q5. Write a program to filter count vowels in the below-given string."
   ]
  },
  {
   "cell_type": "code",
   "execution_count": null,
   "id": "14575caf-b23d-41bf-a891-33f0fb21e698",
   "metadata": {},
   "outputs": [],
   "source": [
    "string = \"i want to become a data scientist\"\n",
    "vowels = ('a','e','i','o','u','A','E','I','O','U')\n",
    "for i in string :\n",
    "    for i in vowels :\n",
    "        string = string.replace(i,\"\")\n",
    "string"
   ]
  }
 ],
 "metadata": {
  "kernelspec": {
   "display_name": "Python 3 (ipykernel)",
   "language": "python",
   "name": "python3"
  },
  "language_info": {
   "codemirror_mode": {
    "name": "ipython",
    "version": 3
   },
   "file_extension": ".py",
   "mimetype": "text/x-python",
   "name": "python",
   "nbconvert_exporter": "python",
   "pygments_lexer": "ipython3",
   "version": "3.10.8"
  }
 },
 "nbformat": 4,
 "nbformat_minor": 5
}
