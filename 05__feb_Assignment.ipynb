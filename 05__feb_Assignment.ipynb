{
  "nbformat": 4,
  "nbformat_minor": 0,
  "metadata": {
    "colab": {
      "provenance": []
    },
    "kernelspec": {
      "name": "python3",
      "display_name": "Python 3"
    },
    "language_info": {
      "name": "python"
    }
  },
  "cells": [
    {
      "cell_type": "markdown",
      "source": [
        "Q1. Explain Class and Object with respect to Object-Oriented Programming. Give a suitable example."
      ],
      "metadata": {
        "id": "kO1KmZhW1VD7"
      }
    },
    {
      "cell_type": "markdown",
      "source": [
        "Answer:-**Class** is a blueprint of the object by the class we can create object in python .class is nothing but its just a classification of class or module and make a code is **structure** **way** ,**reusable**,**intance**,**optimise**,**modular**.if anyone wnats to contribute to the code ,they can, in a easiest possible way. class define over all of the object in general way not give a  **specific value** .class is a **resorve keyword** in python.\n",
        "\n",
        "And **object** is an instance of a class by the objects we can access the **methods and variables** of the classes.\n"
      ],
      "metadata": {
        "id": "yMTQB8aNznDW"
      }
    },
    {
      "cell_type": "code",
      "source": [
        "class data_science :\n",
        "  def welcome_msg(self) :\n",
        "    print(\"welcome to pwskills impact batch 2.0\")"
      ],
      "metadata": {
        "id": "rb725o1L1OXq"
      },
      "execution_count": 1,
      "outputs": []
    },
    {
      "cell_type": "code",
      "source": [
        "amit = data_science()"
      ],
      "metadata": {
        "id": "t7ywEjaN_PkW"
      },
      "execution_count": 2,
      "outputs": []
    },
    {
      "cell_type": "code",
      "source": [
        "amit.welcome_msg()"
      ],
      "metadata": {
        "colab": {
          "base_uri": "https://localhost:8080/"
        },
        "id": "HojZkI-M_Pnw",
        "outputId": "5ba0fe28-fd1e-486f-8df4-9e994b2a0947"
      },
      "execution_count": 3,
      "outputs": [
        {
          "output_type": "stream",
          "name": "stdout",
          "text": [
            "welcome to pwskills impact batch 2.0\n"
          ]
        }
      ]
    },
    {
      "cell_type": "markdown",
      "source": [
        "Q2. Name the four pillars of OOPs.\n"
      ],
      "metadata": {
        "id": "l-1eSFL71dIa"
      }
    },
    {
      "cell_type": "markdown",
      "source": [
        "Answer :- 1. Inheritance\n",
        "          2.Polymorphism\n",
        "          3.Abstraction\n",
        "          4.Encapsulation"
      ],
      "metadata": {
        "id": "CHXa-bhRBNg4"
      }
    },
    {
      "cell_type": "code",
      "source": [],
      "metadata": {
        "id": "AM-xcYmf1ObX"
      },
      "execution_count": 3,
      "outputs": []
    },
    {
      "cell_type": "markdown",
      "source": [
        "Q3. Explain why the __init__() function is used. Give a suitable example."
      ],
      "metadata": {
        "id": "mY-9tx1g1i5b"
      }
    },
    {
      "cell_type": "code",
      "source": [],
      "metadata": {
        "id": "BlQtO4UJ1Oti"
      },
      "execution_count": 3,
      "outputs": []
    },
    {
      "cell_type": "markdown",
      "source": [
        "Answer- **init()** function is used to create a cunstructor of a class that will automatically assign the values when the object id created\n",
        "if the init() function takes some argument that is passed in class while object is created."
      ],
      "metadata": {
        "id": "-yNp6hOACIfX"
      }
    },
    {
      "cell_type": "code",
      "source": [
        "class A :\n",
        "  def __init__(self, x,y) :\n",
        "    self.x = x\n",
        "    self.y = y\n",
        "  def return_details(self) :\n",
        "    return self.x , self.y\n",
        "a =A(1,5)"
      ],
      "metadata": {
        "id": "Gm7kmWEC1OxE"
      },
      "execution_count": 4,
      "outputs": []
    },
    {
      "cell_type": "code",
      "source": [
        "a.return_details()"
      ],
      "metadata": {
        "colab": {
          "base_uri": "https://localhost:8080/"
        },
        "id": "_7ldXJoUDGEI",
        "outputId": "4a77c750-4920-4938-9f6e-69f868c1cec9"
      },
      "execution_count": 5,
      "outputs": [
        {
          "output_type": "execute_result",
          "data": {
            "text/plain": [
              "(1, 5)"
            ]
          },
          "metadata": {},
          "execution_count": 5
        }
      ]
    },
    {
      "cell_type": "markdown",
      "source": [
        "Q4. Why self is used in OOPs?"
      ],
      "metadata": {
        "id": "rT4Xal041qKd"
      }
    },
    {
      "cell_type": "markdown",
      "source": [
        "Answere-The self is used to represent the instance of the class. With this keyword, you can access the\n",
        "attributes and methods of the class in python. It binds the attributes with the given arguments.\n",
        "The reason why we use self is that Python does not use the '@' syntax to refer to instance attributes'''\n"
      ],
      "metadata": {
        "id": "0uQAuyOHDiPx"
      }
    },
    {
      "cell_type": "markdown",
      "source": [
        "Q5. What is inheritance? Give an example for each type of inheritance.\n"
      ],
      "metadata": {
        "id": "MSOMkZyr1xtk"
      }
    },
    {
      "cell_type": "markdown",
      "source": [
        "Answer-In object-oriented programming, **inheritance** is the mechanism of basing an object or class upon another object or\n",
        "class, retaining similar implementation. Also defined as deriving new classes from existing ones such as super class or\n",
        "base class and then forming them into a hierarchy of classes.\n"
      ],
      "metadata": {
        "id": "8LKhPqFSD5NG"
      }
    },
    {
      "cell_type": "code",
      "source": [
        "class class1 :\n",
        "  def test_class1(self) :\n",
        "    return \"this is inside a class1\""
      ],
      "metadata": {
        "id": "PTUgcQsZ1O9A"
      },
      "execution_count": 6,
      "outputs": []
    },
    {
      "cell_type": "code",
      "source": [
        "class class2 :\n",
        "  def test_class2(self) :\n",
        "    return \"this is inside a class2\""
      ],
      "metadata": {
        "id": "ku9Ord6G1PAH"
      },
      "execution_count": 7,
      "outputs": []
    },
    {
      "cell_type": "code",
      "source": [
        "class class3(class1 , class2) :\n",
        "  pass"
      ],
      "metadata": {
        "id": "iQJzNAqH1PDl"
      },
      "execution_count": 8,
      "outputs": []
    },
    {
      "cell_type": "code",
      "source": [
        "obj_class3 = class3()"
      ],
      "metadata": {
        "id": "PPFKCKgIZeMs"
      },
      "execution_count": 9,
      "outputs": []
    },
    {
      "cell_type": "code",
      "source": [
        "obj_class3.test_class1()"
      ],
      "metadata": {
        "colab": {
          "base_uri": "https://localhost:8080/",
          "height": 36
        },
        "id": "zwYMO_COZkxc",
        "outputId": "5b86c77c-f14d-432b-9ef9-58ef3d15dbfb"
      },
      "execution_count": 10,
      "outputs": [
        {
          "output_type": "execute_result",
          "data": {
            "text/plain": [
              "'this is inside a class1'"
            ],
            "application/vnd.google.colaboratory.intrinsic+json": {
              "type": "string"
            }
          },
          "metadata": {},
          "execution_count": 10
        }
      ]
    },
    {
      "cell_type": "code",
      "source": [
        "obj_class3.test_class2()"
      ],
      "metadata": {
        "colab": {
          "base_uri": "https://localhost:8080/",
          "height": 36
        },
        "id": "8umO3wsFZ06u",
        "outputId": "172b6b18-61f2-485f-a195-51a2d790dcd5"
      },
      "execution_count": 11,
      "outputs": [
        {
          "output_type": "execute_result",
          "data": {
            "text/plain": [
              "'this is inside a class2'"
            ],
            "application/vnd.google.colaboratory.intrinsic+json": {
              "type": "string"
            }
          },
          "metadata": {},
          "execution_count": 11
        }
      ]
    },
    {
      "cell_type": "code",
      "source": [],
      "metadata": {
        "id": "Ny2y_c08jlS0"
      },
      "execution_count": null,
      "outputs": []
    },
    {
      "cell_type": "markdown",
      "source": [
        "This code can also be written in another way say sudhanshu sir say as far as you can think in the code so i do lot permutation combination. so write this content."
      ],
      "metadata": {
        "id": "OUHT_G50jmYB"
      }
    },
    {
      "cell_type": "code",
      "source": [
        "class class1 :\n",
        "  def test_class1(self) :\n",
        "    return \"this is inside a data class1\"\n",
        "\n",
        "class class2 :\n",
        "  def test_class2(self) :\n",
        "    return \"this is inside a data class2\"\n",
        "\n",
        "class class3(class1 ,class2) :\n",
        "  pass\n"
      ],
      "metadata": {
        "id": "VX2E3uHBZ448"
      },
      "execution_count": 12,
      "outputs": []
    },
    {
      "cell_type": "code",
      "source": [
        "obj_class3 = class3()"
      ],
      "metadata": {
        "id": "OdF3er5Cb6Pi"
      },
      "execution_count": 13,
      "outputs": []
    },
    {
      "cell_type": "code",
      "source": [
        "obj_class3.test_class1()"
      ],
      "metadata": {
        "colab": {
          "base_uri": "https://localhost:8080/",
          "height": 36
        },
        "id": "UVV_pR_ecO9o",
        "outputId": "bb06fc2d-fef4-4889-acab-6bb26d0c7cdd"
      },
      "execution_count": 14,
      "outputs": [
        {
          "output_type": "execute_result",
          "data": {
            "text/plain": [
              "'this is inside a data class1'"
            ],
            "application/vnd.google.colaboratory.intrinsic+json": {
              "type": "string"
            }
          },
          "metadata": {},
          "execution_count": 14
        }
      ]
    },
    {
      "cell_type": "code",
      "source": [
        "obj_class3.test_class2()"
      ],
      "metadata": {
        "colab": {
          "base_uri": "https://localhost:8080/",
          "height": 36
        },
        "id": "Ikknzog5cbk_",
        "outputId": "b88a7776-b023-4d29-9192-57f491602957"
      },
      "execution_count": 15,
      "outputs": [
        {
          "output_type": "execute_result",
          "data": {
            "text/plain": [
              "'this is inside a data class2'"
            ],
            "application/vnd.google.colaboratory.intrinsic+json": {
              "type": "string"
            }
          },
          "metadata": {},
          "execution_count": 15
        }
      ]
    },
    {
      "cell_type": "code",
      "source": [],
      "metadata": {
        "id": "frbrzNdJcjgP"
      },
      "execution_count": 15,
      "outputs": []
    }
  ]
}