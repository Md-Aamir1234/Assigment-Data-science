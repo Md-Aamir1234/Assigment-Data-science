{
  "nbformat": 4,
  "nbformat_minor": 0,
  "metadata": {
    "colab": {
      "provenance": []
    },
    "kernelspec": {
      "name": "python3",
      "display_name": "Python 3"
    },
    "language_info": {
      "name": "python"
    }
  },
  "cells": [
    {
      "cell_type": "markdown",
      "source": [
        "Q1. What is Abstraction in OOps? Explain with an example."
      ],
      "metadata": {
        "id": "2VcNroXgCb3_"
      }
    },
    {
      "cell_type": "markdown",
      "source": [
        "In object-oriented programming (OOP), abstraction is a fundamental concept that involves simplifying complex systems by modeling classes based on the essential properties and behaviors they exhibit. It is the process of hiding the complex implementation details and showing only the relevant features of an object.\n",
        "\n",
        "Abstraction allows programmers to focus on the essential aspects of an object and ignore the non-essential details. This helps in managing the complexity of large software systems by breaking them down into smaller, more manageable parts.\n",
        "\n",
        "\n"
      ],
      "metadata": {
        "id": "ztLnh4vo77Ft"
      }
    },
    {
      "cell_type": "markdown",
      "source": [
        " It seems like you want to create a class with a **skeleton function that includes the definition for student_details and student_assignments,and student_marks. You also want to use the Abstract Base Classes import abc** module in Python to allow this class or function to be inherited or called in another class. Here is an example in Python:\n",
        "\n"
      ],
      "metadata": {
        "id": "NyUjBr5LdVR8"
      }
    },
    {
      "cell_type": "markdown",
      "source": [
        "It sounds like you want to create a new class and function called **Student_Details**, which will call a function named pwskills within small brackets. This entire **skeleton function should be inherited and made abstract in a new class. Additionally, you want to add your own functions within the Student_Details class**. Here's an example in Python:"
      ],
      "metadata": {
        "id": "Mkamm17tmtvF"
      }
    },
    {
      "cell_type": "markdown",
      "source": [
        "It looks like you want to create a variable named sd and assign it the result of calling the **student_details()** function. When you invoke sd.**student_details()**, you expect to retrieve data as an outcome."
      ],
      "metadata": {
        "id": "6XGz1OhV-pdP"
      }
    },
    {
      "cell_type": "code",
      "source": [],
      "metadata": {
        "id": "rmsDWJzf-oWC"
      },
      "execution_count": null,
      "outputs": []
    },
    {
      "cell_type": "code",
      "source": [
        "import abc\n",
        "class pwskills :\n",
        "  @abc.abstractmethod\n",
        "  def student_details (self) :\n",
        "    pass\n",
        "  @abc.abstractmethod\n",
        "  def student_assignment(self) :\n",
        "    pass\n",
        "  @abc.abstractmethod\n",
        "  def student_marks(self) :\n",
        "    pass"
      ],
      "metadata": {
        "id": "J2j9DNt_CU4e"
      },
      "execution_count": 2,
      "outputs": []
    },
    {
      "cell_type": "code",
      "source": [
        "class student_details(pwskills) :\n",
        "\n",
        "  def student_details(self) :\n",
        "    return \"this is a meth for student details\"\n",
        "  def student_assignment (self) :\n",
        "    return \"this is a meth for assing details for a particulae student\""
      ],
      "metadata": {
        "id": "2iUC2kf573WF"
      },
      "execution_count": 3,
      "outputs": []
    },
    {
      "cell_type": "code",
      "source": [
        "sd = student_details()\n",
        "sd.student_details()"
      ],
      "metadata": {
        "colab": {
          "base_uri": "https://localhost:8080/",
          "height": 36
        },
        "id": "kfhRAt7A73ZT",
        "outputId": "33d0d29e-eacb-4250-dd0b-15776b117f94"
      },
      "execution_count": 4,
      "outputs": [
        {
          "output_type": "execute_result",
          "data": {
            "text/plain": [
              "'this is a meth for student details'"
            ],
            "application/vnd.google.colaboratory.intrinsic+json": {
              "type": "string"
            }
          },
          "metadata": {},
          "execution_count": 4
        }
      ]
    },
    {
      "cell_type": "code",
      "source": [],
      "metadata": {
        "id": "b91xCT-v73d0"
      },
      "execution_count": 4,
      "outputs": []
    },
    {
      "cell_type": "markdown",
      "source": [
        "VQ2. Differentiate between Abstraction and Encapsulation. Explain with an example.\n"
      ],
      "metadata": {
        "id": "HPGpPbP0Ch5I"
      }
    },
    {
      "cell_type": "markdown",
      "source": [
        "answer2:-\n",
        "Abstraction:\n",
        "\n",
        "Definition: **Abstraction** is the process of simplifying complex systems by modeling classes based on the essential properties and behaviors they possess, while ignoring or hiding the irrelevant details.\n",
        "Purpose: It helps in managing complexity by providing a clear separation between what something does and how it achieves that functionality.\n",
        "Example:\n"
      ],
      "metadata": {
        "id": "Ik0FZOlhq7UV"
      }
    },
    {
      "cell_type": "code",
      "source": [
        "from  abc import ABC, abstractmethod\n",
        "\n",
        "class shape(ABC) :\n",
        "  @abstractmethod\n",
        "  def car_details(self) :\n",
        "    return \"this is model of hycross Toyota brand car\"\n",
        "  def student_attendance(self) :\n",
        "    return \"average attendance in 6th class 80%\""
      ],
      "metadata": {
        "id": "O1foSTBkCU7-"
      },
      "execution_count": 7,
      "outputs": []
    },
    {
      "cell_type": "code",
      "source": [
        "# Encapsulation:\n",
        "\n",
        "'''Definition: Encapsulation is the bundling of data (attributes) and methods that operate on the data into a single unit or class.\n",
        "It restricts direct access to some of an object's components and can prevent the accidental modification of data.Encapsulation is just capsulate data in\n",
        " enternal structure and keep a data in private no anyone can change the data or access or mutate the date.\n",
        "always prevent the modification of data .\n",
        "Purpose: It helps in data hiding, promoting modularity, and protecting the internal state of an object from external interference.\n",
        "Example'''\n",
        "\n",
        "class car :\n",
        "  def __init__(self,year,make,model,speed) :\n",
        "    self.__year = year\n",
        "    self.__make = make\n",
        "    self.__model = model\n",
        "    self.__speed = 0\n",
        "\n",
        "  def set_speed(self, speed) :\n",
        "    self.__speed = 0 if speed < 0 else speed\n",
        "\n",
        "  def get_speed(self) :\n",
        "    return self.__speed"
      ],
      "metadata": {
        "id": "y6fhJVhSq6Q5"
      },
      "execution_count": 18,
      "outputs": []
    },
    {
      "cell_type": "code",
      "source": [
        "c = car(2023,\"toyota\",\"verna\",145)"
      ],
      "metadata": {
        "id": "uPhLkbITq6Ts"
      },
      "execution_count": 16,
      "outputs": []
    },
    {
      "cell_type": "code",
      "source": [
        "c._car__year"
      ],
      "metadata": {
        "colab": {
          "base_uri": "https://localhost:8080/"
        },
        "id": "jxktnM9yq6bQ",
        "outputId": "c43a8f27-95d5-4a7b-cd4b-ff5b7c34bdc3"
      },
      "execution_count": 17,
      "outputs": [
        {
          "output_type": "execute_result",
          "data": {
            "text/plain": [
              "2023"
            ]
          },
          "metadata": {},
          "execution_count": 17
        }
      ]
    },
    {
      "cell_type": "code",
      "source": [],
      "metadata": {
        "id": "sEg2s_wE_ZOf"
      },
      "execution_count": null,
      "outputs": []
    },
    {
      "cell_type": "markdown",
      "source": [
        "Q3. What is abc module in python? Why is it used?"
      ],
      "metadata": {
        "id": "P3jB_un70WuK"
      }
    },
    {
      "cell_type": "markdown",
      "source": [
        "The **abc module** in Python stands for \"Abstract Base Classes.\" It provides a mechanism for defining abstract base classes in Python. Abstract base classes are classes that cannot be instantiated themselves but are meant to be subclassed by other classes. They allow you to define a common interface that must be implemented by all subclasses.\n",
        "\n",
        "**Here are key aspects of the abc module and why it is used:**\n",
        "\n",
        "**Abstract Base Class (ABC):**\n",
        "\n",
        "The abc module allows you to define abstract base classes using the ABC metaclass.\n",
        "Abstract base classes can have abstract methods, which are declared but not implemented in the base class.\n",
        "\n",
        "**@abstractmethod Decorator:**\n",
        "\n",
        "The @abstractmethod decorator is used to declare abstract methods within an abstract base class. Subclasses are required to provide concrete implementations for these abstract methods.\n",
        "\n",
        "**Enforcement of Interface:**\n",
        "\n",
        "ABCs help in enforcing a common interface across multiple classes. This ensures that all subclasses adhere to a set of methods defined in the abstract base class.\n",
        "\n",
        "**Code Contracts:**\n",
        "\n",
        "ABCs can be seen as a form of code contract, specifying what methods must be implemented by the subclasses. This improves code reliability and maintainability.\n",
        "\n",
        "**Polymorphism:**\n",
        "\n",
        "ABCs facilitate polymorphism by allowing objects of different classes to be treated as objects of a common base class. This is particularly useful when working with a collection of objects that share a common interface.\n"
      ],
      "metadata": {
        "id": "CrMnu_vh04D6"
      }
    },
    {
      "cell_type": "code",
      "source": [],
      "metadata": {
        "id": "Kop9fQUj0Vju"
      },
      "execution_count": null,
      "outputs": []
    },
    {
      "cell_type": "markdown",
      "source": [
        "Q4. How can we achieve data abstraction?\n"
      ],
      "metadata": {
        "id": "qZDKbZpsCvEo"
      }
    },
    {
      "cell_type": "markdown",
      "source": [
        "Answer 4:-\n",
        "**Data abstraction** in programming refers to the concept of hiding the complex implementation details of data structures while exposing only the essential features or properties. This allows you to focus on what an object does rather than how it achieves its functionality. In Python, you can achieve data abstraction through the following mechanisms:\n",
        "\n",
        "**Classes and Objects:**\n",
        "\n",
        "Use classes to represent abstract data types and objects to represent instances of those types.\n",
        "Encapsulate data within class attributes and provide methods to interact with that data.\n",
        "\n",
        "**Encapsulation:**\n",
        "\n",
        "Encapsulate data by making attributes private or protected, and provide controlled access through methods (getters and setters).\n",
        "Abstract Base Classes (ABCs):\n",
        "\n",
        "Use the abc module to create abstract base classes, defining a common interface that must be implemented by subclasses.\n",
        "\n",
        "**Abstract Base Classes (ABCs):**\n",
        "\n",
        "Use the abc module to create abstract base classes, defining a common interface that must be implemented by subclasses.\n",
        "\n",
        "**Polymorphism:**\n",
        "\n",
        "Leverage polymorphism to treat objects of different classes that share a common interface in a uniform way.\n",
        "\n",
        "\n",
        "\n",
        "\n",
        "\n",
        "\n"
      ],
      "metadata": {
        "id": "aP2SWUFf3HmJ"
      }
    },
    {
      "cell_type": "code",
      "source": [],
      "metadata": {
        "id": "vdwG7J803Ghz"
      },
      "execution_count": null,
      "outputs": []
    },
    {
      "cell_type": "markdown",
      "source": [
        "Q5. Can we create an instance of an abstract class? Explain your answer."
      ],
      "metadata": {
        "id": "vpYDyVJdCy_8"
      }
    },
    {
      "cell_type": "code",
      "source": [],
      "metadata": {
        "id": "2pvzTWgBCVHv"
      },
      "execution_count": 4,
      "outputs": []
    },
    {
      "cell_type": "markdown",
      "source": [
        "\n",
        "No, you cannot create an instance of an abstract class in Python. Abstract classes are meant to be incomplete and serve as a blueprint for other classes to inherit from. They often contain abstract methods, which are declared but not implemented in the abstract class itself. The purpose of abstract classes is to define a common interface that must be implemented by their concrete subclasses.\n",
        "\n",
        "In Python, abstract classes are created using the ABC (Abstract Base Class) module. Abstract methods within an abstract class are marked using the @abstractmethod decorator, indicating that concrete subclasses must provide implementations for these methods.\n",
        "\n"
      ],
      "metadata": {
        "id": "VU0IVlrX6LoW"
      }
    },
    {
      "cell_type": "code",
      "source": [
        "from abc import ABC , abstractmethod\n",
        "\n",
        "class MyAbstractClass(ABC) :\n",
        "  @abstractmethod\n",
        "  def abstract_method (self) :\n",
        "    pass\n",
        "\n",
        "# Attempting to create an instance of an abstract class so\n",
        "# instance = MyAbstractClass()\n",
        " # This will raise a TypeError\n"
      ],
      "metadata": {
        "id": "5Qs1TOG5CWGB"
      },
      "execution_count": 21,
      "outputs": []
    },
    {
      "cell_type": "code",
      "source": [],
      "metadata": {
        "id": "8F08_Yx9BFhX"
      },
      "execution_count": null,
      "outputs": []
    }
  ]
}